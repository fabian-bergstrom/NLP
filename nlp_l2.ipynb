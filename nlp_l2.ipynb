{
  "cells": [
    {
      "cell_type": "markdown",
      "metadata": {
        "id": "Ip4B1AtylXmy"
      },
      "source": [
        "# L2: Word representations"
      ]
    },
    {
      "cell_type": "markdown",
      "metadata": {
        "id": "gRER7cWslXm3"
      },
      "source": [
        "In this lab you will implement the **skip-gram model with negative sampling (SGNS)** from Lecture&nbsp;2.4, and use it to train word embeddings on the text of the [Simple English Wikipedia](https://simple.wikipedia.org/wiki/Main_Page).\n",
        "\n",
        "⚠️ The dataset for this lab contains 18M tokens. This is very little as far as word embedding datasets are concerned – for example, the original word2vec model was pre-trained on 100B tokens. In spite of this, you will need to think about efficiency when processing the data and training your models. In particular, wherever possible you should use iterators rather than lists, and vectorize operations (using [NumPy](https://numpy.org) or [PyTorch](https://pytorch.org)) as much as possible."
      ]
    },
    {
      "cell_type": "code",
      "source": [
        "from google.colab import drive"
      ],
      "metadata": {
        "id": "jGvzmyWplfAe"
      },
      "execution_count": 103,
      "outputs": []
    },
    {
      "cell_type": "code",
      "source": [
        "drive.mount('/content/drive')"
      ],
      "metadata": {
        "colab": {
          "base_uri": "https://localhost:8080/"
        },
        "id": "4cN8hde9lhpW",
        "outputId": "d6ec544c-d8d1-4a8c-f735-e1c9d2b2f5d2"
      },
      "execution_count": 104,
      "outputs": [
        {
          "output_type": "stream",
          "name": "stdout",
          "text": [
            "Drive already mounted at /content/drive; to attempt to forcibly remount, call drive.mount(\"/content/drive\", force_remount=True).\n"
          ]
        }
      ]
    },
    {
      "cell_type": "code",
      "source": [
        "import torch"
      ],
      "metadata": {
        "id": "fx2Yky4llsX8"
      },
      "execution_count": 105,
      "outputs": []
    },
    {
      "cell_type": "code",
      "source": [
        "device = torch.device('cuda' if torch.cuda.is_available() else 'cpu')\n",
        "device"
      ],
      "metadata": {
        "id": "j-gDY_rtlw9y",
        "colab": {
          "base_uri": "https://localhost:8080/"
        },
        "outputId": "e9b3d030-9779-4b90-dbd9-a17937f7f8ea"
      },
      "execution_count": 106,
      "outputs": [
        {
          "output_type": "execute_result",
          "data": {
            "text/plain": [
              "device(type='cuda')"
            ]
          },
          "metadata": {},
          "execution_count": 106
        }
      ]
    },
    {
      "cell_type": "markdown",
      "metadata": {
        "id": "RYRDZ2j7lXm5"
      },
      "source": [
        "## Load the data"
      ]
    },
    {
      "cell_type": "markdown",
      "metadata": {
        "id": "w68YweHKlXm6"
      },
      "source": [
        "The data for this lab comes as a bz2-compressed plain text file. It consists of 1,163,769 sentences, with one sentence per line and tokens separated by spaces. The cell below contains a wrapper class `SimpleWikiDataset` that can be used to iterate over the sentences (lines) in the text file. On the Python side of things, each sentence is represented as a list of tokens (strings)."
      ]
    },
    {
      "cell_type": "code",
      "execution_count": 107,
      "metadata": {
        "id": "R2QT0I9GlXm7"
      },
      "outputs": [],
      "source": [
        "import bz2\n",
        "\n",
        "class SimpleWikiDataset():\n",
        "\n",
        "    def __init__(self, max_sentences=None):\n",
        "        self.max_sentences = max_sentences\n",
        "\n",
        "    def __iter__(self):\n",
        "        with bz2.open('/content/drive/MyDrive/tdde09/lab2/simplewiki.txt.bz2', 'rt', encoding='utf-8') as sentences:\n",
        "            for i, sentence in enumerate(sentences):\n",
        "                if self.max_sentences and i >= self.max_sentences:\n",
        "                    break\n",
        "                yield sentence.split()"
      ]
    },
    {
      "cell_type": "markdown",
      "metadata": {
        "id": "uzgsK9yAlXm9"
      },
      "source": [
        "Using this class, we define two variants of the dataset: the full dataset and a minimal version with the first 1% of the sentences in the full dataset. The latter will be useful to test code without running it on the full dataset."
      ]
    },
    {
      "cell_type": "code",
      "execution_count": 108,
      "metadata": {
        "id": "RdCPcXkvlXm-"
      },
      "outputs": [],
      "source": [
        "# Dataset with all sentences (N = 1,163,769)\n",
        "full_dataset = SimpleWikiDataset()\n",
        "\n",
        "# Minimal dataset\n",
        "mini_dataset = SimpleWikiDataset(max_sentences=11638)"
      ]
    },
    {
      "cell_type": "markdown",
      "metadata": {
        "id": "Bmqh_0bSlXm_"
      },
      "source": [
        "The next code cell defines a generator function that allows you to iterate over all tokens in a dataset:"
      ]
    },
    {
      "cell_type": "code",
      "execution_count": 109,
      "metadata": {
        "id": "HgL_r0MUlXnA"
      },
      "outputs": [],
      "source": [
        "def tokens(sentences):\n",
        "    for sentence in sentences:\n",
        "        for token in sentence:\n",
        "            yield token"
      ]
    },
    {
      "cell_type": "markdown",
      "metadata": {
        "id": "uDtXYCM5lXnB"
      },
      "source": [
        "To illustrate how to use this function, here is code that prints the number of tokens in the full dataset:"
      ]
    },
    {
      "cell_type": "code",
      "execution_count": 110,
      "metadata": {
        "colab": {
          "base_uri": "https://localhost:8080/"
        },
        "id": "EEH3Y1t7lXnC",
        "outputId": "76596e2a-e9da-490a-998f-95371da8ee77"
      },
      "outputs": [
        {
          "output_type": "stream",
          "name": "stdout",
          "text": [
            "17594885\n"
          ]
        }
      ],
      "source": [
        "print(sum(1 for t in tokens(full_dataset)))"
      ]
    },
    {
      "cell_type": "markdown",
      "metadata": {
        "id": "nYX74S-slXnC"
      },
      "source": [
        "## Problem 1: Build the vocabulary and frequency table"
      ]
    },
    {
      "cell_type": "markdown",
      "metadata": {
        "id": "-4T6QAd2lXnD"
      },
      "source": [
        "Your first task is to construct the embedding **vocabulary** – the set of unique words that will receive an embedding. Because you will eventually need to map words to vector dimensions, you will represent the vocabulary as a dictionary that maps words (strings) to a contiguous range of integers.\n",
        "\n",
        "Along with the vocabulary, you will also construct the **frequency table**, that is, the table that holds the absolute frequencies (counts) in the data, for all words in your vocabulary. This will simply be an array of integers, indexed by the word ids in the vocabulary."
      ]
    },
    {
      "cell_type": "markdown",
      "metadata": {
        "id": "zNlzV4gTlXnD"
      },
      "source": [
        "To construct the vocabulary and the frequency table, complete the skeleton code in the cell below:"
      ]
    },
    {
      "cell_type": "code",
      "execution_count": 111,
      "metadata": {
        "id": "yRn_DReTlXnE"
      },
      "outputs": [],
      "source": [
        "import numpy as np\n",
        "\n",
        "def make_vocab_and_counts(sentences, min_count=5):\n",
        "    word_counts = {}\n",
        "    vocab = {}\n",
        "    counts = []\n",
        "    for word in tokens(sentences):\n",
        "      if word in word_counts:\n",
        "        word_counts[word] += 1\n",
        "      else:\n",
        "        word_counts[word] = 1\n",
        "\n",
        "    for word, count in word_counts.items():\n",
        "      if count >= min_count:\n",
        "        vocab[word] = len(vocab)\n",
        "        counts.append(count)\n",
        "\n",
        "    return vocab, np.array(counts)"
      ]
    },
    {
      "cell_type": "markdown",
      "metadata": {
        "id": "V_dU-jeVlXnE"
      },
      "source": [
        "Your code should comply with the following specification:\n",
        "\n",
        "**make_vocab_and_counts** (*sentences*, *min_count* = 5)\n",
        "\n",
        "> Reads from an iterable of *sentences* (lists of string tokens) and returns a pair *vocab*, *counts* where *vocab* is a dictionary representing the vocabulary and *counts* is a 1D-[ndarray](https://numpy.org/doc/stable/reference/generated/numpy.ndarray.html) with the absolute frequencies (counts) of the words in the vocabulary. The dictionary *vocab* maps words to a contiguous range of integers starting at&nbsp;0. In the *counts* array, the entry at index $i$ is the count of that word in *vocab* which maps to $i$. Words that occur less than *min_count* times are excluded from the vocabulary."
      ]
    },
    {
      "cell_type": "markdown",
      "metadata": {
        "id": "GDeg8J8KlXnF"
      },
      "source": [
        "### 🤞 Test your code\n",
        "\n",
        "To test your code, print the sizes of the vocabularies constructed from the two datasets, as well as the count totals. The correct vocabulary size for the minimal dataset is 3,231; for the full dataset, the correct vocabulary size is 73,339. The correct totals are 155,818 for the minimal dataset and 17,297,355 for the full dataset."
      ]
    },
    {
      "cell_type": "code",
      "execution_count": 112,
      "metadata": {
        "colab": {
          "base_uri": "https://localhost:8080/"
        },
        "id": "RMqgjaLolXnG",
        "outputId": "ef98ef23-c5cd-4870-aaf0-e1c58fc4be03"
      },
      "outputs": [
        {
          "output_type": "stream",
          "name": "stdout",
          "text": [
            "3231\n",
            "3231\n"
          ]
        }
      ],
      "source": [
        "vocab = make_vocab_and_counts(mini_dataset)[0]\n",
        "counts = make_vocab_and_counts(mini_dataset)[1]\n",
        "print(len(vocab))\n",
        "print(len(counts))\n"
      ]
    },
    {
      "cell_type": "markdown",
      "metadata": {
        "id": "10wART8MlXnG"
      },
      "source": [
        "## Problem 2: Preprocess the data"
      ]
    },
    {
      "cell_type": "markdown",
      "metadata": {
        "id": "Kj6nKHpHlXnH"
      },
      "source": [
        "Your next task is to preprocess the training data. This involves the following:\n",
        "\n",
        "* Discard words that are not in the vocabulary\n",
        "* Map each word to its vocabulary id\n",
        "* Randomly discard words according to the subsampling strategy covered in Lecture&nbsp;2.4\n",
        "* Discard sentences that have become empty\n",
        "\n",
        "As a reminder, the subsampling strategy involves discarding tokens $w$ with probability\n",
        "\n",
        "$$\n",
        "P(w) = \\max (0, 1-\\sqrt{tN/\\#(w)})\n",
        "$$\n",
        "\n",
        "where $\\#(w)$ is the count of $w$, $N$ is the total number of counts, and $t$ is the chosen threshold (default value: 0.001)."
      ]
    },
    {
      "cell_type": "markdown",
      "metadata": {
        "id": "gwdlkUitlXnH"
      },
      "source": [
        "The cell below contains skeleton code for a generator function `preprocess`:"
      ]
    },
    {
      "cell_type": "code",
      "execution_count": 113,
      "metadata": {
        "id": "1fxKvYX3lXnI"
      },
      "outputs": [],
      "source": [
        "import math\n",
        "import random\n",
        "\n",
        "def preprocess(vocab, counts, sentences, threshold=0.001):\n",
        "    N = np.sum(counts)\n",
        "    preprocessed_sentences = []\n",
        "    for sentence in sentences:\n",
        "      preprocessed_sentence = []\n",
        "      for word in sentence:\n",
        "        if word in vocab:\n",
        "          vocab_id = vocab[word]\n",
        "          discard_prob = max(0, 1 - math.sqrt(threshold*(N/counts[vocab_id])))\n",
        "          if discard_prob < random.uniform(0,1):\n",
        "            preprocessed_sentence.append(vocab_id)\n",
        "      if preprocessed_sentence:\n",
        "        preprocessed_sentences.append(preprocessed_sentence)\n",
        "    return iter(preprocessed_sentences)"
      ]
    },
    {
      "cell_type": "markdown",
      "metadata": {
        "id": "ucjdGzsvlXnJ"
      },
      "source": [
        "Extend this skeleton code into a function that implements the preprocessing. Your code should comply with the following specification:\n",
        "\n",
        "**preprocess** (*vocab*, *counts*, *sentences*, *threshold* = 0.001)\n",
        "\n",
        "> Reads from an iterable of *sentences* (lists of string tokens) and yields the preprocessed sentences as non-empty lists of word ids (integers). Words not in *vocab* are discarded. The remaining words are randomly discarded according to the subsampling strategy with the given *threshold*. In the non-empty sentences, each token is replaced by its id in the vocabulary.\n",
        "\n",
        "**⚠️ Please observe** that your function should *yield* the preprocessed sentences, not return a list with all of them. That is, we ask you to write a *generator function*. If you have not worked with generators and iterators before, now is a good time to read up on them. [More information about generators](https://wiki.python.org/moin/Generators)"
      ]
    },
    {
      "cell_type": "markdown",
      "metadata": {
        "id": "Vos_B_0-lXnL"
      },
      "source": [
        "### 🤞 Test your code\n",
        "\n",
        "Test your code by comparing the total number of tokens in the preprocessed version of each dataset with the corresponding number for the original data. The former should be ca. 59% of the latter for the minimal dataset, and ca. 69% for the full dataset. The exact percentage will vary slightly because of the randomness in the sampling. You may want to repeat your computation several times."
      ]
    },
    {
      "cell_type": "code",
      "execution_count": 114,
      "metadata": {
        "id": "0lkkjazjlXnL",
        "colab": {
          "base_uri": "https://localhost:8080/"
        },
        "outputId": "d3547c8c-85ec-45dc-f225-9cd83e2a8edd"
      },
      "outputs": [
        {
          "output_type": "stream",
          "name": "stdout",
          "text": [
            "0.5945320961273893\n",
            "0.694568052021937\n"
          ]
        }
      ],
      "source": [
        "vocab, counts = make_vocab_and_counts(mini_dataset)\n",
        "processed_mini = preprocess(vocab, counts, mini_dataset)\n",
        "print(sum(1 for word in tokens(list(processed_mini)))/sum(1 for t in tokens(mini_dataset)))\n",
        "\n",
        "vocab, counts = make_vocab_and_counts(full_dataset)\n",
        "processed_full = preprocess(vocab, counts, full_dataset)\n",
        "print(sum(1 for word in tokens(list(processed_full)))/sum(1 for t in tokens(full_dataset)))\n",
        "\n"
      ]
    },
    {
      "cell_type": "markdown",
      "metadata": {
        "id": "TVfggsIVlXnM"
      },
      "source": [
        "## Problem 3: Generate the training examples"
      ]
    },
    {
      "cell_type": "markdown",
      "metadata": {
        "id": "pnbsm3orlXnM"
      },
      "source": [
        "Your next task is to translate the preprocessed sentences into training examples for the skip-gram model: both *positive examples* (target word–context word pairs actually observed in the data) and *negative examples* (pairs randomly sampled from a noise distribution).\n",
        "\n",
        "**⚠️ We expect that solving this problem will take you the longest time in this lab.**\n",
        "\n",
        "### General strategy\n",
        "\n",
        "The general plan for solving this problem is to implement a generator function that traverses the preprocessed sentences, at each position of the text samples a window, and then extracts all positive examples from it. For each positive example, the function also generates $k$ negative examples, where $k$ is a hyperparameter. Finally, all examples (positive and negative) are combined into the tensor representation described below.\n",
        "\n",
        "### Representation\n",
        "\n",
        "How should you represent a batch of training examples? Writing $B$ for the batch size, the obvious choice would be to represent the inputs as a matrix of shape $[B, 2]$ and the output labels (positive/negative) as a vector of length $B$. This representation would be quite wasteful on the input side, however, as each target word (index) from a positive example would have to be repeated in all negative samples. For example ($k=3$):"
      ]
    },
    {
      "cell_type": "raw",
      "metadata": {
        "id": "jLP-uyVflXnN"
      },
      "source": [
        "tensor([[34,  237],    # positive example 1\n",
        "        [34, 2561],    # negative example 1.1\n",
        "        [34,   39],    # negative example 1.2\n",
        "        [34,  903],    # negative example 1.3\n",
        "        [34, 2036],    # positive example 2\n",
        "        [34, 2132],    # negative example 2.1\n",
        "        [34,  576],    # negative example 2.2\n",
        "        [34, 2437]])   # negative example 2.3"
      ]
    },
    {
      "cell_type": "markdown",
      "metadata": {
        "id": "UWVIO-VulXnO"
      },
      "source": [
        "Here you will use a different representation: First, instead of a single input batch, there will be a *pair* of input batches – a vector for the target words and a matrix for the context words. If the target word vector has length $B$, the context word matrix has shape $[B, 1+k]$. The $i$th element of the target word vector is the target word for *all* context words in the $i$th row of the context word matrix: the first column of that row comes from a positive example, the remaining columns come from the $k$ negative samples. Accordingly, the batch with the output labels will be a matrix of the same shape as the context word matrix, with its first column set to&nbsp;1 and its remaining columns set to&nbsp;0. Corresponding to the example above:"
      ]
    },
    {
      "cell_type": "raw",
      "metadata": {
        "id": "ngT8yRCFlXnO"
      },
      "source": [
        "# input batch component 1: target word vector\n",
        "tensor([34, 34])\n",
        "\n",
        "# input batch component 2: context word matrix\n",
        "tensor([[237, 2561, 39, 903], [2036, 2132, 576, 2437]])\n",
        "\n",
        "# output labels\n",
        "tensor([[1, 0, 0, 0], [1, 0, 0, 0]])"
      ]
    },
    {
      "cell_type": "markdown",
      "metadata": {
        "id": "gS_EKwf4lXnO"
      },
      "source": [
        "For the present problem, you will only be concerned with the two input batches; the output batch will be constructed in the training procedure. In fact, for a fixed batch size $B$, that batch is always exactly the same, so you will only have to build it once.\n",
        "\n",
        "### Negative sampling\n",
        "\n",
        "Recall from Lecture&nbsp;2.4 that the probability of a word $c$ to be selected as the context word in a negative sample is proportional to its exponentiated count $\\#(c)^\\alpha$, where $\\alpha$ is a hyperparameter (default value: 0.75).\n",
        "\n",
        "To implement negative sampling from this distribution, you can follow a standard recipe: Start by pre-computing an array containing the *cumulative sums* of the exponentiated counts. Then, generate a random cumulative count $n$, and find that index in the pre-computed array at which $n$ should be inserted to keep the array sorted. That index identifies the sampled context word.\n",
        "\n",
        "All operations in this recipe can be implemented efficiently in PyTorch; the relevant functions are [`torch.cumsum`](https://pytorch.org/docs/stable/generated/torch.cumsum.html) and [`torch.searchsorted`](https://pytorch.org/docs/stable/generated/torch.searchsorted.html). For optimal efficiency, you should sample all $B \\times k$ negative examples in a batch at once."
      ]
    },
    {
      "cell_type": "markdown",
      "metadata": {
        "id": "1m2_DKaYlXnQ"
      },
      "source": [
        "Here is skeleton code for this problem:"
      ]
    },
    {
      "cell_type": "code",
      "execution_count": 115,
      "metadata": {
        "id": "a6FzGELZlXnR"
      },
      "outputs": [],
      "source": [
        "import random\n",
        "\n",
        "def negative_sampling(cumultive_sums, num_ns):\n",
        "\n",
        "  random_points =  torch.rand(num_ns) * cumultive_sums[-1]\n",
        "  sorted = torch.searchsorted(cumultive_sums, random_points)\n",
        "\n",
        "  return sorted.tolist()\n",
        "\n",
        "def training_examples(vocab, counts, sentences, window=5, num_ns=5, batch_size=1<<19, ns_exponent=0.75):\n",
        "\n",
        "    counts_exp = np.array([count ** ns_exponent for count in counts])\n",
        "    cumultive_sums = torch.cumsum(torch.from_numpy(counts_exp), dim=0)\n",
        "\n",
        "    preprocessed_sentences = preprocess(vocab, counts, sentences)\n",
        "    tw = []\n",
        "    cw = []\n",
        "\n",
        "    for sentence in preprocessed_sentences:\n",
        "      for i in range(len(sentence)):\n",
        "        for j in range(1, random.randint(1,window) + 1):\n",
        "          negative_samples = negative_sampling(cumultive_sums, num_ns)\n",
        "          if i-j >= 0:\n",
        "            tw.append(sentence[i])\n",
        "            cw.append(sentence[i-j])\n",
        "            cw += negative_samples\n",
        "\n",
        "          if batch_size == len(tw):\n",
        "            yield torch.LongTensor(tw), torch.LongTensor(cw).view(-1, num_ns + 1)\n",
        "            negative_samples = negative_sampling(cumultive_sums, num_ns)\n",
        "            tw = []\n",
        "            cw = []\n",
        "\n",
        "          if i+j < len(sentence):\n",
        "            tw.append(sentence[i])\n",
        "            cw.append(sentence[i+j])\n",
        "            cw += negative_samples\n",
        "\n",
        "\n",
        "          if batch_size == len(tw):\n",
        "            yield torch.LongTensor(tw), torch.LongTensor(cw).view(-1, num_ns + 1)\n",
        "            negative_samples = negative_sampling(cumultive_sums, num_ns)\n",
        "            tw = []\n",
        "            cw = []\n",
        "\n",
        "\n",
        "    yield torch.LongTensor(tw), torch.LongTensor(cw).view(-1, num_ns + 1)"
      ]
    },
    {
      "cell_type": "markdown",
      "metadata": {
        "id": "mQ0RKA5MlXnS"
      },
      "source": [
        "Your code should comply with the following specification:\n",
        "\n",
        "**training_examples** (*vocab*, *counts*, *sentences*, *window* = 5, *num_ns* = 5, *batch_size* = 524,288, *ns_exponent*=0.75)\n",
        "\n",
        "> Reads from an iterable of *sentences* (lists of string tokens), preprocesses them using the function implemented in Problem&nbsp;2, and then yields pairs of input batches for gradient-based training, represented as described above. Each batch contains *batch_size* positive examples. The parameter *window* specifies the maximal distance between a target word and a context word in a positive example; the actual window size around any given target word is sampled uniformly at random. The parameter *num_ns* specifies the number of negative samples per positive sample. The parameter *ns_exponent* specifies the exponent in the negative sampling (called $\\alpha$ above)."
      ]
    },
    {
      "cell_type": "markdown",
      "metadata": {
        "id": "tUoTc14QlXnS"
      },
      "source": [
        "### 🤞 Test your code\n",
        "\n",
        "To test your code, compare the total number of positive samples (across all batches) to the total number of tokens in the (un-preprocessed) minimal dataset. The ratio between these two values should be ca. 2.64. If you can spare the time, you can make the same comparison on the full dataset; here, the expected ratio is 3.25. As before, the numbers may vary slightly because of randomness, so you may want to run the comparison more than once."
      ]
    },
    {
      "cell_type": "code",
      "execution_count": 116,
      "metadata": {
        "id": "8rqSwfY7lXnT",
        "colab": {
          "base_uri": "https://localhost:8080/"
        },
        "outputId": "9bab061e-acb8-44f0-98dd-b89b5c1707c7"
      },
      "outputs": [
        {
          "output_type": "execute_result",
          "data": {
            "text/plain": [
              "2.641910839212013"
            ]
          },
          "metadata": {},
          "execution_count": 116
        }
      ],
      "source": [
        "vocab, counts = make_vocab_and_counts(mini_dataset)\n",
        "training_examples_mini  = training_examples(vocab, counts, mini_dataset)\n",
        "len(next(training_examples_mini)[1].tolist())/sum(1 for t in tokens(mini_dataset))"
      ]
    },
    {
      "cell_type": "markdown",
      "metadata": {
        "id": "CUuGUQF3lXnT"
      },
      "source": [
        "## Problem 4: Implement the model"
      ]
    },
    {
      "cell_type": "markdown",
      "metadata": {
        "id": "tv0UnfzglXnU"
      },
      "source": [
        "Now it is time to implement the skip-gram model as such. The cell below contains skeleton code for this. As you will recall from Lecture&nbsp;2.4, the core of the implementation is formed by two embedding layers: one for the target word representations, and one for the context word representations. Your task is to implement the missing `forward()` method."
      ]
    },
    {
      "cell_type": "code",
      "execution_count": 117,
      "metadata": {
        "id": "wV-ibyO5lXnU"
      },
      "outputs": [],
      "source": [
        "import torch\n",
        "import torch.nn as nn\n",
        "import torch.nn.functional as F\n",
        "\n",
        "class SGNSModel(nn.Module):\n",
        "\n",
        "    def __init__(self, vocab, embedding_dim):\n",
        "        super().__init__()\n",
        "        self.vocab = vocab\n",
        "        self.w = nn.Embedding(len(vocab), embedding_dim)\n",
        "        self.c = nn.Embedding(len(vocab), embedding_dim)\n",
        "\n",
        "    def forward(self, w, c):\n",
        "        w_embedded = self.w(w) # bs, 1, m\n",
        "        c_embedded = self.c(c) # bs, n, m\n",
        "\n",
        "\n",
        "        hadamard = w_embedded.unsqueeze(1) * c_embedded\n",
        "        dot_product = hadamard.sum(-1)\n",
        "\n",
        "        return dot_product"
      ]
    },
    {
      "cell_type": "markdown",
      "metadata": {
        "id": "twoKMMI2lXnV"
      },
      "source": [
        "Your implementation of the `forward()` method should comply with the following specification:\n",
        "\n",
        "**forward** (*self*, *w*, *c*)\n",
        "\n",
        "> The input to this methods is a tensor *w* with target words of shape $[B]$ and a tensor *c* with context words of shape $[B, 1+k]$, where $B$ is the batch size and $k$ is the number of negative samples. The two tensors are structured as explained for Problem&nbsp;3. The output of the method is a tensor $D$ of shape $[B, k+1]$ where entry $D_{ij}$ is the dot product between the embedding vector for the $i$th target word and the embedding vector for the context word in row $i$, column $j$.\n",
        "\n",
        "**💡 Hint:** To compute a dot product $x^\\top y$, you can first compute the Hadamard product $z = x \\odot y$ and then sum up the elements of $z$."
      ]
    },
    {
      "cell_type": "markdown",
      "metadata": {
        "id": "UzseKsvHlXnW"
      },
      "source": [
        "### 🤞 Test your code\n",
        "\n",
        "Test your code by creating an instance of the model, and check that `forward` returns the expected result on random input tensors *w* and *c*. To help you, the following function will return a random example from the first 100 examples produced by `training_examples`."
      ]
    },
    {
      "cell_type": "code",
      "execution_count": 118,
      "metadata": {
        "id": "EpM0yTs6lXnX"
      },
      "outputs": [],
      "source": [
        "import numpy as np\n",
        "\n",
        "def random_example(vocab, counts, sentences):\n",
        "    skip = np.random.randint(100)\n",
        "    for i, example in enumerate(training_examples(vocab, counts, sentences, num_ns=1, batch_size=5)):\n",
        "        if i >= skip:\n",
        "            break\n",
        "    return example"
      ]
    },
    {
      "cell_type": "code",
      "source": [
        "vocab, counts = make_vocab_and_counts(mini_dataset)\n",
        "\n",
        "w, c = random_example(vocab, counts, mini_dataset)\n",
        "\n",
        "model = SGNSModel(vocab, 100)\n",
        "\n",
        "result = model.forward(w, c)\n",
        "\n",
        "print(result.shape)\n",
        "print(w.shape[0], c.shape[1])"
      ],
      "metadata": {
        "colab": {
          "base_uri": "https://localhost:8080/"
        },
        "id": "XE65mSFsP1jl",
        "outputId": "6e352373-5450-44d2-987c-1cf7ed90f216"
      },
      "execution_count": 119,
      "outputs": [
        {
          "output_type": "stream",
          "name": "stdout",
          "text": [
            "torch.Size([5, 2])\n",
            "5 2\n"
          ]
        }
      ]
    },
    {
      "cell_type": "markdown",
      "metadata": {
        "id": "VybR3uN4lXnY"
      },
      "source": [
        "## Problem 5: Train the model"
      ]
    },
    {
      "cell_type": "markdown",
      "metadata": {
        "id": "HgzIQn8elXnY"
      },
      "source": [
        "Once you have a working model, it is time to train it. The training loop for the skip-gram model will be very similar to the prototypical training loop that you already know from previous notebooks, with two things to note:\n",
        "\n",
        "First, instead of categorical cross entropy, you will use binary cross entropy. Just like the standard implementation of the softmax classifier, the skip-gram model does not include a final non-linearity, so you should use [`binary_cross_entropy_with_logits()`](https://pytorch.org/docs/1.9.1/generated/torch.nn.functional.binary_cross_entropy_with_logits.html).\n",
        "\n",
        "The second thing to note is that you will have to create the tensor with the output labels, as explained already in Problem&nbsp;3. This should be a matrix of size $[B, 1+k]$ whose first column contains $1$s and whose remaining columns contains $0$s."
      ]
    },
    {
      "cell_type": "markdown",
      "metadata": {
        "id": "_eLxB3RUlXnZ"
      },
      "source": [
        "Here is skeleton code for the training loop, including default values for the most important hyperparameters:"
      ]
    },
    {
      "cell_type": "code",
      "execution_count": 120,
      "metadata": {
        "id": "vGPcZ4dglXna"
      },
      "outputs": [],
      "source": [
        "import torch\n",
        "import torch.nn.functional as F\n",
        "import torch.optim as optim\n",
        "from torch.utils.data import DataLoader\n",
        "\n",
        "def train(sentences, embedding_dim=50, window=5, num_ns=5, batch_size=1<<19, n_epochs=1, lr=1e-1):\n",
        "    # Create the vocabulary and the counts\n",
        "    vocab, counts = make_vocab_and_counts(sentences)\n",
        "\n",
        "    # Initialize the model\n",
        "    model = SGNSModel(vocab, embedding_dim).to(device)\n",
        "\n",
        "\n",
        "    # Initialise the optimiser (stochastic gradient descent)\n",
        "    optimizer = optim.Adam(model.parameters(), lr=lr)\n",
        "\n",
        "\n",
        "    # We train for the specified number of epochs\n",
        "    for epoch in range(n_epochs):\n",
        "\n",
        "        model.train()\n",
        "\n",
        "        # Initialise the data loader\n",
        "        data_loader = training_examples(vocab, counts, sentences, window, num_ns, batch_size, ns_exponent=0.75)\n",
        "\n",
        "\n",
        "        # In each epoch, we loop over the batches provided by the data loader\n",
        "        for batch_x, batch_y in data_loader:\n",
        "\n",
        "            batch_x = batch_x.to(device)\n",
        "            batch_y = batch_y.to(device)\n",
        "\n",
        "            # Reset the accumulated gradients\n",
        "            optimizer.zero_grad()\n",
        "\n",
        "            # Forward pass\n",
        "            output = model.forward(batch_x, batch_y)\n",
        "\n",
        "            output_label_tensor = torch.zeros(batch_x.size(0), 1 + num_ns)\n",
        "            output_label_tensor[:,0] = 1\n",
        "\n",
        "            # Compute the loss\n",
        "            loss = F.binary_cross_entropy_with_logits(output, output_label_tensor.to(device))\n",
        "\n",
        "            print(loss)\n",
        "\n",
        "            # Backward pass: propagate the loss and compute the gradients\n",
        "            loss.backward()\n",
        "\n",
        "            # Update the parameters\n",
        "            optimizer.step()\n",
        "\n",
        "\n",
        "    return model"
      ]
    },
    {
      "cell_type": "markdown",
      "metadata": {
        "id": "XvRcdasOlXnb"
      },
      "source": [
        "To show you how `train` is meant to be used, the code in the next cell trains a model on the minimal dataset."
      ]
    },
    {
      "cell_type": "code",
      "execution_count": 121,
      "metadata": {
        "id": "ip28ee9flXnb",
        "colab": {
          "base_uri": "https://localhost:8080/"
        },
        "outputId": "a39320b5-6afb-432a-a6d3-298bb8f940c3"
      },
      "outputs": [
        {
          "output_type": "stream",
          "name": "stdout",
          "text": [
            "tensor(2.8978, device='cuda:0',\n",
            "       grad_fn=<BinaryCrossEntropyWithLogitsBackward0>)\n",
            "tensor(2.4786, device='cuda:0',\n",
            "       grad_fn=<BinaryCrossEntropyWithLogitsBackward0>)\n",
            "tensor(2.1297, device='cuda:0',\n",
            "       grad_fn=<BinaryCrossEntropyWithLogitsBackward0>)\n",
            "tensor(1.8176, device='cuda:0',\n",
            "       grad_fn=<BinaryCrossEntropyWithLogitsBackward0>)\n",
            "tensor(1.5476, device='cuda:0',\n",
            "       grad_fn=<BinaryCrossEntropyWithLogitsBackward0>)\n"
          ]
        }
      ],
      "source": [
        "model = train(mini_dataset, n_epochs=5)"
      ]
    },
    {
      "cell_type": "markdown",
      "metadata": {
        "id": "-F7JE9R5lXnc"
      },
      "source": [
        "### 🤞 Test your code\n",
        "\n",
        "Test your implementation of the training loop by training a model on the minimal dataset. This should only take a few seconds. You will not get useful word vectors, but you will be able to see whether your code runs without errors.\n",
        "\n",
        "Once you have passed this test, you can train a model on the full dataset. Print the loss to check that the model is actually learning; if the loss is not decreasing, try to find the problem before wasting time (and energy) on useless training.\n",
        "\n",
        "Training on the full dataset will take some time – on a CPU, you should expect 10–40 minutes per epoch, depending on hardware. To give you some guidance: The total number of positive examples is approximately 58M, and the batch size is chosen so that each batch contains roughly 10% of these examples. To speed things up, you can train using a GPU; our reference implementation runs in less than 2 minutes per epoch on [Colab](http://colab.research.google.com)."
      ]
    },
    {
      "cell_type": "code",
      "execution_count": 122,
      "metadata": {
        "id": "ueSnzcDHlXnd",
        "colab": {
          "base_uri": "https://localhost:8080/"
        },
        "outputId": "bb1a87d2-048e-45fd-c322-7d03e86ed152"
      },
      "outputs": [
        {
          "output_type": "stream",
          "name": "stdout",
          "text": [
            "tensor(2.9098, device='cuda:0',\n",
            "       grad_fn=<BinaryCrossEntropyWithLogitsBackward0>)\n",
            "tensor(2.5952, device='cuda:0',\n",
            "       grad_fn=<BinaryCrossEntropyWithLogitsBackward0>)\n",
            "tensor(2.3803, device='cuda:0',\n",
            "       grad_fn=<BinaryCrossEntropyWithLogitsBackward0>)\n",
            "tensor(2.1455, device='cuda:0',\n",
            "       grad_fn=<BinaryCrossEntropyWithLogitsBackward0>)\n",
            "tensor(1.9299, device='cuda:0',\n",
            "       grad_fn=<BinaryCrossEntropyWithLogitsBackward0>)\n",
            "tensor(1.7477, device='cuda:0',\n",
            "       grad_fn=<BinaryCrossEntropyWithLogitsBackward0>)\n",
            "tensor(1.5628, device='cuda:0',\n",
            "       grad_fn=<BinaryCrossEntropyWithLogitsBackward0>)\n",
            "tensor(1.4202, device='cuda:0',\n",
            "       grad_fn=<BinaryCrossEntropyWithLogitsBackward0>)\n",
            "tensor(1.2602, device='cuda:0',\n",
            "       grad_fn=<BinaryCrossEntropyWithLogitsBackward0>)\n",
            "tensor(1.1277, device='cuda:0',\n",
            "       grad_fn=<BinaryCrossEntropyWithLogitsBackward0>)\n",
            "tensor(1.0359, device='cuda:0',\n",
            "       grad_fn=<BinaryCrossEntropyWithLogitsBackward0>)\n",
            "tensor(0.9316, device='cuda:0',\n",
            "       grad_fn=<BinaryCrossEntropyWithLogitsBackward0>)\n",
            "tensor(0.8510, device='cuda:0',\n",
            "       grad_fn=<BinaryCrossEntropyWithLogitsBackward0>)\n",
            "tensor(0.7998, device='cuda:0',\n",
            "       grad_fn=<BinaryCrossEntropyWithLogitsBackward0>)\n",
            "tensor(0.7398, device='cuda:0',\n",
            "       grad_fn=<BinaryCrossEntropyWithLogitsBackward0>)\n",
            "tensor(0.7091, device='cuda:0',\n",
            "       grad_fn=<BinaryCrossEntropyWithLogitsBackward0>)\n",
            "tensor(0.6776, device='cuda:0',\n",
            "       grad_fn=<BinaryCrossEntropyWithLogitsBackward0>)\n",
            "tensor(0.6436, device='cuda:0',\n",
            "       grad_fn=<BinaryCrossEntropyWithLogitsBackward0>)\n",
            "tensor(0.6328, device='cuda:0',\n",
            "       grad_fn=<BinaryCrossEntropyWithLogitsBackward0>)\n",
            "tensor(0.6109, device='cuda:0',\n",
            "       grad_fn=<BinaryCrossEntropyWithLogitsBackward0>)\n",
            "tensor(0.5923, device='cuda:0',\n",
            "       grad_fn=<BinaryCrossEntropyWithLogitsBackward0>)\n",
            "tensor(0.5783, device='cuda:0',\n",
            "       grad_fn=<BinaryCrossEntropyWithLogitsBackward0>)\n",
            "tensor(0.5638, device='cuda:0',\n",
            "       grad_fn=<BinaryCrossEntropyWithLogitsBackward0>)\n",
            "tensor(0.5559, device='cuda:0',\n",
            "       grad_fn=<BinaryCrossEntropyWithLogitsBackward0>)\n",
            "tensor(0.5481, device='cuda:0',\n",
            "       grad_fn=<BinaryCrossEntropyWithLogitsBackward0>)\n",
            "tensor(0.5539, device='cuda:0',\n",
            "       grad_fn=<BinaryCrossEntropyWithLogitsBackward0>)\n",
            "tensor(0.5370, device='cuda:0',\n",
            "       grad_fn=<BinaryCrossEntropyWithLogitsBackward0>)\n",
            "tensor(0.5356, device='cuda:0',\n",
            "       grad_fn=<BinaryCrossEntropyWithLogitsBackward0>)\n",
            "tensor(0.5289, device='cuda:0',\n",
            "       grad_fn=<BinaryCrossEntropyWithLogitsBackward0>)\n",
            "tensor(0.5235, device='cuda:0',\n",
            "       grad_fn=<BinaryCrossEntropyWithLogitsBackward0>)\n",
            "tensor(0.5151, device='cuda:0',\n",
            "       grad_fn=<BinaryCrossEntropyWithLogitsBackward0>)\n",
            "tensor(0.5133, device='cuda:0',\n",
            "       grad_fn=<BinaryCrossEntropyWithLogitsBackward0>)\n",
            "tensor(0.5070, device='cuda:0',\n",
            "       grad_fn=<BinaryCrossEntropyWithLogitsBackward0>)\n",
            "tensor(0.5010, device='cuda:0',\n",
            "       grad_fn=<BinaryCrossEntropyWithLogitsBackward0>)\n",
            "tensor(0.5011, device='cuda:0',\n",
            "       grad_fn=<BinaryCrossEntropyWithLogitsBackward0>)\n",
            "tensor(0.4948, device='cuda:0',\n",
            "       grad_fn=<BinaryCrossEntropyWithLogitsBackward0>)\n",
            "tensor(0.4861, device='cuda:0',\n",
            "       grad_fn=<BinaryCrossEntropyWithLogitsBackward0>)\n",
            "tensor(0.5021, device='cuda:0',\n",
            "       grad_fn=<BinaryCrossEntropyWithLogitsBackward0>)\n",
            "tensor(0.4844, device='cuda:0',\n",
            "       grad_fn=<BinaryCrossEntropyWithLogitsBackward0>)\n",
            "tensor(0.4876, device='cuda:0',\n",
            "       grad_fn=<BinaryCrossEntropyWithLogitsBackward0>)\n",
            "tensor(0.4838, device='cuda:0',\n",
            "       grad_fn=<BinaryCrossEntropyWithLogitsBackward0>)\n",
            "tensor(0.4912, device='cuda:0',\n",
            "       grad_fn=<BinaryCrossEntropyWithLogitsBackward0>)\n",
            "tensor(0.4825, device='cuda:0',\n",
            "       grad_fn=<BinaryCrossEntropyWithLogitsBackward0>)\n",
            "tensor(0.4725, device='cuda:0',\n",
            "       grad_fn=<BinaryCrossEntropyWithLogitsBackward0>)\n",
            "tensor(0.4696, device='cuda:0',\n",
            "       grad_fn=<BinaryCrossEntropyWithLogitsBackward0>)\n",
            "tensor(0.4685, device='cuda:0',\n",
            "       grad_fn=<BinaryCrossEntropyWithLogitsBackward0>)\n",
            "tensor(0.4938, device='cuda:0',\n",
            "       grad_fn=<BinaryCrossEntropyWithLogitsBackward0>)\n",
            "tensor(0.4675, device='cuda:0',\n",
            "       grad_fn=<BinaryCrossEntropyWithLogitsBackward0>)\n",
            "tensor(0.4619, device='cuda:0',\n",
            "       grad_fn=<BinaryCrossEntropyWithLogitsBackward0>)\n",
            "tensor(0.4708, device='cuda:0',\n",
            "       grad_fn=<BinaryCrossEntropyWithLogitsBackward0>)\n",
            "tensor(0.4617, device='cuda:0',\n",
            "       grad_fn=<BinaryCrossEntropyWithLogitsBackward0>)\n",
            "tensor(0.4525, device='cuda:0',\n",
            "       grad_fn=<BinaryCrossEntropyWithLogitsBackward0>)\n",
            "tensor(0.4456, device='cuda:0',\n",
            "       grad_fn=<BinaryCrossEntropyWithLogitsBackward0>)\n",
            "tensor(0.4599, device='cuda:0',\n",
            "       grad_fn=<BinaryCrossEntropyWithLogitsBackward0>)\n",
            "tensor(0.4558, device='cuda:0',\n",
            "       grad_fn=<BinaryCrossEntropyWithLogitsBackward0>)\n",
            "tensor(0.4693, device='cuda:0',\n",
            "       grad_fn=<BinaryCrossEntropyWithLogitsBackward0>)\n",
            "tensor(0.4665, device='cuda:0',\n",
            "       grad_fn=<BinaryCrossEntropyWithLogitsBackward0>)\n",
            "tensor(0.4481, device='cuda:0',\n",
            "       grad_fn=<BinaryCrossEntropyWithLogitsBackward0>)\n",
            "tensor(0.4480, device='cuda:0',\n",
            "       grad_fn=<BinaryCrossEntropyWithLogitsBackward0>)\n",
            "tensor(0.4510, device='cuda:0',\n",
            "       grad_fn=<BinaryCrossEntropyWithLogitsBackward0>)\n",
            "tensor(0.4481, device='cuda:0',\n",
            "       grad_fn=<BinaryCrossEntropyWithLogitsBackward0>)\n",
            "tensor(0.4548, device='cuda:0',\n",
            "       grad_fn=<BinaryCrossEntropyWithLogitsBackward0>)\n",
            "tensor(0.4473, device='cuda:0',\n",
            "       grad_fn=<BinaryCrossEntropyWithLogitsBackward0>)\n",
            "tensor(0.4333, device='cuda:0',\n",
            "       grad_fn=<BinaryCrossEntropyWithLogitsBackward0>)\n",
            "tensor(0.4461, device='cuda:0',\n",
            "       grad_fn=<BinaryCrossEntropyWithLogitsBackward0>)\n",
            "tensor(0.4420, device='cuda:0',\n",
            "       grad_fn=<BinaryCrossEntropyWithLogitsBackward0>)\n",
            "tensor(0.4445, device='cuda:0',\n",
            "       grad_fn=<BinaryCrossEntropyWithLogitsBackward0>)\n",
            "tensor(0.4406, device='cuda:0',\n",
            "       grad_fn=<BinaryCrossEntropyWithLogitsBackward0>)\n",
            "tensor(0.4425, device='cuda:0',\n",
            "       grad_fn=<BinaryCrossEntropyWithLogitsBackward0>)\n",
            "tensor(0.4448, device='cuda:0',\n",
            "       grad_fn=<BinaryCrossEntropyWithLogitsBackward0>)\n",
            "tensor(0.4391, device='cuda:0',\n",
            "       grad_fn=<BinaryCrossEntropyWithLogitsBackward0>)\n",
            "tensor(0.4361, device='cuda:0',\n",
            "       grad_fn=<BinaryCrossEntropyWithLogitsBackward0>)\n",
            "tensor(0.4397, device='cuda:0',\n",
            "       grad_fn=<BinaryCrossEntropyWithLogitsBackward0>)\n",
            "tensor(0.4419, device='cuda:0',\n",
            "       grad_fn=<BinaryCrossEntropyWithLogitsBackward0>)\n",
            "tensor(0.4399, device='cuda:0',\n",
            "       grad_fn=<BinaryCrossEntropyWithLogitsBackward0>)\n",
            "tensor(0.4343, device='cuda:0',\n",
            "       grad_fn=<BinaryCrossEntropyWithLogitsBackward0>)\n",
            "tensor(0.4314, device='cuda:0',\n",
            "       grad_fn=<BinaryCrossEntropyWithLogitsBackward0>)\n",
            "tensor(0.4322, device='cuda:0',\n",
            "       grad_fn=<BinaryCrossEntropyWithLogitsBackward0>)\n",
            "tensor(0.4372, device='cuda:0',\n",
            "       grad_fn=<BinaryCrossEntropyWithLogitsBackward0>)\n",
            "tensor(0.4325, device='cuda:0',\n",
            "       grad_fn=<BinaryCrossEntropyWithLogitsBackward0>)\n",
            "tensor(0.4329, device='cuda:0',\n",
            "       grad_fn=<BinaryCrossEntropyWithLogitsBackward0>)\n",
            "tensor(0.4272, device='cuda:0',\n",
            "       grad_fn=<BinaryCrossEntropyWithLogitsBackward0>)\n",
            "tensor(0.4262, device='cuda:0',\n",
            "       grad_fn=<BinaryCrossEntropyWithLogitsBackward0>)\n",
            "tensor(0.4270, device='cuda:0',\n",
            "       grad_fn=<BinaryCrossEntropyWithLogitsBackward0>)\n",
            "tensor(0.4264, device='cuda:0',\n",
            "       grad_fn=<BinaryCrossEntropyWithLogitsBackward0>)\n",
            "tensor(0.4228, device='cuda:0',\n",
            "       grad_fn=<BinaryCrossEntropyWithLogitsBackward0>)\n",
            "tensor(0.4298, device='cuda:0',\n",
            "       grad_fn=<BinaryCrossEntropyWithLogitsBackward0>)\n",
            "tensor(0.4255, device='cuda:0',\n",
            "       grad_fn=<BinaryCrossEntropyWithLogitsBackward0>)\n",
            "tensor(0.4331, device='cuda:0',\n",
            "       grad_fn=<BinaryCrossEntropyWithLogitsBackward0>)\n",
            "tensor(0.4318, device='cuda:0',\n",
            "       grad_fn=<BinaryCrossEntropyWithLogitsBackward0>)\n",
            "tensor(0.4276, device='cuda:0',\n",
            "       grad_fn=<BinaryCrossEntropyWithLogitsBackward0>)\n",
            "tensor(0.4250, device='cuda:0',\n",
            "       grad_fn=<BinaryCrossEntropyWithLogitsBackward0>)\n",
            "tensor(0.4234, device='cuda:0',\n",
            "       grad_fn=<BinaryCrossEntropyWithLogitsBackward0>)\n",
            "tensor(0.4279, device='cuda:0',\n",
            "       grad_fn=<BinaryCrossEntropyWithLogitsBackward0>)\n",
            "tensor(0.4260, device='cuda:0',\n",
            "       grad_fn=<BinaryCrossEntropyWithLogitsBackward0>)\n",
            "tensor(0.4294, device='cuda:0',\n",
            "       grad_fn=<BinaryCrossEntropyWithLogitsBackward0>)\n",
            "tensor(0.4360, device='cuda:0',\n",
            "       grad_fn=<BinaryCrossEntropyWithLogitsBackward0>)\n",
            "tensor(0.4369, device='cuda:0',\n",
            "       grad_fn=<BinaryCrossEntropyWithLogitsBackward0>)\n",
            "tensor(0.4290, device='cuda:0',\n",
            "       grad_fn=<BinaryCrossEntropyWithLogitsBackward0>)\n",
            "tensor(0.4246, device='cuda:0',\n",
            "       grad_fn=<BinaryCrossEntropyWithLogitsBackward0>)\n",
            "tensor(0.4256, device='cuda:0',\n",
            "       grad_fn=<BinaryCrossEntropyWithLogitsBackward0>)\n",
            "tensor(0.4350, device='cuda:0',\n",
            "       grad_fn=<BinaryCrossEntropyWithLogitsBackward0>)\n",
            "tensor(0.4259, device='cuda:0',\n",
            "       grad_fn=<BinaryCrossEntropyWithLogitsBackward0>)\n",
            "tensor(0.4275, device='cuda:0',\n",
            "       grad_fn=<BinaryCrossEntropyWithLogitsBackward0>)\n",
            "tensor(0.4248, device='cuda:0',\n",
            "       grad_fn=<BinaryCrossEntropyWithLogitsBackward0>)\n",
            "tensor(0.4185, device='cuda:0',\n",
            "       grad_fn=<BinaryCrossEntropyWithLogitsBackward0>)\n",
            "tensor(0.4202, device='cuda:0',\n",
            "       grad_fn=<BinaryCrossEntropyWithLogitsBackward0>)\n",
            "tensor(0.4230, device='cuda:0',\n",
            "       grad_fn=<BinaryCrossEntropyWithLogitsBackward0>)\n",
            "tensor(0.4293, device='cuda:0',\n",
            "       grad_fn=<BinaryCrossEntropyWithLogitsBackward0>)\n",
            "tensor(0.4207, device='cuda:0',\n",
            "       grad_fn=<BinaryCrossEntropyWithLogitsBackward0>)\n"
          ]
        }
      ],
      "source": [
        "model = train(full_dataset, n_epochs=1)"
      ]
    },
    {
      "cell_type": "markdown",
      "metadata": {
        "id": "lp4XHoIJlXne"
      },
      "source": [
        "## Problem 6: Analyse the embeddings (reflection)"
      ]
    },
    {
      "cell_type": "markdown",
      "metadata": {
        "id": "Sy_ARrrclXne"
      },
      "source": [
        "Now that you have a trained model, you will probably be curious to see what it has learned. You can inspect your embeddings using the [Embedding Projector](http://projector.tensorflow.org). To that end, click on the ‘Load’ button, which will open up a dialogue with instructions for how to upload embeddings from your computer.\n",
        "\n",
        "You will need to upload two tab-separated files. To create them, you can use the following code:"
      ]
    },
    {
      "cell_type": "code",
      "execution_count": 123,
      "metadata": {
        "id": "Uqacl0vPlXnf"
      },
      "outputs": [],
      "source": [
        "def save_model(model):\n",
        "    # Extract the embedding vectors as a NumPy array\n",
        "    embeddings = model.w.weight.detach().numpy()\n",
        "\n",
        "    # Create the word–vector pairs\n",
        "    items = sorted((i, w) for w, i in model.vocab.items())\n",
        "    items = [(w, e) for (i, w), e in zip(items, embeddings)]\n",
        "\n",
        "    # Write the embeddings and the word labels to files\n",
        "    with open('vectors.tsv', 'wt') as fp1, open('metadata.tsv', 'wt') as fp2:\n",
        "        for w, e in items:\n",
        "            print('\\t'.join('{:.5f}'.format(x) for x in e), file=fp1)\n",
        "            print(w, file=fp2)"
      ]
    },
    {
      "cell_type": "code",
      "source": [
        "save_model(model.cpu())"
      ],
      "metadata": {
        "id": "hDuRxaDEEHCD"
      },
      "execution_count": 124,
      "outputs": []
    },
    {
      "cell_type": "markdown",
      "metadata": {
        "id": "UJunp8zYlXnf"
      },
      "source": [
        "Take some time to explore the embedding space. In particular, inspect the local neighbourhoods of words that you are curious about, say the 10 closest neighbours. Document your exploration in a short reflection piece (ca. 150&nbsp;words). Respond to the following prompts:\n",
        "\n",
        "* Which words did you try? Which results did you get? Did you do anything else than inspecting local neighbourhoods?\n",
        "* Based on what you know about word embeddings, did you expect your results? How do you explain them?\n",
        "* What did you learn? How, exactly, did you learn it? Why does this learning matter?"
      ]
    },
    {
      "cell_type": "markdown",
      "metadata": {
        "id": "kqB-4IWNlXng"
      },
      "source": [
        "I tried some words: Sweden which gave the resulting neighbors Croatia, Finland and Switzerland etc. This result was very good since they the word Sweden probably is included often when the words Croatia, Finland and Switzerland is written about and the other way around since they are all countries. This means that they will be given similar embeddings and appear close to eachother in the PCA graph. I learned this through the lecture slides and experimenting with the embedding projector. Other words like Football gave the results \"Soccer\" and \"hockey\" for example which are all closely related sports, proving that the model is good."
      ]
    },
    {
      "cell_type": "markdown",
      "metadata": {
        "id": "mvVy_AUulXng"
      },
      "source": [
        "👍 Well done!"
      ]
    }
  ],
  "metadata": {
    "kernelspec": {
      "display_name": "Python 3",
      "name": "python3"
    },
    "language_info": {
      "codemirror_mode": {
        "name": "ipython",
        "version": 3
      },
      "file_extension": ".py",
      "mimetype": "text/x-python",
      "name": "python",
      "nbconvert_exporter": "python",
      "pygments_lexer": "ipython3",
      "version": "3.10.10"
    },
    "colab": {
      "provenance": [],
      "gpuType": "T4"
    },
    "accelerator": "GPU"
  },
  "nbformat": 4,
  "nbformat_minor": 0
}