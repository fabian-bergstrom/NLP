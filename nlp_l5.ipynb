{
  "cells": [
    {
      "cell_type": "markdown",
      "metadata": {
        "id": "e86f90cc"
      },
      "source": [
        "# L5: Parameter-efficient fine-tuning"
      ],
      "id": "e86f90cc"
    },
    {
      "cell_type": "markdown",
      "metadata": {
        "id": "cbe683ab"
      },
      "source": [
        "Fine-tuning all parameters of pre-trained language models can be resource-intensive. Because of this, current research in natural language processing is looking into developing methods for adapting models to downstream tasks without full fine-tuning. These methods only tune a small number of model parameters while yielding performance comparable to that of a fully fine-tuned model.\n",
        "\n",
        "In this lab, you will implement LoRA, one of the most well-known methods for parameter-efficient fine-tuning. LoRA stands for “Low-Rank Adaptation of Large Language Models” and was originally described in a research article by [Hu et al. (2021)](https://arxiv.org/abs/2106.09685).\n",
        "\n",
        "Along the way, you will earn experience with [Hugging Face Transformers](https://huggingface.co/docs/transformers/en/index), a state-of-the-art library for training and deploying language models, as well as with several related libraries. In particular, you will learn a best-practice workflow for downloading a Transformer model and fine-tuning it on the downstream task of binary sentiment classification."
      ],
      "id": "cbe683ab"
    },
    {
      "cell_type": "markdown",
      "metadata": {
        "id": "90eaa7f8"
      },
      "source": [
        "## Dataset"
      ],
      "id": "90eaa7f8"
    },
    {
      "cell_type": "markdown",
      "metadata": {
        "id": "b426bb69"
      },
      "source": [
        "The data for this lab comes from the [Large Movie Review Dataset](https://ai.stanford.edu/~amaas/data/sentiment/). The full dataset consists of 50,000 highly polar movie reviews collected from the Internet Movie Database (IMDB). Here, we use a random sample consisting of 2,000 reviews for training and 500 reviews for evaluation."
      ],
      "id": "b426bb69"
    },
    {
      "cell_type": "markdown",
      "metadata": {
        "id": "1234a390"
      },
      "source": [
        "To load the dataset, we use the [Hugging Face Datasets](https://huggingface.co/docs/datasets/en/index) library."
      ],
      "id": "1234a390"
    },
    {
      "cell_type": "code",
      "execution_count": 1,
      "metadata": {
        "id": "XoH-ZUWMNpAW"
      },
      "outputs": [],
      "source": [
        "from google.colab import drive"
      ],
      "id": "XoH-ZUWMNpAW"
    },
    {
      "cell_type": "code",
      "execution_count": 2,
      "metadata": {
        "colab": {
          "base_uri": "https://localhost:8080/"
        },
        "id": "b1Wvtd93NqDx",
        "outputId": "916867d1-f3a8-4a6f-de8e-054f41c8a051"
      },
      "outputs": [
        {
          "output_type": "stream",
          "name": "stdout",
          "text": [
            "Drive already mounted at /content/drive; to attempt to forcibly remount, call drive.mount(\"/content/drive\", force_remount=True).\n"
          ]
        }
      ],
      "source": [
        "drive.mount('/content/drive')"
      ],
      "id": "b1Wvtd93NqDx"
    },
    {
      "cell_type": "code",
      "execution_count": 3,
      "metadata": {
        "id": "SuvBhRmpylpx"
      },
      "outputs": [],
      "source": [
        "import torch"
      ],
      "id": "SuvBhRmpylpx"
    },
    {
      "cell_type": "code",
      "execution_count": 4,
      "metadata": {
        "colab": {
          "base_uri": "https://localhost:8080/"
        },
        "id": "pzje3UXvyoV2",
        "outputId": "6f4a460e-be60-4ad3-c3fb-2883c2e0348d"
      },
      "outputs": [
        {
          "output_type": "execute_result",
          "data": {
            "text/plain": [
              "device(type='cuda')"
            ]
          },
          "metadata": {},
          "execution_count": 4
        }
      ],
      "source": [
        "device = torch.device('cuda' if torch.cuda.is_available() else 'cpu')\n",
        "device"
      ],
      "id": "pzje3UXvyoV2"
    },
    {
      "cell_type": "code",
      "execution_count": 5,
      "metadata": {
        "colab": {
          "base_uri": "https://localhost:8080/"
        },
        "id": "dcf185b8",
        "outputId": "a5823a4a-c1e8-49d2-9fc5-a3af001205ed"
      },
      "outputs": [
        {
          "output_type": "stream",
          "name": "stdout",
          "text": [
            "Reading package lists... Done\n",
            "Building dependency tree... Done\n",
            "Reading state information... Done\n",
            "python3.8 is already the newest version (3.8.18-1+jammy1).\n",
            "0 upgraded, 0 newly installed, 0 to remove and 35 not upgraded.\n",
            "Requirement already satisfied: datasets in /usr/local/lib/python3.10/dist-packages (2.17.1)\n",
            "Requirement already satisfied: filelock in /usr/local/lib/python3.10/dist-packages (from datasets) (3.13.1)\n",
            "Requirement already satisfied: numpy>=1.17 in /usr/local/lib/python3.10/dist-packages (from datasets) (1.26.4)\n",
            "Requirement already satisfied: pyarrow>=12.0.0 in /usr/local/lib/python3.10/dist-packages (from datasets) (14.0.2)\n",
            "Requirement already satisfied: pyarrow-hotfix in /usr/local/lib/python3.10/dist-packages (from datasets) (0.6)\n",
            "Requirement already satisfied: dill<0.3.9,>=0.3.0 in /usr/local/lib/python3.10/dist-packages (from datasets) (0.3.8)\n",
            "Requirement already satisfied: pandas in /usr/local/lib/python3.10/dist-packages (from datasets) (1.5.3)\n",
            "Requirement already satisfied: requests>=2.19.0 in /usr/local/lib/python3.10/dist-packages (from datasets) (2.31.0)\n",
            "Requirement already satisfied: tqdm>=4.62.1 in /usr/local/lib/python3.10/dist-packages (from datasets) (4.66.2)\n",
            "Requirement already satisfied: xxhash in /usr/local/lib/python3.10/dist-packages (from datasets) (3.4.1)\n",
            "Requirement already satisfied: multiprocess in /usr/local/lib/python3.10/dist-packages (from datasets) (0.70.16)\n",
            "Requirement already satisfied: fsspec[http]<=2023.10.0,>=2023.1.0 in /usr/local/lib/python3.10/dist-packages (from datasets) (2023.6.0)\n",
            "Requirement already satisfied: aiohttp in /usr/local/lib/python3.10/dist-packages (from datasets) (3.9.3)\n",
            "Requirement already satisfied: huggingface-hub>=0.19.4 in /usr/local/lib/python3.10/dist-packages (from datasets) (0.20.3)\n",
            "Requirement already satisfied: packaging in /usr/local/lib/python3.10/dist-packages (from datasets) (23.2)\n",
            "Requirement already satisfied: pyyaml>=5.1 in /usr/local/lib/python3.10/dist-packages (from datasets) (6.0.1)\n",
            "Requirement already satisfied: aiosignal>=1.1.2 in /usr/local/lib/python3.10/dist-packages (from aiohttp->datasets) (1.3.1)\n",
            "Requirement already satisfied: attrs>=17.3.0 in /usr/local/lib/python3.10/dist-packages (from aiohttp->datasets) (23.2.0)\n",
            "Requirement already satisfied: frozenlist>=1.1.1 in /usr/local/lib/python3.10/dist-packages (from aiohttp->datasets) (1.4.1)\n",
            "Requirement already satisfied: multidict<7.0,>=4.5 in /usr/local/lib/python3.10/dist-packages (from aiohttp->datasets) (6.0.5)\n",
            "Requirement already satisfied: yarl<2.0,>=1.0 in /usr/local/lib/python3.10/dist-packages (from aiohttp->datasets) (1.9.4)\n",
            "Requirement already satisfied: async-timeout<5.0,>=4.0 in /usr/local/lib/python3.10/dist-packages (from aiohttp->datasets) (4.0.3)\n",
            "Requirement already satisfied: typing-extensions>=3.7.4.3 in /usr/local/lib/python3.10/dist-packages (from huggingface-hub>=0.19.4->datasets) (4.9.0)\n",
            "Requirement already satisfied: charset-normalizer<4,>=2 in /usr/local/lib/python3.10/dist-packages (from requests>=2.19.0->datasets) (3.3.2)\n",
            "Requirement already satisfied: idna<4,>=2.5 in /usr/local/lib/python3.10/dist-packages (from requests>=2.19.0->datasets) (3.6)\n",
            "Requirement already satisfied: urllib3<3,>=1.21.1 in /usr/local/lib/python3.10/dist-packages (from requests>=2.19.0->datasets) (2.0.7)\n",
            "Requirement already satisfied: certifi>=2017.4.17 in /usr/local/lib/python3.10/dist-packages (from requests>=2.19.0->datasets) (2024.2.2)\n",
            "Requirement already satisfied: python-dateutil>=2.8.1 in /usr/local/lib/python3.10/dist-packages (from pandas->datasets) (2.8.2)\n",
            "Requirement already satisfied: pytz>=2020.1 in /usr/local/lib/python3.10/dist-packages (from pandas->datasets) (2023.4)\n",
            "Requirement already satisfied: six>=1.5 in /usr/local/lib/python3.10/dist-packages (from python-dateutil>=2.8.1->pandas->datasets) (1.16.0)\n"
          ]
        },
        {
          "output_type": "execute_result",
          "data": {
            "text/plain": [
              "DatasetDict({\n",
              "    train: Dataset({\n",
              "        features: ['index', 'review', 'label'],\n",
              "        num_rows: 2000\n",
              "    })\n",
              "    eval: Dataset({\n",
              "        features: ['index', 'review', 'label'],\n",
              "        num_rows: 500\n",
              "    })\n",
              "})"
            ]
          },
          "metadata": {},
          "execution_count": 5
        }
      ],
      "source": [
        "!apt-get install python3.8\n",
        "!ln -sf /usr/bin/python3.8 /usr/bin/python\n",
        "!pip install datasets\n",
        "from datasets import load_dataset\n",
        "\n",
        "imdb_dataset = load_dataset('csv', data_files = {'train': '/content/drive/MyDrive/tdde09/lab5/train.csv', 'eval': '/content/drive/MyDrive/tdde09/lab5/eval.csv'})\n",
        "\n",
        "imdb_dataset"
      ],
      "id": "dcf185b8"
    },
    {
      "cell_type": "markdown",
      "metadata": {
        "id": "d63c62a4"
      },
      "source": [
        "As we can see, each sample in the dataset is a record with three fields: an internal index (`index`, an integer), the text of the review (`review`, a string), and the sentiment label (`label`, an integer – 1&nbsp;for “positive” and 0&nbsp;for “negative” sentiment).\n",
        "\n",
        "Here is an example record:"
      ],
      "id": "d63c62a4"
    },
    {
      "cell_type": "code",
      "execution_count": null,
      "metadata": {
        "colab": {
          "base_uri": "https://localhost:8080/"
        },
        "id": "7b5547ce",
        "outputId": "e60d89d3-b32c-41a6-a477-d003ea0716b6",
        "scrolled": true
      },
      "outputs": [
        {
          "data": {
            "text/plain": [
              "{'index': 2981,\n",
              " 'review': 'Brilliant execution in displaying once and for all, this time in the venue of politics, of how \"good intentions do actually pave the road to hell\". Excellent!',\n",
              " 'label': 1}"
            ]
          },
          "execution_count": 6,
          "metadata": {},
          "output_type": "execute_result"
        }
      ],
      "source": [
        "imdb_dataset['train'][645]"
      ],
      "id": "7b5547ce"
    },
    {
      "cell_type": "markdown",
      "metadata": {
        "id": "e77c6865"
      },
      "source": [
        "## Tokeniser"
      ],
      "id": "e77c6865"
    },
    {
      "cell_type": "markdown",
      "metadata": {
        "id": "eb9646fe"
      },
      "source": [
        "As our pre-trained language model, we will use [DistilBERT](https://huggingface.co/docs/transformers/en/model_doc/distilbert), a compact encoder model with 40% less parameters than BERT base. DistilBERT is not actually a *large* language model by modern standards and thus does not benefit as much from parameter-efficient fine-tuning as other models. However, it has the benefit of being light and fast, and can be run even on consumer hardware.\n",
        "\n",
        "To feed the movie reviews to DistilBERT, we need to tokenise them and encode the resulting tokens as integers in the model vocabulary. We start by loading the DistilBERT tokeniser using the [Auto classes](https://huggingface.co/docs/transformers/en/model_doc/auto):"
      ],
      "id": "eb9646fe"
    },
    {
      "cell_type": "code",
      "execution_count": null,
      "metadata": {
        "colab": {
          "base_uri": "https://localhost:8080/"
        },
        "id": "d76f2c9e",
        "outputId": "f962d3e5-3f22-4d10-fb68-8aaea64481b0"
      },
      "outputs": [
        {
          "name": "stderr",
          "output_type": "stream",
          "text": [
            "/usr/local/lib/python3.10/dist-packages/huggingface_hub/utils/_token.py:88: UserWarning: \n",
            "The secret `HF_TOKEN` does not exist in your Colab secrets.\n",
            "To authenticate with the Hugging Face Hub, create a token in your settings tab (https://huggingface.co/settings/tokens), set it as secret in your Google Colab and restart your session.\n",
            "You will be able to reuse this secret in all of your notebooks.\n",
            "Please note that authentication is recommended but still optional to access public models or datasets.\n",
            "  warnings.warn(\n"
          ]
        }
      ],
      "source": [
        "from transformers import AutoTokenizer\n",
        "\n",
        "tokenizer = AutoTokenizer.from_pretrained('distilbert-base-uncased')"
      ],
      "id": "d76f2c9e"
    },
    {
      "cell_type": "markdown",
      "metadata": {
        "id": "ed29329d"
      },
      "source": [
        "We then create a tokenised version of the dataset:"
      ],
      "id": "ed29329d"
    },
    {
      "cell_type": "code",
      "execution_count": null,
      "metadata": {
        "colab": {
          "base_uri": "https://localhost:8080/",
          "height": 219,
          "referenced_widgets": [
            "0710da123f9241aeabc64d2167390622",
            "59099b621e9143e598d9b786958e7dc8",
            "0827ca1fcba74f3182d9cdfcefb496c1",
            "050321d38c204365883538b1fc98f69d",
            "ac3887267a074b6eae9b6954ad9453c7",
            "65e2dc48638c4321bb02b2a3ec1231ed",
            "6fcfaadca3f34feb94c4c0c8ea982b23",
            "ee567feade364a7c90c317f3b8b58f3f",
            "f8117ed799cf4c7c9284c4c217c71b29",
            "6f57b2f2882147ea9d79fef4e57a28b6",
            "896fc33fdcd74efd9645aca67455cb73"
          ]
        },
        "id": "de583eff",
        "outputId": "802b7af1-b7cf-4593-9f56-35a97bed8197"
      },
      "outputs": [
        {
          "data": {
            "application/vnd.jupyter.widget-view+json": {
              "model_id": "0710da123f9241aeabc64d2167390622",
              "version_major": 2,
              "version_minor": 0
            },
            "text/plain": [
              "Map:   0%|          | 0/500 [00:00<?, ? examples/s]"
            ]
          },
          "metadata": {},
          "output_type": "display_data"
        },
        {
          "data": {
            "text/plain": [
              "DatasetDict({\n",
              "    train: Dataset({\n",
              "        features: ['index', 'review', 'label', 'input_ids', 'attention_mask'],\n",
              "        num_rows: 2000\n",
              "    })\n",
              "    eval: Dataset({\n",
              "        features: ['index', 'review', 'label', 'input_ids', 'attention_mask'],\n",
              "        num_rows: 500\n",
              "    })\n",
              "})"
            ]
          },
          "execution_count": 8,
          "metadata": {},
          "output_type": "execute_result"
        }
      ],
      "source": [
        "def tokenize_function(batch):\n",
        "    return tokenizer(batch['review'], padding=True, truncation=True)\n",
        "\n",
        "tokenized_imdb_dataset = imdb_dataset.map(tokenize_function, batched=True)\n",
        "\n",
        "tokenized_imdb_dataset"
      ],
      "id": "de583eff"
    },
    {
      "cell_type": "markdown",
      "metadata": {
        "id": "66cde945"
      },
      "source": [
        "As we can see, tokenising adds two additional fields to each review: `input_ids` is the list of token ids corresponding to the review, and `attention_mask` is the list of indices specifying which tokens the encoder should attend to."
      ],
      "id": "66cde945"
    },
    {
      "cell_type": "markdown",
      "metadata": {
        "id": "e1efb97b"
      },
      "source": [
        "To avoid trouble when fine-tuning the model later, the next cell disables tokeniser parallelism."
      ],
      "id": "e1efb97b"
    },
    {
      "cell_type": "code",
      "execution_count": null,
      "metadata": {
        "id": "70d0190e"
      },
      "outputs": [],
      "source": [
        "import os\n",
        "\n",
        "os.environ['TOKENIZERS_PARALLELISM'] = 'false'"
      ],
      "id": "70d0190e"
    },
    {
      "cell_type": "markdown",
      "metadata": {
        "id": "fceee00c"
      },
      "source": [
        "## Trainer"
      ],
      "id": "fceee00c"
    },
    {
      "cell_type": "markdown",
      "metadata": {
        "id": "8ddcc655"
      },
      "source": [
        "In this section, we will set up our workflow for training and evaluating DistilBERT models. The central component in this workflow is the [Trainer](https://huggingface.co/docs/transformers/main_classes/trainer), which provides extensive configuration options. Here, we leave most of these options at their default value. Two changes we *do* make are to enable evaluation of the trained model after each epoch, and to log the training and evaluation loss after every 5&nbsp;training steps (the default is 500)."
      ],
      "id": "8ddcc655"
    },
    {
      "cell_type": "code",
      "execution_count": null,
      "metadata": {
        "colab": {
          "base_uri": "https://localhost:8080/"
        },
        "id": "e6d2854d",
        "outputId": "d6d7001d-3017-4555-becf-3249c8eabf9d"
      },
      "outputs": [
        {
          "name": "stdout",
          "output_type": "stream",
          "text": [
            "Requirement already satisfied: accelerate in /usr/local/lib/python3.10/dist-packages (0.27.2)\n",
            "Requirement already satisfied: numpy>=1.17 in /usr/local/lib/python3.10/dist-packages (from accelerate) (1.25.2)\n",
            "Requirement already satisfied: packaging>=20.0 in /usr/local/lib/python3.10/dist-packages (from accelerate) (23.2)\n",
            "Requirement already satisfied: psutil in /usr/local/lib/python3.10/dist-packages (from accelerate) (5.9.5)\n",
            "Requirement already satisfied: pyyaml in /usr/local/lib/python3.10/dist-packages (from accelerate) (6.0.1)\n",
            "Requirement already satisfied: torch>=1.10.0 in /usr/local/lib/python3.10/dist-packages (from accelerate) (2.1.0+cu121)\n",
            "Requirement already satisfied: huggingface-hub in /usr/local/lib/python3.10/dist-packages (from accelerate) (0.20.3)\n",
            "Requirement already satisfied: safetensors>=0.3.1 in /usr/local/lib/python3.10/dist-packages (from accelerate) (0.4.2)\n",
            "Requirement already satisfied: filelock in /usr/local/lib/python3.10/dist-packages (from torch>=1.10.0->accelerate) (3.13.1)\n",
            "Requirement already satisfied: typing-extensions in /usr/local/lib/python3.10/dist-packages (from torch>=1.10.0->accelerate) (4.9.0)\n",
            "Requirement already satisfied: sympy in /usr/local/lib/python3.10/dist-packages (from torch>=1.10.0->accelerate) (1.12)\n",
            "Requirement already satisfied: networkx in /usr/local/lib/python3.10/dist-packages (from torch>=1.10.0->accelerate) (3.2.1)\n",
            "Requirement already satisfied: jinja2 in /usr/local/lib/python3.10/dist-packages (from torch>=1.10.0->accelerate) (3.1.3)\n",
            "Requirement already satisfied: fsspec in /usr/local/lib/python3.10/dist-packages (from torch>=1.10.0->accelerate) (2023.6.0)\n",
            "Requirement already satisfied: triton==2.1.0 in /usr/local/lib/python3.10/dist-packages (from torch>=1.10.0->accelerate) (2.1.0)\n",
            "Requirement already satisfied: requests in /usr/local/lib/python3.10/dist-packages (from huggingface-hub->accelerate) (2.31.0)\n",
            "Requirement already satisfied: tqdm>=4.42.1 in /usr/local/lib/python3.10/dist-packages (from huggingface-hub->accelerate) (4.66.2)\n",
            "Requirement already satisfied: MarkupSafe>=2.0 in /usr/local/lib/python3.10/dist-packages (from jinja2->torch>=1.10.0->accelerate) (2.1.5)\n",
            "Requirement already satisfied: charset-normalizer<4,>=2 in /usr/local/lib/python3.10/dist-packages (from requests->huggingface-hub->accelerate) (3.3.2)\n",
            "Requirement already satisfied: idna<4,>=2.5 in /usr/local/lib/python3.10/dist-packages (from requests->huggingface-hub->accelerate) (3.6)\n",
            "Requirement already satisfied: urllib3<3,>=1.21.1 in /usr/local/lib/python3.10/dist-packages (from requests->huggingface-hub->accelerate) (2.0.7)\n",
            "Requirement already satisfied: certifi>=2017.4.17 in /usr/local/lib/python3.10/dist-packages (from requests->huggingface-hub->accelerate) (2024.2.2)\n",
            "Requirement already satisfied: mpmath>=0.19 in /usr/local/lib/python3.10/dist-packages (from sympy->torch>=1.10.0->accelerate) (1.3.0)\n",
            "Requirement already satisfied: transformers[torch] in /usr/local/lib/python3.10/dist-packages (4.37.2)\n",
            "Requirement already satisfied: filelock in /usr/local/lib/python3.10/dist-packages (from transformers[torch]) (3.13.1)\n",
            "Requirement already satisfied: huggingface-hub<1.0,>=0.19.3 in /usr/local/lib/python3.10/dist-packages (from transformers[torch]) (0.20.3)\n",
            "Requirement already satisfied: numpy>=1.17 in /usr/local/lib/python3.10/dist-packages (from transformers[torch]) (1.25.2)\n",
            "Requirement already satisfied: packaging>=20.0 in /usr/local/lib/python3.10/dist-packages (from transformers[torch]) (23.2)\n",
            "Requirement already satisfied: pyyaml>=5.1 in /usr/local/lib/python3.10/dist-packages (from transformers[torch]) (6.0.1)\n",
            "Requirement already satisfied: regex!=2019.12.17 in /usr/local/lib/python3.10/dist-packages (from transformers[torch]) (2023.12.25)\n",
            "Requirement already satisfied: requests in /usr/local/lib/python3.10/dist-packages (from transformers[torch]) (2.31.0)\n",
            "Requirement already satisfied: tokenizers<0.19,>=0.14 in /usr/local/lib/python3.10/dist-packages (from transformers[torch]) (0.15.2)\n",
            "Requirement already satisfied: safetensors>=0.4.1 in /usr/local/lib/python3.10/dist-packages (from transformers[torch]) (0.4.2)\n",
            "Requirement already satisfied: tqdm>=4.27 in /usr/local/lib/python3.10/dist-packages (from transformers[torch]) (4.66.2)\n",
            "Requirement already satisfied: torch!=1.12.0,>=1.11 in /usr/local/lib/python3.10/dist-packages (from transformers[torch]) (2.1.0+cu121)\n",
            "Requirement already satisfied: accelerate>=0.21.0 in /usr/local/lib/python3.10/dist-packages (from transformers[torch]) (0.27.2)\n",
            "Requirement already satisfied: psutil in /usr/local/lib/python3.10/dist-packages (from accelerate>=0.21.0->transformers[torch]) (5.9.5)\n",
            "Requirement already satisfied: fsspec>=2023.5.0 in /usr/local/lib/python3.10/dist-packages (from huggingface-hub<1.0,>=0.19.3->transformers[torch]) (2023.6.0)\n",
            "Requirement already satisfied: typing-extensions>=3.7.4.3 in /usr/local/lib/python3.10/dist-packages (from huggingface-hub<1.0,>=0.19.3->transformers[torch]) (4.9.0)\n",
            "Requirement already satisfied: sympy in /usr/local/lib/python3.10/dist-packages (from torch!=1.12.0,>=1.11->transformers[torch]) (1.12)\n",
            "Requirement already satisfied: networkx in /usr/local/lib/python3.10/dist-packages (from torch!=1.12.0,>=1.11->transformers[torch]) (3.2.1)\n",
            "Requirement already satisfied: jinja2 in /usr/local/lib/python3.10/dist-packages (from torch!=1.12.0,>=1.11->transformers[torch]) (3.1.3)\n",
            "Requirement already satisfied: triton==2.1.0 in /usr/local/lib/python3.10/dist-packages (from torch!=1.12.0,>=1.11->transformers[torch]) (2.1.0)\n",
            "Requirement already satisfied: charset-normalizer<4,>=2 in /usr/local/lib/python3.10/dist-packages (from requests->transformers[torch]) (3.3.2)\n",
            "Requirement already satisfied: idna<4,>=2.5 in /usr/local/lib/python3.10/dist-packages (from requests->transformers[torch]) (3.6)\n",
            "Requirement already satisfied: urllib3<3,>=1.21.1 in /usr/local/lib/python3.10/dist-packages (from requests->transformers[torch]) (2.0.7)\n",
            "Requirement already satisfied: certifi>=2017.4.17 in /usr/local/lib/python3.10/dist-packages (from requests->transformers[torch]) (2024.2.2)\n",
            "Requirement already satisfied: MarkupSafe>=2.0 in /usr/local/lib/python3.10/dist-packages (from jinja2->torch!=1.12.0,>=1.11->transformers[torch]) (2.1.5)\n",
            "Requirement already satisfied: mpmath>=0.19 in /usr/local/lib/python3.10/dist-packages (from sympy->torch!=1.12.0,>=1.11->transformers[torch]) (1.3.0)\n"
          ]
        }
      ],
      "source": [
        "!pip install accelerate -U\n",
        "!pip install transformers[torch]\n",
        "from transformers import TrainingArguments\n",
        "\n",
        "training_args = TrainingArguments(\n",
        "    output_dir='tmp_trainer',\n",
        "    evaluation_strategy='epoch',\n",
        "    logging_steps=5,\n",
        ")"
      ],
      "id": "e6d2854d"
    },
    {
      "cell_type": "markdown",
      "metadata": {
        "id": "2f22cfb9"
      },
      "source": [
        "In addition to the loss, we also track classification accuracy. For this we import the [Hugging Face Evaluate](https://huggingface.co/docs/evaluate/en/index) library and define a small helper function `compute_metrics()` that the trainer will call after each epoch."
      ],
      "id": "2f22cfb9"
    },
    {
      "cell_type": "code",
      "execution_count": null,
      "metadata": {
        "colab": {
          "base_uri": "https://localhost:8080/",
          "height": 678,
          "referenced_widgets": [
            "0287154940284c4e9714aaaf74a53efe",
            "8326c1a15b19495d90faa13e4eb053ab",
            "2fa01c4a82714f83bd0c0c6add4ba001",
            "0b1fec5a8bb6473b814d8a1e153f1a66",
            "aa85c5ab02fb4db7bd4bc52ca43344ec",
            "00a605dcba3a4ab48ae0a3d7982859d6",
            "8a3fdb65883c4edf8220d6633f6d7149",
            "15e0f89885494bb5933b8970ac536200",
            "054e6ced3f2e428186b7cc2f429ea1c0",
            "57f530b8a5164424beea1ede666867d5",
            "8233170fced34925b94e279fef0bbab1"
          ]
        },
        "id": "4bafbadf",
        "outputId": "e7b1618f-57a4-425b-e9d1-44a2823d038b"
      },
      "outputs": [
        {
          "name": "stdout",
          "output_type": "stream",
          "text": [
            "Collecting evaluate\n",
            "  Downloading evaluate-0.4.1-py3-none-any.whl (84 kB)\n",
            "\u001b[2K     \u001b[90m━━━━━━━━━━━━━━━━━━━━━━━━━━━━━━━━━━━━━━━━\u001b[0m \u001b[32m84.1/84.1 kB\u001b[0m \u001b[31m1.0 MB/s\u001b[0m eta \u001b[36m0:00:00\u001b[0m\n",
            "\u001b[?25hRequirement already satisfied: datasets>=2.0.0 in /usr/local/lib/python3.10/dist-packages (from evaluate) (2.17.1)\n",
            "Requirement already satisfied: numpy>=1.17 in /usr/local/lib/python3.10/dist-packages (from evaluate) (1.25.2)\n",
            "Requirement already satisfied: dill in /usr/local/lib/python3.10/dist-packages (from evaluate) (0.3.8)\n",
            "Requirement already satisfied: pandas in /usr/local/lib/python3.10/dist-packages (from evaluate) (1.5.3)\n",
            "Requirement already satisfied: requests>=2.19.0 in /usr/local/lib/python3.10/dist-packages (from evaluate) (2.31.0)\n",
            "Requirement already satisfied: tqdm>=4.62.1 in /usr/local/lib/python3.10/dist-packages (from evaluate) (4.66.2)\n",
            "Requirement already satisfied: xxhash in /usr/local/lib/python3.10/dist-packages (from evaluate) (3.4.1)\n",
            "Requirement already satisfied: multiprocess in /usr/local/lib/python3.10/dist-packages (from evaluate) (0.70.16)\n",
            "Requirement already satisfied: fsspec[http]>=2021.05.0 in /usr/local/lib/python3.10/dist-packages (from evaluate) (2023.6.0)\n",
            "Requirement already satisfied: huggingface-hub>=0.7.0 in /usr/local/lib/python3.10/dist-packages (from evaluate) (0.20.3)\n",
            "Requirement already satisfied: packaging in /usr/local/lib/python3.10/dist-packages (from evaluate) (23.2)\n",
            "Collecting responses<0.19 (from evaluate)\n",
            "  Downloading responses-0.18.0-py3-none-any.whl (38 kB)\n",
            "Requirement already satisfied: filelock in /usr/local/lib/python3.10/dist-packages (from datasets>=2.0.0->evaluate) (3.13.1)\n",
            "Requirement already satisfied: pyarrow>=12.0.0 in /usr/local/lib/python3.10/dist-packages (from datasets>=2.0.0->evaluate) (14.0.2)\n",
            "Requirement already satisfied: pyarrow-hotfix in /usr/local/lib/python3.10/dist-packages (from datasets>=2.0.0->evaluate) (0.6)\n",
            "Requirement already satisfied: aiohttp in /usr/local/lib/python3.10/dist-packages (from datasets>=2.0.0->evaluate) (3.9.3)\n",
            "Requirement already satisfied: pyyaml>=5.1 in /usr/local/lib/python3.10/dist-packages (from datasets>=2.0.0->evaluate) (6.0.1)\n",
            "Requirement already satisfied: typing-extensions>=3.7.4.3 in /usr/local/lib/python3.10/dist-packages (from huggingface-hub>=0.7.0->evaluate) (4.9.0)\n",
            "Requirement already satisfied: charset-normalizer<4,>=2 in /usr/local/lib/python3.10/dist-packages (from requests>=2.19.0->evaluate) (3.3.2)\n",
            "Requirement already satisfied: idna<4,>=2.5 in /usr/local/lib/python3.10/dist-packages (from requests>=2.19.0->evaluate) (3.6)\n",
            "Requirement already satisfied: urllib3<3,>=1.21.1 in /usr/local/lib/python3.10/dist-packages (from requests>=2.19.0->evaluate) (2.0.7)\n",
            "Requirement already satisfied: certifi>=2017.4.17 in /usr/local/lib/python3.10/dist-packages (from requests>=2.19.0->evaluate) (2024.2.2)\n",
            "Requirement already satisfied: python-dateutil>=2.8.1 in /usr/local/lib/python3.10/dist-packages (from pandas->evaluate) (2.8.2)\n",
            "Requirement already satisfied: pytz>=2020.1 in /usr/local/lib/python3.10/dist-packages (from pandas->evaluate) (2023.4)\n",
            "Requirement already satisfied: aiosignal>=1.1.2 in /usr/local/lib/python3.10/dist-packages (from aiohttp->datasets>=2.0.0->evaluate) (1.3.1)\n",
            "Requirement already satisfied: attrs>=17.3.0 in /usr/local/lib/python3.10/dist-packages (from aiohttp->datasets>=2.0.0->evaluate) (23.2.0)\n",
            "Requirement already satisfied: frozenlist>=1.1.1 in /usr/local/lib/python3.10/dist-packages (from aiohttp->datasets>=2.0.0->evaluate) (1.4.1)\n",
            "Requirement already satisfied: multidict<7.0,>=4.5 in /usr/local/lib/python3.10/dist-packages (from aiohttp->datasets>=2.0.0->evaluate) (6.0.5)\n",
            "Requirement already satisfied: yarl<2.0,>=1.0 in /usr/local/lib/python3.10/dist-packages (from aiohttp->datasets>=2.0.0->evaluate) (1.9.4)\n",
            "Requirement already satisfied: async-timeout<5.0,>=4.0 in /usr/local/lib/python3.10/dist-packages (from aiohttp->datasets>=2.0.0->evaluate) (4.0.3)\n",
            "Requirement already satisfied: six>=1.5 in /usr/local/lib/python3.10/dist-packages (from python-dateutil>=2.8.1->pandas->evaluate) (1.16.0)\n",
            "Installing collected packages: responses, evaluate\n",
            "Successfully installed evaluate-0.4.1 responses-0.18.0\n"
          ]
        },
        {
          "data": {
            "application/vnd.jupyter.widget-view+json": {
              "model_id": "0287154940284c4e9714aaaf74a53efe",
              "version_major": 2,
              "version_minor": 0
            },
            "text/plain": [
              "Downloading builder script:   0%|          | 0.00/4.20k [00:00<?, ?B/s]"
            ]
          },
          "metadata": {},
          "output_type": "display_data"
        }
      ],
      "source": [
        "!pip install evaluate\n",
        "import evaluate\n",
        "\n",
        "accuracy = evaluate.load('accuracy')\n",
        "\n",
        "def compute_metrics(eval_pred):\n",
        "    logits, labels = eval_pred\n",
        "    predictions = logits.argmax(axis=-1)\n",
        "    return accuracy.compute(predictions=predictions, references=labels)"
      ],
      "id": "4bafbadf"
    },
    {
      "cell_type": "markdown",
      "metadata": {
        "id": "f4a488a2"
      },
      "source": [
        "In the next cell we define a convenience function `make_trainer()` that creates a readily-configured trainer for a specified model (*model*). We will use this trainer both to train the model on the training section of the tokenised review dataset, and to evaluate it on the evaluation section."
      ],
      "id": "f4a488a2"
    },
    {
      "cell_type": "code",
      "execution_count": null,
      "metadata": {
        "id": "eb219812"
      },
      "outputs": [],
      "source": [
        "from transformers import Trainer\n",
        "\n",
        "def make_trainer(model):\n",
        "    trainer = Trainer(\n",
        "        model=model,\n",
        "        args=training_args,\n",
        "        train_dataset=tokenized_imdb_dataset['train'],\n",
        "        eval_dataset=tokenized_imdb_dataset['eval'],\n",
        "        compute_metrics=compute_metrics,\n",
        "    )\n",
        "    return trainer"
      ],
      "id": "eb219812"
    },
    {
      "cell_type": "markdown",
      "metadata": {
        "id": "851792f4"
      },
      "source": [
        "## Problem 1: Full fine-tuning (1 point)"
      ],
      "id": "851792f4"
    },
    {
      "cell_type": "markdown",
      "metadata": {
        "id": "892ac059"
      },
      "source": [
        "In the rest of this notebook, we will work our way to the implementation of LoRA, and compare LoRA to traditional fine-tuning methods. Our first point of reference is a fully fine-tuned DistilBERT model."
      ],
      "id": "892ac059"
    },
    {
      "cell_type": "markdown",
      "metadata": {
        "id": "6206cf1c"
      },
      "source": [
        "We start by loading the pre-trained model:"
      ],
      "id": "6206cf1c"
    },
    {
      "cell_type": "code",
      "execution_count": null,
      "metadata": {
        "colab": {
          "base_uri": "https://localhost:8080/",
          "height": 681,
          "referenced_widgets": [
            "e5381aef039443e5a98b3106c7de4025",
            "7b92678173c8454a87f07f3ad071d9d8",
            "2e01509c6cae4d148d5f449c846cc7d2",
            "dc7d4735dbb744bca0d3b50603067eff",
            "8e3d27ee813e47e5be093c71e4d7d435",
            "78321433e6354fc59b1284e5c102092d",
            "c80ade76154941df9294a266771675b7",
            "78e45a202cd64fc58f6d4ae88c640ca7",
            "8e425d41f84a40a99c94d3b4dda14867",
            "53de1a5f57bd4e30a39a95eb742b1e92",
            "b2c6ddd3a03a47c8af3359514157d1e6"
          ]
        },
        "id": "d1433800",
        "outputId": "22acce9e-1a22-4c39-89a6-85f896e81de5"
      },
      "outputs": [
        {
          "data": {
            "application/vnd.jupyter.widget-view+json": {
              "model_id": "e5381aef039443e5a98b3106c7de4025",
              "version_major": 2,
              "version_minor": 0
            },
            "text/plain": [
              "model.safetensors:   0%|          | 0.00/268M [00:00<?, ?B/s]"
            ]
          },
          "metadata": {},
          "output_type": "display_data"
        },
        {
          "name": "stderr",
          "output_type": "stream",
          "text": [
            "Some weights of DistilBertForSequenceClassification were not initialized from the model checkpoint at distilbert-base-uncased and are newly initialized: ['classifier.bias', 'classifier.weight', 'pre_classifier.bias', 'pre_classifier.weight']\n",
            "You should probably TRAIN this model on a down-stream task to be able to use it for predictions and inference.\n"
          ]
        },
        {
          "data": {
            "text/plain": [
              "DistilBertForSequenceClassification(\n",
              "  (distilbert): DistilBertModel(\n",
              "    (embeddings): Embeddings(\n",
              "      (word_embeddings): Embedding(30522, 768, padding_idx=0)\n",
              "      (position_embeddings): Embedding(512, 768)\n",
              "      (LayerNorm): LayerNorm((768,), eps=1e-12, elementwise_affine=True)\n",
              "      (dropout): Dropout(p=0.1, inplace=False)\n",
              "    )\n",
              "    (transformer): Transformer(\n",
              "      (layer): ModuleList(\n",
              "        (0-5): 6 x TransformerBlock(\n",
              "          (attention): MultiHeadSelfAttention(\n",
              "            (dropout): Dropout(p=0.1, inplace=False)\n",
              "            (q_lin): Linear(in_features=768, out_features=768, bias=True)\n",
              "            (k_lin): Linear(in_features=768, out_features=768, bias=True)\n",
              "            (v_lin): Linear(in_features=768, out_features=768, bias=True)\n",
              "            (out_lin): Linear(in_features=768, out_features=768, bias=True)\n",
              "          )\n",
              "          (sa_layer_norm): LayerNorm((768,), eps=1e-12, elementwise_affine=True)\n",
              "          (ffn): FFN(\n",
              "            (dropout): Dropout(p=0.1, inplace=False)\n",
              "            (lin1): Linear(in_features=768, out_features=3072, bias=True)\n",
              "            (lin2): Linear(in_features=3072, out_features=768, bias=True)\n",
              "            (activation): GELUActivation()\n",
              "          )\n",
              "          (output_layer_norm): LayerNorm((768,), eps=1e-12, elementwise_affine=True)\n",
              "        )\n",
              "      )\n",
              "    )\n",
              "  )\n",
              "  (pre_classifier): Linear(in_features=768, out_features=768, bias=True)\n",
              "  (classifier): Linear(in_features=768, out_features=2, bias=True)\n",
              "  (dropout): Dropout(p=0.2, inplace=False)\n",
              ")"
            ]
          },
          "execution_count": 13,
          "metadata": {},
          "output_type": "execute_result"
        }
      ],
      "source": [
        "from transformers import AutoModelForSequenceClassification\n",
        "\n",
        "pretrained_model = AutoModelForSequenceClassification.from_pretrained('distilbert-base-uncased', num_labels=2)\n",
        "\n",
        "pretrained_model"
      ],
      "id": "d1433800"
    },
    {
      "cell_type": "markdown",
      "metadata": {
        "id": "9427dceb"
      },
      "source": [
        "The architecture of DistilBERT is that of a standard Transformer encoder with an embedding layer (`embeddings`) followed by a stack of six Transformer blocks (`transformer`) and a feedforward network with two linear layers (`pre_classifier` and `classifier`) and a final dropout layer (`dropout`)."
      ],
      "id": "9427dceb"
    },
    {
      "cell_type": "markdown",
      "metadata": {
        "id": "a633d0ef"
      },
      "source": [
        "### Count the number of trainable parameters\n",
        "\n",
        "One relevant measure in the context of parameter-efficient fine-tuning is the number of parameters that need to be changed when training a model. Your first task in this lab is to write a function `num_trainable_parameters()` that calculates this number for a given model."
      ],
      "id": "a633d0ef"
    },
    {
      "cell_type": "code",
      "execution_count": null,
      "metadata": {
        "id": "69dc6856"
      },
      "outputs": [],
      "source": [
        "def num_trainable_parameters(model):\n",
        "    trainable_parameters = 0\n",
        "    for parameter in model.parameters():\n",
        "      if parameter.requires_grad:\n",
        "        number_of_parameters = parameter.numel()\n",
        "        trainable_parameters += number_of_parameters\n",
        "    return trainable_parameters"
      ],
      "id": "69dc6856"
    },
    {
      "cell_type": "markdown",
      "metadata": {
        "id": "0d221df2"
      },
      "source": [
        "The function should implement the following specification:\n",
        "\n",
        "> **num_trainable_parameters** (*model*)\n",
        ">\n",
        "> Returns the number of float-valued trainable parameters in the specified *model* as an integer.\n",
        "\n",
        "#### 👍 Hint\n",
        "\n",
        "The term *parameter* can refer to either complete tensors or the individual elements of these tensors. For example, a linear layer created by `nn.Linear(3, 5)` has 2&nbsp;tensor-valued parameters (a weight matrix and a bias vector) and 20&nbsp;float-valued parameters (the elements of these tensors). To get the tensor-valued parameters of a model, you can use the [`parameters()`](https://pytorch.org/docs/stable/generated/torch.nn.Module.html#torch.nn.Module.parameters) method. A parameter is *trainable* if it requires gradient."
      ],
      "id": "0d221df2"
    },
    {
      "cell_type": "markdown",
      "metadata": {
        "id": "190616d0"
      },
      "source": [
        "#### 🤞 Test your code\n",
        "\n",
        "To test your code, apply your function to the pre-trained model. The correct number of float-valued trainable parameters for this model is 66,955,010."
      ],
      "id": "190616d0"
    },
    {
      "cell_type": "code",
      "execution_count": null,
      "metadata": {
        "colab": {
          "base_uri": "https://localhost:8080/"
        },
        "id": "E8cOI5lxTeDP",
        "outputId": "e8403b0b-6634-49df-dc65-da6a20f1f3b6"
      },
      "outputs": [
        {
          "data": {
            "text/plain": [
              "66955010"
            ]
          },
          "execution_count": 15,
          "metadata": {},
          "output_type": "execute_result"
        }
      ],
      "source": [
        "trainable_parameters = num_trainable_parameters(pretrained_model)\n",
        "trainable_parameters"
      ],
      "id": "E8cOI5lxTeDP"
    },
    {
      "cell_type": "markdown",
      "metadata": {
        "id": "6f18202c"
      },
      "source": [
        "### Fine-tuning\n",
        "\n",
        "When we load the pre-trained model, the Hugging Face Transformers library warns us that the weights of the feedforward network have not yet been trained. To do so, in the next cell, we pass the pre-trained model to a trainer and initiate the fine-tuning process.\n",
        "\n",
        "**⚠️ Please note that fine-tuning the model will take some time! ⚠️**\n",
        "\n",
        "You can work on the other problems in this lab while you are waiting."
      ],
      "id": "6f18202c"
    },
    {
      "cell_type": "code",
      "execution_count": null,
      "metadata": {
        "colab": {
          "base_uri": "https://localhost:8080/",
          "height": 219
        },
        "id": "d2de10f5",
        "outputId": "0225fed4-ac93-465c-d44f-b7c5cb412502"
      },
      "outputs": [
        {
          "data": {
            "text/html": [
              "\n",
              "    <div>\n",
              "      \n",
              "      <progress value='750' max='750' style='width:300px; height:20px; vertical-align: middle;'></progress>\n",
              "      [750/750 05:22, Epoch 3/3]\n",
              "    </div>\n",
              "    <table border=\"1\" class=\"dataframe\">\n",
              "  <thead>\n",
              " <tr style=\"text-align: left;\">\n",
              "      <th>Epoch</th>\n",
              "      <th>Training Loss</th>\n",
              "      <th>Validation Loss</th>\n",
              "      <th>Accuracy</th>\n",
              "    </tr>\n",
              "  </thead>\n",
              "  <tbody>\n",
              "    <tr>\n",
              "      <td>1</td>\n",
              "      <td>0.130400</td>\n",
              "      <td>0.399973</td>\n",
              "      <td>0.866000</td>\n",
              "    </tr>\n",
              "    <tr>\n",
              "      <td>2</td>\n",
              "      <td>0.016000</td>\n",
              "      <td>0.528189</td>\n",
              "      <td>0.874000</td>\n",
              "    </tr>\n",
              "    <tr>\n",
              "      <td>3</td>\n",
              "      <td>0.002600</td>\n",
              "      <td>0.485673</td>\n",
              "      <td>0.892000</td>\n",
              "    </tr>\n",
              "  </tbody>\n",
              "</table><p>"
            ],
            "text/plain": [
              "<IPython.core.display.HTML object>"
            ]
          },
          "metadata": {},
          "output_type": "display_data"
        },
        {
          "name": "stderr",
          "output_type": "stream",
          "text": [
            "Checkpoint destination directory tmp_trainer/checkpoint-500 already exists and is non-empty.Saving will proceed but saved results may be invalid.\n"
          ]
        },
        {
          "data": {
            "text/plain": [
              "TrainOutput(global_step=750, training_loss=0.2288031528443098, metrics={'train_runtime': 323.448, 'train_samples_per_second': 18.55, 'train_steps_per_second': 2.319, 'total_flos': 794804391936000.0, 'train_loss': 0.2288031528443098, 'epoch': 3.0})"
            ]
          },
          "execution_count": 16,
          "metadata": {},
          "output_type": "execute_result"
        }
      ],
      "source": [
        "finetuned_trainer = make_trainer(pretrained_model)\n",
        "\n",
        "finetuned_trainer.train()"
      ],
      "id": "d2de10f5"
    },
    {
      "cell_type": "markdown",
      "metadata": {
        "id": "9b02d273"
      },
      "source": [
        "Because full fine-tuning is so resource-intensive, we save the fine-tuned model to disk:"
      ],
      "id": "9b02d273"
    },
    {
      "cell_type": "code",
      "execution_count": null,
      "metadata": {
        "id": "2e394803"
      },
      "outputs": [],
      "source": [
        "finetuned_trainer.save_model('/content/drive/MyDrive/tdde09/lab5/finetuned')"
      ],
      "id": "2e394803"
    },
    {
      "cell_type": "markdown",
      "metadata": {
        "id": "c624fc86"
      },
      "source": [
        "Later in this notebook, whenever you need the fully fine-tuned version of the model, you can load it as follows:"
      ],
      "id": "c624fc86"
    },
    {
      "cell_type": "code",
      "execution_count": null,
      "metadata": {
        "id": "f1124496"
      },
      "outputs": [],
      "source": [
        "finetuned_model = AutoModelForSequenceClassification.from_pretrained('/content/drive/MyDrive/tdde09/lab5/finetuned')"
      ],
      "id": "f1124496"
    },
    {
      "cell_type": "markdown",
      "metadata": {
        "id": "b64681f8"
      },
      "source": [
        "### Convenience functions\n",
        "\n",
        "Because we will repeat the steps we just took to fine-tune the pre-trained model several times in this notebook, we define two convenience functions:"
      ],
      "id": "b64681f8"
    },
    {
      "cell_type": "code",
      "execution_count": null,
      "metadata": {
        "id": "960d010b"
      },
      "outputs": [],
      "source": [
        "def train(model):\n",
        "    print('Number of trainable parameters:', num_trainable_parameters(model))\n",
        "    trainer = make_trainer(model)\n",
        "    trainer.train()\n",
        "    return model"
      ],
      "id": "960d010b"
    },
    {
      "cell_type": "code",
      "execution_count": null,
      "metadata": {
        "id": "96208182"
      },
      "outputs": [],
      "source": [
        "def evaluate(model):\n",
        "    trainer = make_trainer(model)\n",
        "    return trainer.evaluate()"
      ],
      "id": "96208182"
    },
    {
      "cell_type": "markdown",
      "metadata": {
        "id": "1cfa5b36"
      },
      "source": [
        "## Problem 2: Tuning the final layers only (1 point)"
      ],
      "id": "1cfa5b36"
    },
    {
      "cell_type": "markdown",
      "metadata": {
        "id": "0227d8c8"
      },
      "source": [
        "If full fine-tuning marks one end of the complexity spectrum, the other end is marked by only tuning the final layers of the transformer – the *head* of the model. In the case of DistilBERT, the head consists of the `pre_classifier` and `classifier` layers."
      ],
      "id": "0227d8c8"
    },
    {
      "cell_type": "markdown",
      "metadata": {
        "id": "4b309f40"
      },
      "source": [
        "Implement the head-tuning strategy by coding the following function:"
      ],
      "id": "4b309f40"
    },
    {
      "cell_type": "code",
      "execution_count": null,
      "metadata": {
        "id": "a05aae5b"
      },
      "outputs": [],
      "source": [
        "def make_headtuned_model():\n",
        "\n",
        "    model = AutoModelForSequenceClassification.from_pretrained('distilbert-base-uncased', num_labels=2)\n",
        "\n",
        "    for name, param in model.named_parameters():\n",
        "        if 'pre_classifier' in name or 'classifier' in name:\n",
        "            param.requires_grad = True\n",
        "        else:\n",
        "            param.requires_grad = False\n",
        "\n",
        "    return model"
      ],
      "id": "a05aae5b"
    },
    {
      "cell_type": "markdown",
      "metadata": {
        "id": "707dd4d5"
      },
      "source": [
        "Here is the specification of this function:\n",
        "\n",
        "> **make_headtuned_model** ()\n",
        ">\n",
        "> Returns a model that is identical to the pre-trained model, except that the head layers have been trained on the sentiment data. (The other parameters of the pre-trained model are left untouched.)\n",
        "\n",
        "#### 👍 Hint\n",
        "\n",
        "You freeze a parameter by setting its `requires_grad`-attribute to `False`."
      ],
      "id": "707dd4d5"
    },
    {
      "cell_type": "markdown",
      "metadata": {
        "id": "60679685"
      },
      "source": [
        "Once you have an implementation of the head-tuning strategy, evaluate it on the evaluation data. How much accuracy do we lose when only training the final layers of the pre-trained model, compared to full fine-tuning?"
      ],
      "id": "60679685"
    },
    {
      "cell_type": "code",
      "execution_count": null,
      "metadata": {
        "colab": {
          "base_uri": "https://localhost:8080/",
          "height": 276
        },
        "id": "c66d73a6",
        "outputId": "d74b228e-3246-4742-dc03-482ff1ab5d55"
      },
      "outputs": [
        {
          "name": "stderr",
          "output_type": "stream",
          "text": [
            "Some weights of DistilBertForSequenceClassification were not initialized from the model checkpoint at distilbert-base-uncased and are newly initialized: ['classifier.bias', 'classifier.weight', 'pre_classifier.bias', 'pre_classifier.weight']\n",
            "You should probably TRAIN this model on a down-stream task to be able to use it for predictions and inference.\n"
          ]
        },
        {
          "name": "stdout",
          "output_type": "stream",
          "text": [
            "Number of trainable parameters: 592130\n"
          ]
        },
        {
          "data": {
            "text/html": [
              "\n",
              "    <div>\n",
              "      \n",
              "      <progress value='750' max='750' style='width:300px; height:20px; vertical-align: middle;'></progress>\n",
              "      [750/750 02:14, Epoch 3/3]\n",
              "    </div>\n",
              "    <table border=\"1\" class=\"dataframe\">\n",
              "  <thead>\n",
              " <tr style=\"text-align: left;\">\n",
              "      <th>Epoch</th>\n",
              "      <th>Training Loss</th>\n",
              "      <th>Validation Loss</th>\n",
              "      <th>Accuracy</th>\n",
              "    </tr>\n",
              "  </thead>\n",
              "  <tbody>\n",
              "    <tr>\n",
              "      <td>1</td>\n",
              "      <td>0.571800</td>\n",
              "      <td>0.582298</td>\n",
              "      <td>0.814000</td>\n",
              "    </tr>\n",
              "    <tr>\n",
              "      <td>2</td>\n",
              "      <td>0.553900</td>\n",
              "      <td>0.523605</td>\n",
              "      <td>0.814000</td>\n",
              "    </tr>\n",
              "    <tr>\n",
              "      <td>3</td>\n",
              "      <td>0.471600</td>\n",
              "      <td>0.505698</td>\n",
              "      <td>0.814000</td>\n",
              "    </tr>\n",
              "  </tbody>\n",
              "</table><p>"
            ],
            "text/plain": [
              "<IPython.core.display.HTML object>"
            ]
          },
          "metadata": {},
          "output_type": "display_data"
        },
        {
          "name": "stderr",
          "output_type": "stream",
          "text": [
            "Checkpoint destination directory tmp_trainer/checkpoint-500 already exists and is non-empty.Saving will proceed but saved results may be invalid.\n"
          ]
        },
        {
          "data": {
            "text/html": [
              "\n",
              "    <div>\n",
              "      \n",
              "      <progress value='63' max='63' style='width:300px; height:20px; vertical-align: middle;'></progress>\n",
              "      [63/63 00:08]\n",
              "    </div>\n",
              "    "
            ],
            "text/plain": [
              "<IPython.core.display.HTML object>"
            ]
          },
          "metadata": {},
          "output_type": "display_data"
        }
      ],
      "source": [
        "headtuned_model = make_headtuned_model()\n",
        "headtuned_model_trained = train(headtuned_model)\n",
        "headtuned_model_evaluation = evaluate(headtuned_model_trained)"
      ],
      "id": "c66d73a6"
    },
    {
      "cell_type": "markdown",
      "metadata": {
        "id": "334ee3b2"
      },
      "source": [
        "#### 🤞 Test your code\n",
        "\n",
        "If you configured your model correctly, `num_trainable_parameters()` should show 592,130 trainable parameters."
      ],
      "id": "334ee3b2"
    },
    {
      "cell_type": "code",
      "execution_count": null,
      "metadata": {
        "colab": {
          "base_uri": "https://localhost:8080/"
        },
        "id": "jZscvJi3-ALT",
        "outputId": "f9792a6c-9fc9-4f7f-ff35-f803be1dc54c"
      },
      "outputs": [
        {
          "name": "stdout",
          "output_type": "stream",
          "text": [
            "592130\n"
          ]
        }
      ],
      "source": [
        "print(num_trainable_parameters(headtuned_model))\n"
      ],
      "id": "jZscvJi3-ALT"
    },
    {
      "cell_type": "markdown",
      "metadata": {
        "id": "2bced4a1"
      },
      "source": [
        "For future reference, we also save the head-tuned model:"
      ],
      "id": "2bced4a1"
    },
    {
      "cell_type": "code",
      "execution_count": null,
      "metadata": {
        "id": "59677530"
      },
      "outputs": [],
      "source": [
        "make_trainer(headtuned_model).save_model('/content/drive/MyDrive/tdde09/lab5/headtuned')"
      ],
      "id": "59677530"
    },
    {
      "cell_type": "code",
      "execution_count": null,
      "metadata": {
        "id": "TFmr57ZJssJ1"
      },
      "outputs": [],
      "source": [
        "def freeze_parameters(model):\n",
        "\n",
        "    for name, param in model.named_parameters():\n",
        "        if 'pre_classifier' in name or 'classifier' in name:\n",
        "            param.requires_grad = True\n",
        "        else:\n",
        "            param.requires_grad = False\n",
        "\n",
        "    return model"
      ],
      "id": "TFmr57ZJssJ1"
    },
    {
      "cell_type": "code",
      "execution_count": null,
      "metadata": {
        "id": "UW9YT_WtOVpF"
      },
      "outputs": [],
      "source": [
        "headtuned_model = freeze_parameters(AutoModelForSequenceClassification.from_pretrained('/content/drive/MyDrive/tdde09/lab5/headtuned'))\n"
      ],
      "id": "UW9YT_WtOVpF"
    },
    {
      "cell_type": "code",
      "execution_count": null,
      "metadata": {
        "colab": {
          "base_uri": "https://localhost:8080/"
        },
        "id": "MsG9Z6TPdCIr",
        "outputId": "664c03b5-3cfe-4659-9d16-549108ab51e2"
      },
      "outputs": [
        {
          "name": "stdout",
          "output_type": "stream",
          "text": [
            "592130\n"
          ]
        }
      ],
      "source": [
        "print(num_trainable_parameters(headtuned_model))"
      ],
      "id": "MsG9Z6TPdCIr"
    },
    {
      "cell_type": "markdown",
      "metadata": {
        "id": "ade8ef3f"
      },
      "source": [
        "## Problem 3: Layer surgery (4 points)"
      ],
      "id": "ade8ef3f"
    },
    {
      "cell_type": "markdown",
      "metadata": {
        "id": "94efdbce"
      },
      "source": [
        "LoRA works by “wrapping” frozen layers from the pre-trained Transformer model inside adapter modules. Conventionally, this wrapping is only applied to the linear layers that transform the queries and values in the self-attention mechanism. To implement the wrapping, we need functions to extract and replace layers in a model. Your task in this section is to code these functions."
      ],
      "id": "94efdbce"
    },
    {
      "cell_type": "markdown",
      "metadata": {
        "id": "a4660183"
      },
      "source": [
        "### Extracting layers\n",
        "\n",
        "Code a function that extracts the query and value linear layers from a DistilBERT model:"
      ],
      "id": "a4660183"
    },
    {
      "cell_type": "code",
      "execution_count": null,
      "metadata": {
        "id": "62f17aa1"
      },
      "outputs": [],
      "source": [
        "import torch.nn as nn\n",
        "\n",
        "def extract(model):\n",
        "\n",
        "    extracted_layers = {}\n",
        "\n",
        "    for i in range(len(model.distilbert.transformer.layer)):\n",
        "        q_lin_path = f'distilbert.transformer.layer.{i}.attention.q_lin'\n",
        "        v_lin_path = f'distilbert.transformer.layer.{i}.attention.v_lin'\n",
        "\n",
        "        q_lin_layer = model.get_submodule(q_lin_path)\n",
        "        v_lin_layer = model.get_submodule(v_lin_path)\n",
        "\n",
        "        extracted_layers[q_lin_path] = q_lin_layer\n",
        "        extracted_layers[v_lin_path] = v_lin_layer\n",
        "\n",
        "    return extracted_layers"
      ],
      "id": "62f17aa1"
    },
    {
      "cell_type": "markdown",
      "metadata": {
        "id": "52ed77d7"
      },
      "source": [
        "Implement this function to match the following specification:\n",
        "\n",
        "> **extract** (*model*)\n",
        ">\n",
        "> Takes a DistilBERT model (*model*) and extracts the query and value linear layers from each block of the Transformer. Returns a dictionary mapping the DistilBERT module names of these layers to the layers themselves (instances of `nn.Linear`).\n",
        "\n",
        "#### 👍 Hint\n",
        "\n",
        "As we saw earlier, the DistilBERT model consists of a hierarchy of nested submodules. Each of these can be addressed by a fully-qualified string name. Use [`get_submodule()`](https://pytorch.org/docs/stable/generated/torch.nn.Module.html#torch.nn.Module.get_submodule) to retrieve a layer by name. You can hard-wire the names of the layers you want to extract."
      ],
      "id": "52ed77d7"
    },
    {
      "cell_type": "code",
      "execution_count": null,
      "metadata": {
        "colab": {
          "base_uri": "https://localhost:8080/"
        },
        "id": "7-nd_laNOM_F",
        "outputId": "8ed2c505-31a4-4a7b-8cd2-a9fd1ca532e1"
      },
      "outputs": [
        {
          "data": {
            "text/plain": [
              "7087104"
            ]
          },
          "execution_count": 24,
          "metadata": {},
          "output_type": "execute_result"
        }
      ],
      "source": [
        "extracted_layers = extract(finetuned_model)\n",
        "\n",
        "total_number_trainable_parameters = 0\n",
        "for layer_name, layer in extracted_layers.items():\n",
        "  total_number_trainable_parameters += num_trainable_parameters(layer)\n",
        "total_number_trainable_parameters"
      ],
      "id": "7-nd_laNOM_F"
    },
    {
      "cell_type": "markdown",
      "metadata": {
        "id": "eee363a3"
      },
      "source": [
        "#### 🤞 Test your code\n",
        "\n",
        "To test your code, check the number of trainable float-valued parameters in the extracted layers. This number should be 7,087,104."
      ],
      "id": "eee363a3"
    },
    {
      "cell_type": "markdown",
      "metadata": {
        "id": "0abad1cc"
      },
      "source": [
        "### Replacing layers"
      ],
      "id": "0abad1cc"
    },
    {
      "cell_type": "markdown",
      "metadata": {
        "id": "ef07ef0d"
      },
      "source": [
        "Next, code the inverse of the `extract()` function to replace selected layers of a module using a dictionary of named layers."
      ],
      "id": "ef07ef0d"
    },
    {
      "cell_type": "code",
      "execution_count": null,
      "metadata": {
        "id": "0c7e5124"
      },
      "outputs": [],
      "source": [
        "def replace(model, named_layers):\n",
        "\n",
        "    for name, layer in named_layers.items():\n",
        "        sub_model = model\n",
        "        component = name.split(\".\")\n",
        "        for component_name in component[:-1]:\n",
        "          sub_model = getattr(sub_model, component_name)\n",
        "        setattr(sub_model, component[-1], layer)\n",
        "\n",
        "    return model"
      ],
      "id": "0c7e5124"
    },
    {
      "cell_type": "markdown",
      "metadata": {
        "id": "a56cfd34"
      },
      "source": [
        "Implement this function to match the following specification:\n",
        "\n",
        "> **replace** (*model*, *named_layers*)\n",
        ">\n",
        "> Takes a DistilBERT model (*model*) and a dictionary in the format returned by `extract()` (*named_layers*) and injects the extracted layers into the model. More specifically, suppose that *named_layers* contains a key–value pair `(name, layer)`. Then the function replaces the submodule of *model* addressed by the fully-qualified string name `name` by the layer `layer`. Returns the modified model.\n",
        "\n",
        "#### 👍 Hint\n",
        "\n",
        "Use [`getattr()`](https://docs.python.org/3/library/functions.html#getattr) and [`setattr()`](https://docs.python.org/3/library/functions.html#setattr) to return or set the value of a named submodule."
      ],
      "id": "a56cfd34"
    },
    {
      "cell_type": "markdown",
      "metadata": {
        "id": "b9003d41"
      },
      "source": [
        "#### 🤞 Test your code\n",
        "\n",
        "To test your implementation, write code that (1)&nbsp;extracts the query and value linear layers from the fine-tuned model; (2)&nbsp;replaces these layers with clones with random weights; and (3)&nbsp;replaces these layers again with the original versions. Evaluating the modified model after step&nbsp;(2) should yield a near-random accuracy. Evaluating it again after step&nbsp;(3) should yield the original accuracy.\n",
        "\n",
        "The following function should be helpful. It clones a linear layer, copying the weights and the bias from the original."
      ],
      "id": "b9003d41"
    },
    {
      "cell_type": "code",
      "execution_count": null,
      "metadata": {
        "id": "851b2937"
      },
      "outputs": [],
      "source": [
        "import torch.nn as nn\n",
        "\n",
        "def clone_linear(original):\n",
        "    out_features, in_features = original.weight.shape\n",
        "    copy = nn.Linear(in_features, out_features)\n",
        "    copy.load_state_dict(original.state_dict())\n",
        "    return copy"
      ],
      "id": "851b2937"
    },
    {
      "cell_type": "code",
      "execution_count": null,
      "metadata": {
        "colab": {
          "base_uri": "https://localhost:8080/",
          "height": 108
        },
        "id": "JEm3WhLcXadI",
        "outputId": "62a869c0-9f5d-4834-9ac3-68ecbe9ade90"
      },
      "outputs": [
        {
          "data": {
            "text/html": [
              "\n",
              "    <div>\n",
              "      \n",
              "      <progress value='63' max='63' style='width:300px; height:20px; vertical-align: middle;'></progress>\n",
              "      [63/63 00:07]\n",
              "    </div>\n",
              "    "
            ],
            "text/plain": [
              "<IPython.core.display.HTML object>"
            ]
          },
          "metadata": {},
          "output_type": "display_data"
        },
        {
          "data": {
            "text/html": [
              "\n",
              "    <div>\n",
              "      \n",
              "      <progress value='63' max='63' style='width:300px; height:20px; vertical-align: middle;'></progress>\n",
              "      [63/63 00:07]\n",
              "    </div>\n",
              "    "
            ],
            "text/plain": [
              "<IPython.core.display.HTML object>"
            ]
          },
          "metadata": {},
          "output_type": "display_data"
        },
        {
          "name": "stdout",
          "output_type": "stream",
          "text": [
            "{'eval_loss': 0.7088204622268677, 'eval_accuracy': 0.474, 'eval_runtime': 8.3772, 'eval_samples_per_second': 59.686, 'eval_steps_per_second': 7.52}\n",
            " \n",
            "{'eval_loss': 0.4856731593608856, 'eval_accuracy': 0.892, 'eval_runtime': 7.5285, 'eval_samples_per_second': 66.414, 'eval_steps_per_second': 8.368}\n"
          ]
        }
      ],
      "source": [
        "#1\n",
        "extracted_layers_finetune = extract(finetuned_model)\n",
        "\n",
        "#2\n",
        "random_layers = {}\n",
        "for layer_name, layer in extracted_layers_finetune.items():\n",
        "  random_layer = clone_linear(nn.Linear(layer.in_features, layer.out_features, bias=True))\n",
        "  random_layers[layer_name] = random_layer\n",
        "\n",
        "random_replaced_model = replace(finetuned_model, random_layers)\n",
        "\n",
        "step2_evaluation = evaluate(random_replaced_model)\n",
        "\n",
        "#3\n",
        "original_replaced_model = replace(random_replaced_model, extracted_layers_finetune)\n",
        "step3_evaluation = evaluate(original_replaced_model)\n",
        "\n",
        "print(step2_evaluation)\n",
        "print(\" \")\n",
        "print(step3_evaluation)"
      ],
      "id": "JEm3WhLcXadI"
    },
    {
      "cell_type": "markdown",
      "metadata": {
        "id": "cb91ef5c"
      },
      "source": [
        "## Problem 4: Low-rank approximation (6 points)"
      ],
      "id": "cb91ef5c"
    },
    {
      "cell_type": "markdown",
      "metadata": {
        "id": "e27ab7f3"
      },
      "source": [
        "The basic idea behind LoRA is to conceptualise fine-tuned weights as a sum $W_0 + \\Delta W$ of the weights from the pre-trained model, $W_0$, and a low-rank update matrix $\\Delta W$. The goal of fine-tuning, then, is to learn the update matrix; this happens in the adapter layers.\n",
        "\n",
        "Before we get to the implementation of the LoRA adapter layers in Problem&nbsp;4, in this section, we first check to what extent the assumption that fine-tuning can be described by low-rank matrices holds true for DistilBERT. To do so, we will “cheat” and replace the query and value linear layers of the head-tuned model with low-rank approximations. The technical key to this is the truncated singular value decomposition (SVD)."
      ],
      "id": "e27ab7f3"
    },
    {
      "cell_type": "markdown",
      "metadata": {
        "id": "a321995d"
      },
      "source": [
        "### Low-rank matrix approximation"
      ],
      "id": "a321995d"
    },
    {
      "cell_type": "markdown",
      "metadata": {
        "id": "2f563001"
      },
      "source": [
        "Your first task in this section is to implement the low-rank matrix approximation."
      ],
      "id": "2f563001"
    },
    {
      "cell_type": "code",
      "execution_count": null,
      "metadata": {
        "id": "b8b01b6c"
      },
      "outputs": [],
      "source": [
        "def approximate(matrix, rank):\n",
        "    U, S, V = torch.linalg.svd(matrix, full_matrices=False)\n",
        "\n",
        "    U_truncated = U[:, :rank]\n",
        "    S_truncated = S[:rank]\n",
        "    V_truncated = V[:rank, :]\n",
        "\n",
        "    low_rank_approximation = U_truncated @ torch.diag(S_truncated) @ V_truncated\n",
        "\n",
        "    return low_rank_approximation"
      ],
      "id": "b8b01b6c"
    },
    {
      "cell_type": "markdown",
      "metadata": {
        "id": "bbc9fe9d"
      },
      "source": [
        "Implement this function to match the following specification:\n",
        "\n",
        "> **approximate** (*matrix*, *rank*)\n",
        ">\n",
        "> Takes a 2D-tensor (*matrix*) and an integer rank $r$ (*rank*), computes the truncated SVD with rank $r$ on the tensor, and returns the corresponding low-rank approximation matrix."
      ],
      "id": "bbc9fe9d"
    },
    {
      "cell_type": "markdown",
      "metadata": {
        "id": "348eee05"
      },
      "source": [
        "#### 👍 Hint\n",
        "\n",
        "If you need a refresher on the low-rank matrix approximation, read the corresponding section from the Wikipedia article on the [Singular value decomposition](https://en.wikipedia.org/wiki/Singular_value_decomposition#Low-rank_matrix_approximation). The truncated SVD is an extension of the full SVD; the latter can be computed using [`torch.linalg.svd()`](https://pytorch.org/docs/stable/generated/torch.linalg.svd.html)."
      ],
      "id": "348eee05"
    },
    {
      "cell_type": "markdown",
      "metadata": {
        "id": "d2a1f3a5"
      },
      "source": [
        "#### 🤞 Test your code\n",
        "\n",
        "To test your code, run the following cell. It creates a matrix `original` with rank $r \\leq 8$ and after that the rank-$8$ approximation matrix `approximation`. You should find that the distance between the two matrices is very low."
      ],
      "id": "d2a1f3a5"
    },
    {
      "cell_type": "code",
      "execution_count": null,
      "metadata": {
        "colab": {
          "base_uri": "https://localhost:8080/"
        },
        "id": "6ce06708",
        "outputId": "e1c1ab74-064a-4828-eace-f0dc906e6e3a"
      },
      "outputs": [
        {
          "data": {
            "text/plain": [
              "tensor(0.0005)"
            ]
          },
          "execution_count": 29,
          "metadata": {},
          "output_type": "execute_result"
        }
      ],
      "source": [
        "original = torch.rand(768, 8) @ torch.rand(8, 384)\n",
        "approximation = approximate(original, 8)\n",
        "torch.dist(original, approximation)"
      ],
      "id": "6ce06708"
    },
    {
      "cell_type": "markdown",
      "metadata": {
        "id": "a082b398"
      },
      "source": [
        "### Approximated fine-tuned model (version 1)"
      ],
      "id": "a082b398"
    },
    {
      "cell_type": "markdown",
      "metadata": {
        "id": "18461156"
      },
      "source": [
        "In the next step, your task is to construct a version of the head-tuned model in which every query and value linear layer is replaced by a low-rank approximation of the corresponding layer from the fully fine-tuned model."
      ],
      "id": "18461156"
    },
    {
      "cell_type": "code",
      "execution_count": null,
      "metadata": {
        "id": "0b5f59ca"
      },
      "outputs": [],
      "source": [
        "def make_approximated_model_1(rank):\n",
        "    headtuned_model = freeze_parameters(AutoModelForSequenceClassification.from_pretrained('/content/drive/MyDrive/tdde09/lab5/headtuned'))\n",
        "    finetuned_model = AutoModelForSequenceClassification.from_pretrained('/content/drive/MyDrive/tdde09/lab5/finetuned')\n",
        "\n",
        "    extracted_layers_finetune = extract(finetuned_model)\n",
        "\n",
        "    approximated_layers = {}\n",
        "\n",
        "    for layer_name, layer in extracted_layers_finetune.items():\n",
        "      approximated_layers[layer_name + \".weight.data\"] = approximate(layer.weight.data, rank)\n",
        "\n",
        "    model1 = replace(headtuned_model, approximated_layers)\n",
        "    return model1"
      ],
      "id": "0b5f59ca"
    },
    {
      "cell_type": "markdown",
      "metadata": {
        "id": "45e4b80a"
      },
      "source": [
        "Here is the specification of this function:\n",
        "\n",
        "> **make_approximated_model_1** (*rank*)\n",
        ">\n",
        "> Takes an integer rank $r$ (*rank*) and returns a version of the head-tuned model in which every query and value linear layer is replaced by its $r$-approximated corresponding layer from the fully fine-tuned model."
      ],
      "id": "45e4b80a"
    },
    {
      "cell_type": "markdown",
      "metadata": {
        "id": "5e8dcd1f"
      },
      "source": [
        "Run the next cell to evaluate your model for different rank values. Start with the full rank and then halve the rank in each step. What is the lowest rank that still gives you a higher accuracy than the head-tuned model?"
      ],
      "id": "5e8dcd1f"
    },
    {
      "cell_type": "code",
      "execution_count": null,
      "metadata": {
        "colab": {
          "base_uri": "https://localhost:8080/",
          "height": 128
        },
        "id": "acd5aa87",
        "outputId": "a28d584d-83aa-409b-bea4-8c470df108fa"
      },
      "outputs": [
        {
          "data": {
            "text/html": [
              "\n",
              "    <div>\n",
              "      \n",
              "      <progress value='63' max='63' style='width:300px; height:20px; vertical-align: middle;'></progress>\n",
              "      [63/63 00:07]\n",
              "    </div>\n",
              "    "
            ],
            "text/plain": [
              "<IPython.core.display.HTML object>"
            ]
          },
          "metadata": {},
          "output_type": "display_data"
        },
        {
          "name": "stdout",
          "output_type": "stream",
          "text": [
            "{'eval_loss': 0.3585399091243744, 'eval_accuracy': 0.874, 'eval_runtime': 7.6398, 'eval_samples_per_second': 65.447, 'eval_steps_per_second': 8.246}\n"
          ]
        },
        {
          "data": {
            "text/html": [
              "\n",
              "    <div>\n",
              "      \n",
              "      <progress value='63' max='63' style='width:300px; height:20px; vertical-align: middle;'></progress>\n",
              "      [63/63 00:07]\n",
              "    </div>\n",
              "    "
            ],
            "text/plain": [
              "<IPython.core.display.HTML object>"
            ]
          },
          "metadata": {},
          "output_type": "display_data"
        },
        {
          "name": "stdout",
          "output_type": "stream",
          "text": [
            "{'eval_loss': 0.4198184609413147, 'eval_accuracy': 0.826, 'eval_runtime': 7.7559, 'eval_samples_per_second': 64.467, 'eval_steps_per_second': 8.123}\n"
          ]
        },
        {
          "data": {
            "text/html": [
              "\n",
              "    <div>\n",
              "      \n",
              "      <progress value='63' max='63' style='width:300px; height:20px; vertical-align: middle;'></progress>\n",
              "      [63/63 00:07]\n",
              "    </div>\n",
              "    "
            ],
            "text/plain": [
              "<IPython.core.display.HTML object>"
            ]
          },
          "metadata": {},
          "output_type": "display_data"
        },
        {
          "name": "stdout",
          "output_type": "stream",
          "text": [
            "{'eval_loss': 0.5032103657722473, 'eval_accuracy': 0.742, 'eval_runtime': 7.8052, 'eval_samples_per_second': 64.06, 'eval_steps_per_second': 8.072}\n"
          ]
        }
      ],
      "source": [
        "approximated_model_1 = make_approximated_model_1(768)\n",
        "#old is 0.814\n",
        "print(evaluate(approximated_model_1))\n",
        "\n",
        "approximated_model_1 = make_approximated_model_1(768//2)\n",
        "#old is 0.814\n",
        "print(evaluate(approximated_model_1))\n",
        "\n",
        "approximated_model_1 = make_approximated_model_1(768//4)\n",
        "#old is 0.814\n",
        "print(evaluate(approximated_model_1))"
      ],
      "id": "acd5aa87"
    },
    {
      "cell_type": "markdown",
      "metadata": {
        "id": "6fbea18c"
      },
      "source": [
        "### Approximated fine-tuned model (version 2)"
      ],
      "id": "6fbea18c"
    },
    {
      "cell_type": "markdown",
      "metadata": {
        "id": "13d3873a"
      },
      "source": [
        "In the approximated model from the previous section, the truncated SVD is applied to the full weight matrix of the fine-tuned model: $W_0 + \\Delta W$. In LoRA, the low-rank approximation only applies to the *update matrix* $\\Delta W$, i.e., the difference between the fully fine-tuned weights and the pre-trained weights."
      ],
      "id": "13d3873a"
    },
    {
      "cell_type": "code",
      "execution_count": null,
      "metadata": {
        "id": "7a1d7e5b"
      },
      "outputs": [],
      "source": [
        "def make_approximated_model_2(rank):\n",
        "    headtuned_model = freeze_parameters(AutoModelForSequenceClassification.from_pretrained('/content/drive/MyDrive/tdde09/lab5/headtuned'))\n",
        "    finetuned_model = AutoModelForSequenceClassification.from_pretrained('/content/drive/MyDrive/tdde09/lab5/finetuned')\n",
        "\n",
        "    extracted_layers_finetune = extract(finetuned_model)\n",
        "\n",
        "    pretrained_model = AutoModelForSequenceClassification.from_pretrained('distilbert-base-uncased', num_labels=2)\n",
        "\n",
        "    extracted_layers_pretrained = extract(pretrained_model)\n",
        "\n",
        "    new_layers = {}\n",
        "\n",
        "    for layer_name in extracted_layers_finetune.keys():\n",
        "      deltaW = extracted_layers_finetune[layer_name].weight.data - extracted_layers_pretrained[layer_name].weight.data\n",
        "      new_layers[layer_name + \".weight.data\"] = approximate(deltaW, rank) + extracted_layers_pretrained[layer_name].weight.data\n",
        "\n",
        "    model2 = replace(headtuned_model, new_layers)\n",
        "    return model2"
      ],
      "id": "7a1d7e5b"
    },
    {
      "cell_type": "markdown",
      "metadata": {
        "id": "1951195c"
      },
      "source": [
        "Implement the function to match the following specification:\n",
        "\n",
        "> **make_approximated_model_2** (*rank*)\n",
        ">\n",
        "> Takes an integer rank $r$ (*rank*) and returns a version of the head-tuned model in which the weight matrix of every query and value linear layer is replaced by the sum $W_0 + \\Delta W$, where $W_0$ is the weight matrix of the pre-trained model and $\\Delta W$ is the rank-$r$ approximation of the update matrix, i.e., the difference between the fully fine-tuned weights and the pre-trained weights."
      ],
      "id": "1951195c"
    },
    {
      "cell_type": "markdown",
      "metadata": {
        "id": "475125cf"
      },
      "source": [
        "Run the next cell to evaluate your model for different rank values. Start with the rank from the approximated model from the previous section and then halve the rank in each step. What is the lowest rank that still gives you a higher accuracy than the head-tuned model?"
      ],
      "id": "475125cf"
    },
    {
      "cell_type": "code",
      "execution_count": null,
      "metadata": {
        "colab": {
          "base_uri": "https://localhost:8080/",
          "height": 176
        },
        "id": "2c614186",
        "outputId": "d123a6b7-3710-401d-bc50-9642e5b5aa08"
      },
      "outputs": [
        {
          "name": "stderr",
          "output_type": "stream",
          "text": [
            "Some weights of DistilBertForSequenceClassification were not initialized from the model checkpoint at distilbert-base-uncased and are newly initialized: ['classifier.bias', 'classifier.weight', 'pre_classifier.bias', 'pre_classifier.weight']\n",
            "You should probably TRAIN this model on a down-stream task to be able to use it for predictions and inference.\n"
          ]
        },
        {
          "data": {
            "text/html": [
              "\n",
              "    <div>\n",
              "      \n",
              "      <progress value='63' max='63' style='width:300px; height:20px; vertical-align: middle;'></progress>\n",
              "      [63/63 00:07]\n",
              "    </div>\n",
              "    "
            ],
            "text/plain": [
              "<IPython.core.display.HTML object>"
            ]
          },
          "metadata": {},
          "output_type": "display_data"
        },
        {
          "data": {
            "text/plain": [
              "{'eval_loss': 0.35854002833366394,\n",
              " 'eval_accuracy': 0.874,\n",
              " 'eval_runtime': 7.9274,\n",
              " 'eval_samples_per_second': 63.072,\n",
              " 'eval_steps_per_second': 7.947}"
            ]
          },
          "execution_count": 33,
          "metadata": {},
          "output_type": "execute_result"
        }
      ],
      "source": [
        "approximated_model_2 = make_approximated_model_2(768)\n",
        "\n",
        "evaluate(approximated_model_2)"
      ],
      "id": "2c614186"
    },
    {
      "cell_type": "code",
      "execution_count": null,
      "metadata": {
        "colab": {
          "base_uri": "https://localhost:8080/",
          "height": 176
        },
        "id": "18430496",
        "outputId": "a91ff93d-6789-4ace-d0a0-be8ff2a805e6"
      },
      "outputs": [
        {
          "name": "stderr",
          "output_type": "stream",
          "text": [
            "Some weights of DistilBertForSequenceClassification were not initialized from the model checkpoint at distilbert-base-uncased and are newly initialized: ['classifier.bias', 'classifier.weight', 'pre_classifier.bias', 'pre_classifier.weight']\n",
            "You should probably TRAIN this model on a down-stream task to be able to use it for predictions and inference.\n"
          ]
        },
        {
          "data": {
            "text/html": [
              "\n",
              "    <div>\n",
              "      \n",
              "      <progress value='63' max='63' style='width:300px; height:20px; vertical-align: middle;'></progress>\n",
              "      [63/63 00:07]\n",
              "    </div>\n",
              "    "
            ],
            "text/plain": [
              "<IPython.core.display.HTML object>"
            ]
          },
          "metadata": {},
          "output_type": "display_data"
        },
        {
          "data": {
            "text/plain": [
              "{'eval_loss': 0.38678717613220215,\n",
              " 'eval_accuracy': 0.862,\n",
              " 'eval_runtime': 8.0123,\n",
              " 'eval_samples_per_second': 62.404,\n",
              " 'eval_steps_per_second': 7.863}"
            ]
          },
          "execution_count": 34,
          "metadata": {},
          "output_type": "execute_result"
        }
      ],
      "source": [
        "approximated_model_2 = make_approximated_model_2(3)\n",
        "\n",
        "evaluate(approximated_model_2)"
      ],
      "id": "18430496"
    },
    {
      "cell_type": "markdown",
      "metadata": {
        "id": "9136defe"
      },
      "source": [
        "## Problem 5: LoRA (4 points)"
      ],
      "id": "9136defe"
    },
    {
      "cell_type": "markdown",
      "metadata": {
        "id": "4d4fd2c2"
      },
      "source": [
        "In this section, you will implement the LoRA adapters and fine-tune the adapted model."
      ],
      "id": "4d4fd2c2"
    },
    {
      "cell_type": "markdown",
      "metadata": {
        "id": "e56a4235"
      },
      "source": [
        "### Implement the adapter\n",
        "\n",
        "A LoRA adapter implements the forward function\n",
        "\n",
        "$$\n",
        "y = x W_0 + x \\Delta W = x W_0 + x A B\n",
        "$$\n",
        "\n",
        "where $W_0$ is a linear transformation from the pre-trained model and $\\Delta W$ is a learned update matrix, deconstructed into the product $AB$ of two rank-$r$ matrices $A$ and $B$. LoRA scales the update matrix $\\Delta W$ by a factor of $\\alpha / r$, where $\\alpha$ is a hyperparameter. (To keep the formula tidy, we ignore the fact that the linear transformation in the pre-trained model may additionally include a bias.)"
      ],
      "id": "e56a4235"
    },
    {
      "cell_type": "code",
      "execution_count": null,
      "metadata": {
        "id": "f91ec802"
      },
      "outputs": [],
      "source": [
        "import torch.nn as nn\n",
        "\n",
        "class LoRA(nn.Module):\n",
        "\n",
        "    def __init__(self, pretrained, rank=12, alpha=24):\n",
        "        super().__init__()\n",
        "        self.A = nn.Parameter(torch.rand(pretrained.weight.shape[0], rank)).to(device)\n",
        "        self.B = nn.Parameter(torch.zeros(rank, pretrained.weight.shape[1])).to(device)\n",
        "\n",
        "        self.pretrained_weight = pretrained.weight.data.to(device)\n",
        "        self.alpha = alpha\n",
        "        self.rank = rank\n",
        "\n",
        "    def forward(self, x):\n",
        "        Y = x @ self.pretrained_weight + x @ (self.A @ self.B * (self.alpha/self.rank))\n",
        "        return Y"
      ],
      "id": "f91ec802"
    },
    {
      "cell_type": "markdown",
      "metadata": {
        "id": "dbd075dc"
      },
      "source": [
        "Your code must comply with the following specification:\n",
        "\n",
        "**__init__** (*self*, *pretrained*, *rank* = 12, *alpha* = 24)\n",
        "\n",
        "> Initialises the LoRA adapter. This sets up the matrices $A$ and $B$ from the equation above. The matrix $A$ is initialised with random weights from a standard normal distribution; the matrix $B$ is initialised with zeros. The argument *pretrained* is the linear transformation from the pre-trained model that should be adapted. The arguments *rank* and *alpha* are the rank $r$ and the hyperparameter $\\alpha$ in the equation above.\n",
        "\n",
        "**forward** (*self*, *x*)\n",
        "\n",
        "> Sends an input *x* through the adapter, implementing the equation above."
      ],
      "id": "dbd075dc"
    },
    {
      "cell_type": "markdown",
      "metadata": {
        "id": "6b1d6bac"
      },
      "source": [
        "### Inject the adapter into the pre-trained model\n",
        "\n",
        "The final step is to construct an adapted model by injecting the LoRA adapters into the pre-trained model."
      ],
      "id": "6b1d6bac"
    },
    {
      "cell_type": "code",
      "execution_count": null,
      "metadata": {
        "id": "16d4f05c"
      },
      "outputs": [],
      "source": [
        "def make_lora_model(rank):\n",
        "\n",
        "    pretrained_model = AutoModelForSequenceClassification.from_pretrained('distilbert-base-uncased', num_labels=2)\n",
        "\n",
        "    extracted_layers_pretrained = extract(pretrained_model)\n",
        "\n",
        "    lora_layers = {}\n",
        "\n",
        "    for layer_name, layer in extracted_layers_finetune.items():\n",
        "      lora_layers[layer_name] = LoRA(layer, rank, rank*2)\n",
        "\n",
        "    Lora_model = replace(pretrained_model, lora_layers)\n",
        "    Lora_model_trained = train(Lora_model)\n",
        "\n",
        "    return Lora_model_trained"
      ],
      "id": "16d4f05c"
    },
    {
      "cell_type": "markdown",
      "metadata": {
        "id": "0377612a"
      },
      "source": [
        "Implement the function to match the following specification:\n",
        "\n",
        "> **make_lora_model** (*rank*)\n",
        ">\n",
        "> Returns a version of the pre-trained model in which every query and value linear layer is wrapped using a LoRA adapter. The rank of the adapter is specified by the argument *rank*. The *alpha* value of the adapter is set to twice the rank (a common rule of thumb.)"
      ],
      "id": "0377612a"
    },
    {
      "cell_type": "markdown",
      "metadata": {
        "id": "6150e7d7"
      },
      "source": [
        "Run the next cell to evaluate your model for $r = 6$ and $\\alpha = 12$. How many trainable parameters does the adapted model have? What accuracy do you get? How do these value relate to the number of trainable parameters and accuracy of the fully fine-tuned model, in terms of percentages?"
      ],
      "id": "6150e7d7"
    },
    {
      "cell_type": "code",
      "execution_count": null,
      "metadata": {
        "colab": {
          "base_uri": "https://localhost:8080/",
          "height": 361
        },
        "id": "2538e3dc",
        "outputId": "74c291d1-4f6b-46b5-b7e9-e89920bacd4d"
      },
      "outputs": [
        {
          "name": "stderr",
          "output_type": "stream",
          "text": [
            "Some weights of DistilBertForSequenceClassification were not initialized from the model checkpoint at distilbert-base-uncased and are newly initialized: ['classifier.bias', 'classifier.weight', 'pre_classifier.bias', 'pre_classifier.weight']\n",
            "You should probably TRAIN this model on a down-stream task to be able to use it for predictions and inference.\n"
          ]
        },
        {
          "name": "stdout",
          "output_type": "stream",
          "text": [
            "Number of trainable parameters: 59867906\n"
          ]
        },
        {
          "data": {
            "text/html": [
              "\n",
              "    <div>\n",
              "      \n",
              "      <progress value='750' max='750' style='width:300px; height:20px; vertical-align: middle;'></progress>\n",
              "      [750/750 05:36, Epoch 3/3]\n",
              "    </div>\n",
              "    <table border=\"1\" class=\"dataframe\">\n",
              "  <thead>\n",
              " <tr style=\"text-align: left;\">\n",
              "      <th>Epoch</th>\n",
              "      <th>Training Loss</th>\n",
              "      <th>Validation Loss</th>\n",
              "      <th>Accuracy</th>\n",
              "    </tr>\n",
              "  </thead>\n",
              "  <tbody>\n",
              "    <tr>\n",
              "      <td>1</td>\n",
              "      <td>0.355000</td>\n",
              "      <td>0.425313</td>\n",
              "      <td>0.816000</td>\n",
              "    </tr>\n",
              "    <tr>\n",
              "      <td>2</td>\n",
              "      <td>0.354900</td>\n",
              "      <td>0.365622</td>\n",
              "      <td>0.862000</td>\n",
              "    </tr>\n",
              "    <tr>\n",
              "      <td>3</td>\n",
              "      <td>0.112700</td>\n",
              "      <td>0.448849</td>\n",
              "      <td>0.878000</td>\n",
              "    </tr>\n",
              "  </tbody>\n",
              "</table><p>"
            ],
            "text/plain": [
              "<IPython.core.display.HTML object>"
            ]
          },
          "metadata": {},
          "output_type": "display_data"
        },
        {
          "name": "stdout",
          "output_type": "stream",
          "text": [
            "trainable_parameters: 59867906\n"
          ]
        },
        {
          "data": {
            "text/html": [
              "\n",
              "    <div>\n",
              "      \n",
              "      <progress value='63' max='63' style='width:300px; height:20px; vertical-align: middle;'></progress>\n",
              "      [63/63 00:08]\n",
              "    </div>\n",
              "    "
            ],
            "text/plain": [
              "<IPython.core.display.HTML object>"
            ]
          },
          "metadata": {},
          "output_type": "display_data"
        },
        {
          "data": {
            "text/plain": [
              "{'eval_loss': 0.4488494396209717,\n",
              " 'eval_accuracy': 0.878,\n",
              " 'eval_runtime': 8.9355,\n",
              " 'eval_samples_per_second': 55.956,\n",
              " 'eval_steps_per_second': 7.05}"
            ]
          },
          "execution_count": 37,
          "metadata": {},
          "output_type": "execute_result"
        }
      ],
      "source": [
        "lora_model = make_lora_model(6)\n",
        "print('trainable_parameters: ' + str(num_trainable_parameters(lora_model)))\n",
        "evaluate(lora_model)\n",
        "\n",
        "#0.892 accuracy for full finetuned model\n",
        "#0.814 accuracy for headtuned model"
      ],
      "id": "2538e3dc"
    },
    {
      "cell_type": "markdown",
      "metadata": {
        "id": "94db36b7"
      },
      "source": [
        "## Problem 6: Alternatives to Transformer-based models (6 points)"
      ],
      "id": "94db36b7"
    },
    {
      "cell_type": "markdown",
      "metadata": {
        "id": "f5346d06"
      },
      "source": [
        "Even with methods for parameter-efficient fine-tuning, applying DistilBERT and other Transformer-based models comes at a significant cost – an investment that does not always pay off. In the final problem of this lab, we ask you to explore a more traditional approach to classification and contrast it with the pre-training/fine-tuning approach of neural language models.\n",
        "\n",
        "Browse the web to find a tutorial on how to apply a classifier from the [scikit-learn](https://scikit-learn.org/stable/) library to the problem of sentiment classification and implement the method here in this notebook. We suggest you use [multinomial Naive Bayes](https://scikit-learn.org/stable/modules/generated/sklearn.naive_bayes.MultinomialNB.html) or [logistic regression](https://scikit-learn.org/stable/modules/generated/sklearn.linear_model.LogisticRegression.html). (Once you have code for one method, it is easy to switch to the other.) Evaluate your chosen classifier on the IMDB dataset.\n",
        "\n",
        "Document your exploration in a short reflection piece (ca. 150 words). Respond to the following prompts:\n",
        "\n",
        "* Which classifier did you try? What results did you get? How long did it take you to train and run the classifier?\n",
        "* What is your perspective on the trade-off between accuracy and resource requirements between the two approaches?\n",
        "* What did you learn? How, exactly, did you learn it? Why does this learning matter?"
      ],
      "id": "f5346d06"
    },
    {
      "cell_type": "code",
      "execution_count": 6,
      "metadata": {
        "colab": {
          "base_uri": "https://localhost:8080/"
        },
        "id": "TjHOm_qzopOB",
        "outputId": "2095687d-8976-4945-a905-d0dc409406e2"
      },
      "outputs": [
        {
          "output_type": "stream",
          "name": "stdout",
          "text": [
            "Found existing installation: numpy 1.26.4\n",
            "Uninstalling numpy-1.26.4:\n",
            "  Successfully uninstalled numpy-1.26.4\n",
            "Found existing installation: scipy 1.12.0\n",
            "Uninstalling scipy-1.12.0:\n",
            "  Successfully uninstalled scipy-1.12.0\n",
            "Found existing installation: scikit-learn 1.4.1.post1\n",
            "Uninstalling scikit-learn-1.4.1.post1:\n",
            "  Successfully uninstalled scikit-learn-1.4.1.post1\n",
            "Collecting numpy\n",
            "  Using cached numpy-1.26.4-cp310-cp310-manylinux_2_17_x86_64.manylinux2014_x86_64.whl (18.2 MB)\n",
            "Collecting scipy\n",
            "  Using cached scipy-1.12.0-cp310-cp310-manylinux_2_17_x86_64.manylinux2014_x86_64.whl (38.4 MB)\n",
            "Collecting scikit-learn\n",
            "  Using cached scikit_learn-1.4.1.post1-cp310-cp310-manylinux_2_17_x86_64.manylinux2014_x86_64.whl (12.1 MB)\n",
            "Requirement already satisfied: joblib>=1.2.0 in /usr/local/lib/python3.10/dist-packages (from scikit-learn) (1.3.2)\n",
            "Requirement already satisfied: threadpoolctl>=2.0.0 in /usr/local/lib/python3.10/dist-packages (from scikit-learn) (3.3.0)\n",
            "Installing collected packages: numpy, scipy, scikit-learn\n",
            "Successfully installed numpy-1.26.4 scikit-learn-1.4.1.post1 scipy-1.12.0\n",
            "Requirement already satisfied: numpy in /usr/local/lib/python3.10/dist-packages (1.26.4)\n"
          ]
        }
      ],
      "source": [
        "!pip uninstall -y numpy scipy scikit-learn\n",
        "!pip install -U numpy scipy scikit-learn\n",
        "!pip install --upgrade numpy\n",
        "\n",
        "from sklearn.feature_extraction.text import TfidfVectorizer\n",
        "\n",
        "\n",
        "train_texts = [review['review'] for review in imdb_dataset['train']]\n",
        "train_labels = [review['label'] for review in imdb_dataset['train']]\n",
        "test_texts = [review['review'] for review in imdb_dataset['eval']]\n",
        "test_labels = [review['label'] for review in imdb_dataset['eval']]\n",
        "\n",
        "vectorizer = TfidfVectorizer(min_df=5, max_df=0.8, sublinear_tf=True, use_idf=True)\n",
        "train_vectors = vectorizer.fit_transform(train_texts)\n",
        "test_vectors = vectorizer.transform(test_texts)"
      ],
      "id": "TjHOm_qzopOB"
    },
    {
      "cell_type": "code",
      "execution_count": 9,
      "metadata": {
        "id": "4VQrTyvEotIr",
        "colab": {
          "base_uri": "https://localhost:8080/"
        },
        "outputId": "6b594db5-45a5-439f-8c1c-cc4c2746b964"
      },
      "outputs": [
        {
          "output_type": "stream",
          "name": "stdout",
          "text": [
            "              precision    recall  f1-score   support\n",
            "\n",
            "           0       0.87      0.82      0.85       263\n",
            "           1       0.81      0.87      0.84       237\n",
            "\n",
            "    accuracy                           0.84       500\n",
            "   macro avg       0.84      0.85      0.84       500\n",
            "weighted avg       0.85      0.84      0.84       500\n",
            "\n"
          ]
        }
      ],
      "source": [
        "from sklearn.naive_bayes import MultinomialNB\n",
        "from sklearn.metrics import classification_report\n",
        "\n",
        "mnb_classifier = MultinomialNB()\n",
        "\n",
        "mnb_classifier.fit(train_vectors, train_labels)\n",
        "\n",
        "mnb_predictions = mnb_classifier.predict(test_vectors)\n",
        "\n",
        "print(classification_report(test_labels, mnb_predictions))\n"
      ],
      "id": "4VQrTyvEotIr"
    },
    {
      "cell_type": "code",
      "execution_count": 10,
      "metadata": {
        "id": "TbnOcVX1ov3o",
        "colab": {
          "base_uri": "https://localhost:8080/"
        },
        "outputId": "2d889c10-a517-46e9-c524-9206f09918d0"
      },
      "outputs": [
        {
          "output_type": "stream",
          "name": "stdout",
          "text": [
            "              precision    recall  f1-score   support\n",
            "\n",
            "           0       0.90      0.82      0.86       263\n",
            "           1       0.82      0.90      0.86       237\n",
            "\n",
            "    accuracy                           0.86       500\n",
            "   macro avg       0.86      0.86      0.86       500\n",
            "weighted avg       0.86      0.86      0.86       500\n",
            "\n"
          ]
        }
      ],
      "source": [
        "from sklearn.linear_model import LogisticRegression\n",
        "\n",
        "lr_classifier = LogisticRegression(max_iter=1000)\n",
        "\n",
        "lr_classifier.fit(train_vectors, train_labels)\n",
        "\n",
        "lr_predictions = lr_classifier.predict(test_vectors)\n",
        "\n",
        "print(classification_report(test_labels, lr_predictions))"
      ],
      "id": "TbnOcVX1ov3o"
    },
    {
      "cell_type": "markdown",
      "metadata": {
        "id": "KkoLS7OaozMR"
      },
      "source": [
        "I used this tutorial tutorial to implement the structure of applying a classifier from the scikit-learn library to the problem of sentiment classification, but evaluated it on the suggested methods instead of using support vector classification: https://marcobonzanini.com/2015/01/19/sentiment-analysis-with-python-and-scikit-learn/, I tried Multinomial Naive Bayes and Logistic Regression. For the first the accuarcy was 84%, Logistic regression had an accuracy of 86%. Both the classifiers also have great precision, recall and F1 score which shows that they are good at both unweighted and weighted data.\n",
        "\n",
        "The training took under a second to complete. Which shows a big difference to the larger DistilBERT training process.\n",
        "\n",
        "The trade-off between accuracy and resource requirements seem very good since it achieves nearly the same high scores as DistilBERT which has higher resource requirements.\n",
        "\n",
        "I learnt this by studying the lecture slides to understand the difference between F1-score, precision and recall for example to be able to evaluate performance. This learning matter since it helps understand how to evaluate all types of classifiers, on both weighted and unweighted data."
      ],
      "id": "KkoLS7OaozMR"
    },
    {
      "cell_type": "markdown",
      "metadata": {
        "id": "e661deba"
      },
      "source": [
        "**🥳 Congratulations on finishing this lab! 🥳**"
      ],
      "id": "e661deba"
    }
  ],
  "metadata": {
    "accelerator": "GPU",
    "colab": {
      "gpuType": "T4",
      "provenance": []
    },
    "kernelspec": {
      "display_name": "Python 3",
      "name": "python3"
    },
    "language_info": {
      "codemirror_mode": {
        "name": "ipython",
        "version": 3
      },
      "file_extension": ".py",
      "mimetype": "text/x-python",
      "name": "python",
      "nbconvert_exporter": "python",
      "pygments_lexer": "ipython3",
      "version": "3.10.10"
    },
    "widgets": {
      "application/vnd.jupyter.widget-state+json": {
        "00a605dcba3a4ab48ae0a3d7982859d6": {
          "model_module": "@jupyter-widgets/base",
          "model_module_version": "1.2.0",
          "model_name": "LayoutModel",
          "state": {
            "_model_module": "@jupyter-widgets/base",
            "_model_module_version": "1.2.0",
            "_model_name": "LayoutModel",
            "_view_count": null,
            "_view_module": "@jupyter-widgets/base",
            "_view_module_version": "1.2.0",
            "_view_name": "LayoutView",
            "align_content": null,
            "align_items": null,
            "align_self": null,
            "border": null,
            "bottom": null,
            "display": null,
            "flex": null,
            "flex_flow": null,
            "grid_area": null,
            "grid_auto_columns": null,
            "grid_auto_flow": null,
            "grid_auto_rows": null,
            "grid_column": null,
            "grid_gap": null,
            "grid_row": null,
            "grid_template_areas": null,
            "grid_template_columns": null,
            "grid_template_rows": null,
            "height": null,
            "justify_content": null,
            "justify_items": null,
            "left": null,
            "margin": null,
            "max_height": null,
            "max_width": null,
            "min_height": null,
            "min_width": null,
            "object_fit": null,
            "object_position": null,
            "order": null,
            "overflow": null,
            "overflow_x": null,
            "overflow_y": null,
            "padding": null,
            "right": null,
            "top": null,
            "visibility": null,
            "width": null
          }
        },
        "0287154940284c4e9714aaaf74a53efe": {
          "model_module": "@jupyter-widgets/controls",
          "model_module_version": "1.5.0",
          "model_name": "HBoxModel",
          "state": {
            "_dom_classes": [],
            "_model_module": "@jupyter-widgets/controls",
            "_model_module_version": "1.5.0",
            "_model_name": "HBoxModel",
            "_view_count": null,
            "_view_module": "@jupyter-widgets/controls",
            "_view_module_version": "1.5.0",
            "_view_name": "HBoxView",
            "box_style": "",
            "children": [
              "IPY_MODEL_8326c1a15b19495d90faa13e4eb053ab",
              "IPY_MODEL_2fa01c4a82714f83bd0c0c6add4ba001",
              "IPY_MODEL_0b1fec5a8bb6473b814d8a1e153f1a66"
            ],
            "layout": "IPY_MODEL_aa85c5ab02fb4db7bd4bc52ca43344ec"
          }
        },
        "050321d38c204365883538b1fc98f69d": {
          "model_module": "@jupyter-widgets/controls",
          "model_module_version": "1.5.0",
          "model_name": "HTMLModel",
          "state": {
            "_dom_classes": [],
            "_model_module": "@jupyter-widgets/controls",
            "_model_module_version": "1.5.0",
            "_model_name": "HTMLModel",
            "_view_count": null,
            "_view_module": "@jupyter-widgets/controls",
            "_view_module_version": "1.5.0",
            "_view_name": "HTMLView",
            "description": "",
            "description_tooltip": null,
            "layout": "IPY_MODEL_6f57b2f2882147ea9d79fef4e57a28b6",
            "placeholder": "​",
            "style": "IPY_MODEL_896fc33fdcd74efd9645aca67455cb73",
            "value": " 500/500 [00:00&lt;00:00, 603.08 examples/s]"
          }
        },
        "054e6ced3f2e428186b7cc2f429ea1c0": {
          "model_module": "@jupyter-widgets/controls",
          "model_module_version": "1.5.0",
          "model_name": "ProgressStyleModel",
          "state": {
            "_model_module": "@jupyter-widgets/controls",
            "_model_module_version": "1.5.0",
            "_model_name": "ProgressStyleModel",
            "_view_count": null,
            "_view_module": "@jupyter-widgets/base",
            "_view_module_version": "1.2.0",
            "_view_name": "StyleView",
            "bar_color": null,
            "description_width": ""
          }
        },
        "0710da123f9241aeabc64d2167390622": {
          "model_module": "@jupyter-widgets/controls",
          "model_module_version": "1.5.0",
          "model_name": "HBoxModel",
          "state": {
            "_dom_classes": [],
            "_model_module": "@jupyter-widgets/controls",
            "_model_module_version": "1.5.0",
            "_model_name": "HBoxModel",
            "_view_count": null,
            "_view_module": "@jupyter-widgets/controls",
            "_view_module_version": "1.5.0",
            "_view_name": "HBoxView",
            "box_style": "",
            "children": [
              "IPY_MODEL_59099b621e9143e598d9b786958e7dc8",
              "IPY_MODEL_0827ca1fcba74f3182d9cdfcefb496c1",
              "IPY_MODEL_050321d38c204365883538b1fc98f69d"
            ],
            "layout": "IPY_MODEL_ac3887267a074b6eae9b6954ad9453c7"
          }
        },
        "0827ca1fcba74f3182d9cdfcefb496c1": {
          "model_module": "@jupyter-widgets/controls",
          "model_module_version": "1.5.0",
          "model_name": "FloatProgressModel",
          "state": {
            "_dom_classes": [],
            "_model_module": "@jupyter-widgets/controls",
            "_model_module_version": "1.5.0",
            "_model_name": "FloatProgressModel",
            "_view_count": null,
            "_view_module": "@jupyter-widgets/controls",
            "_view_module_version": "1.5.0",
            "_view_name": "ProgressView",
            "bar_style": "success",
            "description": "",
            "description_tooltip": null,
            "layout": "IPY_MODEL_ee567feade364a7c90c317f3b8b58f3f",
            "max": 500,
            "min": 0,
            "orientation": "horizontal",
            "style": "IPY_MODEL_f8117ed799cf4c7c9284c4c217c71b29",
            "value": 500
          }
        },
        "0b1fec5a8bb6473b814d8a1e153f1a66": {
          "model_module": "@jupyter-widgets/controls",
          "model_module_version": "1.5.0",
          "model_name": "HTMLModel",
          "state": {
            "_dom_classes": [],
            "_model_module": "@jupyter-widgets/controls",
            "_model_module_version": "1.5.0",
            "_model_name": "HTMLModel",
            "_view_count": null,
            "_view_module": "@jupyter-widgets/controls",
            "_view_module_version": "1.5.0",
            "_view_name": "HTMLView",
            "description": "",
            "description_tooltip": null,
            "layout": "IPY_MODEL_57f530b8a5164424beea1ede666867d5",
            "placeholder": "​",
            "style": "IPY_MODEL_8233170fced34925b94e279fef0bbab1",
            "value": " 4.20k/4.20k [00:00&lt;00:00, 114kB/s]"
          }
        },
        "15e0f89885494bb5933b8970ac536200": {
          "model_module": "@jupyter-widgets/base",
          "model_module_version": "1.2.0",
          "model_name": "LayoutModel",
          "state": {
            "_model_module": "@jupyter-widgets/base",
            "_model_module_version": "1.2.0",
            "_model_name": "LayoutModel",
            "_view_count": null,
            "_view_module": "@jupyter-widgets/base",
            "_view_module_version": "1.2.0",
            "_view_name": "LayoutView",
            "align_content": null,
            "align_items": null,
            "align_self": null,
            "border": null,
            "bottom": null,
            "display": null,
            "flex": null,
            "flex_flow": null,
            "grid_area": null,
            "grid_auto_columns": null,
            "grid_auto_flow": null,
            "grid_auto_rows": null,
            "grid_column": null,
            "grid_gap": null,
            "grid_row": null,
            "grid_template_areas": null,
            "grid_template_columns": null,
            "grid_template_rows": null,
            "height": null,
            "justify_content": null,
            "justify_items": null,
            "left": null,
            "margin": null,
            "max_height": null,
            "max_width": null,
            "min_height": null,
            "min_width": null,
            "object_fit": null,
            "object_position": null,
            "order": null,
            "overflow": null,
            "overflow_x": null,
            "overflow_y": null,
            "padding": null,
            "right": null,
            "top": null,
            "visibility": null,
            "width": null
          }
        },
        "2e01509c6cae4d148d5f449c846cc7d2": {
          "model_module": "@jupyter-widgets/controls",
          "model_module_version": "1.5.0",
          "model_name": "FloatProgressModel",
          "state": {
            "_dom_classes": [],
            "_model_module": "@jupyter-widgets/controls",
            "_model_module_version": "1.5.0",
            "_model_name": "FloatProgressModel",
            "_view_count": null,
            "_view_module": "@jupyter-widgets/controls",
            "_view_module_version": "1.5.0",
            "_view_name": "ProgressView",
            "bar_style": "success",
            "description": "",
            "description_tooltip": null,
            "layout": "IPY_MODEL_78e45a202cd64fc58f6d4ae88c640ca7",
            "max": 267954768,
            "min": 0,
            "orientation": "horizontal",
            "style": "IPY_MODEL_8e425d41f84a40a99c94d3b4dda14867",
            "value": 267954768
          }
        },
        "2fa01c4a82714f83bd0c0c6add4ba001": {
          "model_module": "@jupyter-widgets/controls",
          "model_module_version": "1.5.0",
          "model_name": "FloatProgressModel",
          "state": {
            "_dom_classes": [],
            "_model_module": "@jupyter-widgets/controls",
            "_model_module_version": "1.5.0",
            "_model_name": "FloatProgressModel",
            "_view_count": null,
            "_view_module": "@jupyter-widgets/controls",
            "_view_module_version": "1.5.0",
            "_view_name": "ProgressView",
            "bar_style": "success",
            "description": "",
            "description_tooltip": null,
            "layout": "IPY_MODEL_15e0f89885494bb5933b8970ac536200",
            "max": 4203,
            "min": 0,
            "orientation": "horizontal",
            "style": "IPY_MODEL_054e6ced3f2e428186b7cc2f429ea1c0",
            "value": 4203
          }
        },
        "53de1a5f57bd4e30a39a95eb742b1e92": {
          "model_module": "@jupyter-widgets/base",
          "model_module_version": "1.2.0",
          "model_name": "LayoutModel",
          "state": {
            "_model_module": "@jupyter-widgets/base",
            "_model_module_version": "1.2.0",
            "_model_name": "LayoutModel",
            "_view_count": null,
            "_view_module": "@jupyter-widgets/base",
            "_view_module_version": "1.2.0",
            "_view_name": "LayoutView",
            "align_content": null,
            "align_items": null,
            "align_self": null,
            "border": null,
            "bottom": null,
            "display": null,
            "flex": null,
            "flex_flow": null,
            "grid_area": null,
            "grid_auto_columns": null,
            "grid_auto_flow": null,
            "grid_auto_rows": null,
            "grid_column": null,
            "grid_gap": null,
            "grid_row": null,
            "grid_template_areas": null,
            "grid_template_columns": null,
            "grid_template_rows": null,
            "height": null,
            "justify_content": null,
            "justify_items": null,
            "left": null,
            "margin": null,
            "max_height": null,
            "max_width": null,
            "min_height": null,
            "min_width": null,
            "object_fit": null,
            "object_position": null,
            "order": null,
            "overflow": null,
            "overflow_x": null,
            "overflow_y": null,
            "padding": null,
            "right": null,
            "top": null,
            "visibility": null,
            "width": null
          }
        },
        "57f530b8a5164424beea1ede666867d5": {
          "model_module": "@jupyter-widgets/base",
          "model_module_version": "1.2.0",
          "model_name": "LayoutModel",
          "state": {
            "_model_module": "@jupyter-widgets/base",
            "_model_module_version": "1.2.0",
            "_model_name": "LayoutModel",
            "_view_count": null,
            "_view_module": "@jupyter-widgets/base",
            "_view_module_version": "1.2.0",
            "_view_name": "LayoutView",
            "align_content": null,
            "align_items": null,
            "align_self": null,
            "border": null,
            "bottom": null,
            "display": null,
            "flex": null,
            "flex_flow": null,
            "grid_area": null,
            "grid_auto_columns": null,
            "grid_auto_flow": null,
            "grid_auto_rows": null,
            "grid_column": null,
            "grid_gap": null,
            "grid_row": null,
            "grid_template_areas": null,
            "grid_template_columns": null,
            "grid_template_rows": null,
            "height": null,
            "justify_content": null,
            "justify_items": null,
            "left": null,
            "margin": null,
            "max_height": null,
            "max_width": null,
            "min_height": null,
            "min_width": null,
            "object_fit": null,
            "object_position": null,
            "order": null,
            "overflow": null,
            "overflow_x": null,
            "overflow_y": null,
            "padding": null,
            "right": null,
            "top": null,
            "visibility": null,
            "width": null
          }
        },
        "59099b621e9143e598d9b786958e7dc8": {
          "model_module": "@jupyter-widgets/controls",
          "model_module_version": "1.5.0",
          "model_name": "HTMLModel",
          "state": {
            "_dom_classes": [],
            "_model_module": "@jupyter-widgets/controls",
            "_model_module_version": "1.5.0",
            "_model_name": "HTMLModel",
            "_view_count": null,
            "_view_module": "@jupyter-widgets/controls",
            "_view_module_version": "1.5.0",
            "_view_name": "HTMLView",
            "description": "",
            "description_tooltip": null,
            "layout": "IPY_MODEL_65e2dc48638c4321bb02b2a3ec1231ed",
            "placeholder": "​",
            "style": "IPY_MODEL_6fcfaadca3f34feb94c4c0c8ea982b23",
            "value": "Map: 100%"
          }
        },
        "65e2dc48638c4321bb02b2a3ec1231ed": {
          "model_module": "@jupyter-widgets/base",
          "model_module_version": "1.2.0",
          "model_name": "LayoutModel",
          "state": {
            "_model_module": "@jupyter-widgets/base",
            "_model_module_version": "1.2.0",
            "_model_name": "LayoutModel",
            "_view_count": null,
            "_view_module": "@jupyter-widgets/base",
            "_view_module_version": "1.2.0",
            "_view_name": "LayoutView",
            "align_content": null,
            "align_items": null,
            "align_self": null,
            "border": null,
            "bottom": null,
            "display": null,
            "flex": null,
            "flex_flow": null,
            "grid_area": null,
            "grid_auto_columns": null,
            "grid_auto_flow": null,
            "grid_auto_rows": null,
            "grid_column": null,
            "grid_gap": null,
            "grid_row": null,
            "grid_template_areas": null,
            "grid_template_columns": null,
            "grid_template_rows": null,
            "height": null,
            "justify_content": null,
            "justify_items": null,
            "left": null,
            "margin": null,
            "max_height": null,
            "max_width": null,
            "min_height": null,
            "min_width": null,
            "object_fit": null,
            "object_position": null,
            "order": null,
            "overflow": null,
            "overflow_x": null,
            "overflow_y": null,
            "padding": null,
            "right": null,
            "top": null,
            "visibility": null,
            "width": null
          }
        },
        "6f57b2f2882147ea9d79fef4e57a28b6": {
          "model_module": "@jupyter-widgets/base",
          "model_module_version": "1.2.0",
          "model_name": "LayoutModel",
          "state": {
            "_model_module": "@jupyter-widgets/base",
            "_model_module_version": "1.2.0",
            "_model_name": "LayoutModel",
            "_view_count": null,
            "_view_module": "@jupyter-widgets/base",
            "_view_module_version": "1.2.0",
            "_view_name": "LayoutView",
            "align_content": null,
            "align_items": null,
            "align_self": null,
            "border": null,
            "bottom": null,
            "display": null,
            "flex": null,
            "flex_flow": null,
            "grid_area": null,
            "grid_auto_columns": null,
            "grid_auto_flow": null,
            "grid_auto_rows": null,
            "grid_column": null,
            "grid_gap": null,
            "grid_row": null,
            "grid_template_areas": null,
            "grid_template_columns": null,
            "grid_template_rows": null,
            "height": null,
            "justify_content": null,
            "justify_items": null,
            "left": null,
            "margin": null,
            "max_height": null,
            "max_width": null,
            "min_height": null,
            "min_width": null,
            "object_fit": null,
            "object_position": null,
            "order": null,
            "overflow": null,
            "overflow_x": null,
            "overflow_y": null,
            "padding": null,
            "right": null,
            "top": null,
            "visibility": null,
            "width": null
          }
        },
        "6fcfaadca3f34feb94c4c0c8ea982b23": {
          "model_module": "@jupyter-widgets/controls",
          "model_module_version": "1.5.0",
          "model_name": "DescriptionStyleModel",
          "state": {
            "_model_module": "@jupyter-widgets/controls",
            "_model_module_version": "1.5.0",
            "_model_name": "DescriptionStyleModel",
            "_view_count": null,
            "_view_module": "@jupyter-widgets/base",
            "_view_module_version": "1.2.0",
            "_view_name": "StyleView",
            "description_width": ""
          }
        },
        "78321433e6354fc59b1284e5c102092d": {
          "model_module": "@jupyter-widgets/base",
          "model_module_version": "1.2.0",
          "model_name": "LayoutModel",
          "state": {
            "_model_module": "@jupyter-widgets/base",
            "_model_module_version": "1.2.0",
            "_model_name": "LayoutModel",
            "_view_count": null,
            "_view_module": "@jupyter-widgets/base",
            "_view_module_version": "1.2.0",
            "_view_name": "LayoutView",
            "align_content": null,
            "align_items": null,
            "align_self": null,
            "border": null,
            "bottom": null,
            "display": null,
            "flex": null,
            "flex_flow": null,
            "grid_area": null,
            "grid_auto_columns": null,
            "grid_auto_flow": null,
            "grid_auto_rows": null,
            "grid_column": null,
            "grid_gap": null,
            "grid_row": null,
            "grid_template_areas": null,
            "grid_template_columns": null,
            "grid_template_rows": null,
            "height": null,
            "justify_content": null,
            "justify_items": null,
            "left": null,
            "margin": null,
            "max_height": null,
            "max_width": null,
            "min_height": null,
            "min_width": null,
            "object_fit": null,
            "object_position": null,
            "order": null,
            "overflow": null,
            "overflow_x": null,
            "overflow_y": null,
            "padding": null,
            "right": null,
            "top": null,
            "visibility": null,
            "width": null
          }
        },
        "78e45a202cd64fc58f6d4ae88c640ca7": {
          "model_module": "@jupyter-widgets/base",
          "model_module_version": "1.2.0",
          "model_name": "LayoutModel",
          "state": {
            "_model_module": "@jupyter-widgets/base",
            "_model_module_version": "1.2.0",
            "_model_name": "LayoutModel",
            "_view_count": null,
            "_view_module": "@jupyter-widgets/base",
            "_view_module_version": "1.2.0",
            "_view_name": "LayoutView",
            "align_content": null,
            "align_items": null,
            "align_self": null,
            "border": null,
            "bottom": null,
            "display": null,
            "flex": null,
            "flex_flow": null,
            "grid_area": null,
            "grid_auto_columns": null,
            "grid_auto_flow": null,
            "grid_auto_rows": null,
            "grid_column": null,
            "grid_gap": null,
            "grid_row": null,
            "grid_template_areas": null,
            "grid_template_columns": null,
            "grid_template_rows": null,
            "height": null,
            "justify_content": null,
            "justify_items": null,
            "left": null,
            "margin": null,
            "max_height": null,
            "max_width": null,
            "min_height": null,
            "min_width": null,
            "object_fit": null,
            "object_position": null,
            "order": null,
            "overflow": null,
            "overflow_x": null,
            "overflow_y": null,
            "padding": null,
            "right": null,
            "top": null,
            "visibility": null,
            "width": null
          }
        },
        "7b92678173c8454a87f07f3ad071d9d8": {
          "model_module": "@jupyter-widgets/controls",
          "model_module_version": "1.5.0",
          "model_name": "HTMLModel",
          "state": {
            "_dom_classes": [],
            "_model_module": "@jupyter-widgets/controls",
            "_model_module_version": "1.5.0",
            "_model_name": "HTMLModel",
            "_view_count": null,
            "_view_module": "@jupyter-widgets/controls",
            "_view_module_version": "1.5.0",
            "_view_name": "HTMLView",
            "description": "",
            "description_tooltip": null,
            "layout": "IPY_MODEL_78321433e6354fc59b1284e5c102092d",
            "placeholder": "​",
            "style": "IPY_MODEL_c80ade76154941df9294a266771675b7",
            "value": "model.safetensors: 100%"
          }
        },
        "8233170fced34925b94e279fef0bbab1": {
          "model_module": "@jupyter-widgets/controls",
          "model_module_version": "1.5.0",
          "model_name": "DescriptionStyleModel",
          "state": {
            "_model_module": "@jupyter-widgets/controls",
            "_model_module_version": "1.5.0",
            "_model_name": "DescriptionStyleModel",
            "_view_count": null,
            "_view_module": "@jupyter-widgets/base",
            "_view_module_version": "1.2.0",
            "_view_name": "StyleView",
            "description_width": ""
          }
        },
        "8326c1a15b19495d90faa13e4eb053ab": {
          "model_module": "@jupyter-widgets/controls",
          "model_module_version": "1.5.0",
          "model_name": "HTMLModel",
          "state": {
            "_dom_classes": [],
            "_model_module": "@jupyter-widgets/controls",
            "_model_module_version": "1.5.0",
            "_model_name": "HTMLModel",
            "_view_count": null,
            "_view_module": "@jupyter-widgets/controls",
            "_view_module_version": "1.5.0",
            "_view_name": "HTMLView",
            "description": "",
            "description_tooltip": null,
            "layout": "IPY_MODEL_00a605dcba3a4ab48ae0a3d7982859d6",
            "placeholder": "​",
            "style": "IPY_MODEL_8a3fdb65883c4edf8220d6633f6d7149",
            "value": "Downloading builder script: 100%"
          }
        },
        "896fc33fdcd74efd9645aca67455cb73": {
          "model_module": "@jupyter-widgets/controls",
          "model_module_version": "1.5.0",
          "model_name": "DescriptionStyleModel",
          "state": {
            "_model_module": "@jupyter-widgets/controls",
            "_model_module_version": "1.5.0",
            "_model_name": "DescriptionStyleModel",
            "_view_count": null,
            "_view_module": "@jupyter-widgets/base",
            "_view_module_version": "1.2.0",
            "_view_name": "StyleView",
            "description_width": ""
          }
        },
        "8a3fdb65883c4edf8220d6633f6d7149": {
          "model_module": "@jupyter-widgets/controls",
          "model_module_version": "1.5.0",
          "model_name": "DescriptionStyleModel",
          "state": {
            "_model_module": "@jupyter-widgets/controls",
            "_model_module_version": "1.5.0",
            "_model_name": "DescriptionStyleModel",
            "_view_count": null,
            "_view_module": "@jupyter-widgets/base",
            "_view_module_version": "1.2.0",
            "_view_name": "StyleView",
            "description_width": ""
          }
        },
        "8e3d27ee813e47e5be093c71e4d7d435": {
          "model_module": "@jupyter-widgets/base",
          "model_module_version": "1.2.0",
          "model_name": "LayoutModel",
          "state": {
            "_model_module": "@jupyter-widgets/base",
            "_model_module_version": "1.2.0",
            "_model_name": "LayoutModel",
            "_view_count": null,
            "_view_module": "@jupyter-widgets/base",
            "_view_module_version": "1.2.0",
            "_view_name": "LayoutView",
            "align_content": null,
            "align_items": null,
            "align_self": null,
            "border": null,
            "bottom": null,
            "display": null,
            "flex": null,
            "flex_flow": null,
            "grid_area": null,
            "grid_auto_columns": null,
            "grid_auto_flow": null,
            "grid_auto_rows": null,
            "grid_column": null,
            "grid_gap": null,
            "grid_row": null,
            "grid_template_areas": null,
            "grid_template_columns": null,
            "grid_template_rows": null,
            "height": null,
            "justify_content": null,
            "justify_items": null,
            "left": null,
            "margin": null,
            "max_height": null,
            "max_width": null,
            "min_height": null,
            "min_width": null,
            "object_fit": null,
            "object_position": null,
            "order": null,
            "overflow": null,
            "overflow_x": null,
            "overflow_y": null,
            "padding": null,
            "right": null,
            "top": null,
            "visibility": null,
            "width": null
          }
        },
        "8e425d41f84a40a99c94d3b4dda14867": {
          "model_module": "@jupyter-widgets/controls",
          "model_module_version": "1.5.0",
          "model_name": "ProgressStyleModel",
          "state": {
            "_model_module": "@jupyter-widgets/controls",
            "_model_module_version": "1.5.0",
            "_model_name": "ProgressStyleModel",
            "_view_count": null,
            "_view_module": "@jupyter-widgets/base",
            "_view_module_version": "1.2.0",
            "_view_name": "StyleView",
            "bar_color": null,
            "description_width": ""
          }
        },
        "aa85c5ab02fb4db7bd4bc52ca43344ec": {
          "model_module": "@jupyter-widgets/base",
          "model_module_version": "1.2.0",
          "model_name": "LayoutModel",
          "state": {
            "_model_module": "@jupyter-widgets/base",
            "_model_module_version": "1.2.0",
            "_model_name": "LayoutModel",
            "_view_count": null,
            "_view_module": "@jupyter-widgets/base",
            "_view_module_version": "1.2.0",
            "_view_name": "LayoutView",
            "align_content": null,
            "align_items": null,
            "align_self": null,
            "border": null,
            "bottom": null,
            "display": null,
            "flex": null,
            "flex_flow": null,
            "grid_area": null,
            "grid_auto_columns": null,
            "grid_auto_flow": null,
            "grid_auto_rows": null,
            "grid_column": null,
            "grid_gap": null,
            "grid_row": null,
            "grid_template_areas": null,
            "grid_template_columns": null,
            "grid_template_rows": null,
            "height": null,
            "justify_content": null,
            "justify_items": null,
            "left": null,
            "margin": null,
            "max_height": null,
            "max_width": null,
            "min_height": null,
            "min_width": null,
            "object_fit": null,
            "object_position": null,
            "order": null,
            "overflow": null,
            "overflow_x": null,
            "overflow_y": null,
            "padding": null,
            "right": null,
            "top": null,
            "visibility": null,
            "width": null
          }
        },
        "ac3887267a074b6eae9b6954ad9453c7": {
          "model_module": "@jupyter-widgets/base",
          "model_module_version": "1.2.0",
          "model_name": "LayoutModel",
          "state": {
            "_model_module": "@jupyter-widgets/base",
            "_model_module_version": "1.2.0",
            "_model_name": "LayoutModel",
            "_view_count": null,
            "_view_module": "@jupyter-widgets/base",
            "_view_module_version": "1.2.0",
            "_view_name": "LayoutView",
            "align_content": null,
            "align_items": null,
            "align_self": null,
            "border": null,
            "bottom": null,
            "display": null,
            "flex": null,
            "flex_flow": null,
            "grid_area": null,
            "grid_auto_columns": null,
            "grid_auto_flow": null,
            "grid_auto_rows": null,
            "grid_column": null,
            "grid_gap": null,
            "grid_row": null,
            "grid_template_areas": null,
            "grid_template_columns": null,
            "grid_template_rows": null,
            "height": null,
            "justify_content": null,
            "justify_items": null,
            "left": null,
            "margin": null,
            "max_height": null,
            "max_width": null,
            "min_height": null,
            "min_width": null,
            "object_fit": null,
            "object_position": null,
            "order": null,
            "overflow": null,
            "overflow_x": null,
            "overflow_y": null,
            "padding": null,
            "right": null,
            "top": null,
            "visibility": null,
            "width": null
          }
        },
        "b2c6ddd3a03a47c8af3359514157d1e6": {
          "model_module": "@jupyter-widgets/controls",
          "model_module_version": "1.5.0",
          "model_name": "DescriptionStyleModel",
          "state": {
            "_model_module": "@jupyter-widgets/controls",
            "_model_module_version": "1.5.0",
            "_model_name": "DescriptionStyleModel",
            "_view_count": null,
            "_view_module": "@jupyter-widgets/base",
            "_view_module_version": "1.2.0",
            "_view_name": "StyleView",
            "description_width": ""
          }
        },
        "c80ade76154941df9294a266771675b7": {
          "model_module": "@jupyter-widgets/controls",
          "model_module_version": "1.5.0",
          "model_name": "DescriptionStyleModel",
          "state": {
            "_model_module": "@jupyter-widgets/controls",
            "_model_module_version": "1.5.0",
            "_model_name": "DescriptionStyleModel",
            "_view_count": null,
            "_view_module": "@jupyter-widgets/base",
            "_view_module_version": "1.2.0",
            "_view_name": "StyleView",
            "description_width": ""
          }
        },
        "dc7d4735dbb744bca0d3b50603067eff": {
          "model_module": "@jupyter-widgets/controls",
          "model_module_version": "1.5.0",
          "model_name": "HTMLModel",
          "state": {
            "_dom_classes": [],
            "_model_module": "@jupyter-widgets/controls",
            "_model_module_version": "1.5.0",
            "_model_name": "HTMLModel",
            "_view_count": null,
            "_view_module": "@jupyter-widgets/controls",
            "_view_module_version": "1.5.0",
            "_view_name": "HTMLView",
            "description": "",
            "description_tooltip": null,
            "layout": "IPY_MODEL_53de1a5f57bd4e30a39a95eb742b1e92",
            "placeholder": "​",
            "style": "IPY_MODEL_b2c6ddd3a03a47c8af3359514157d1e6",
            "value": " 268M/268M [00:02&lt;00:00, 120MB/s]"
          }
        },
        "e5381aef039443e5a98b3106c7de4025": {
          "model_module": "@jupyter-widgets/controls",
          "model_module_version": "1.5.0",
          "model_name": "HBoxModel",
          "state": {
            "_dom_classes": [],
            "_model_module": "@jupyter-widgets/controls",
            "_model_module_version": "1.5.0",
            "_model_name": "HBoxModel",
            "_view_count": null,
            "_view_module": "@jupyter-widgets/controls",
            "_view_module_version": "1.5.0",
            "_view_name": "HBoxView",
            "box_style": "",
            "children": [
              "IPY_MODEL_7b92678173c8454a87f07f3ad071d9d8",
              "IPY_MODEL_2e01509c6cae4d148d5f449c846cc7d2",
              "IPY_MODEL_dc7d4735dbb744bca0d3b50603067eff"
            ],
            "layout": "IPY_MODEL_8e3d27ee813e47e5be093c71e4d7d435"
          }
        },
        "ee567feade364a7c90c317f3b8b58f3f": {
          "model_module": "@jupyter-widgets/base",
          "model_module_version": "1.2.0",
          "model_name": "LayoutModel",
          "state": {
            "_model_module": "@jupyter-widgets/base",
            "_model_module_version": "1.2.0",
            "_model_name": "LayoutModel",
            "_view_count": null,
            "_view_module": "@jupyter-widgets/base",
            "_view_module_version": "1.2.0",
            "_view_name": "LayoutView",
            "align_content": null,
            "align_items": null,
            "align_self": null,
            "border": null,
            "bottom": null,
            "display": null,
            "flex": null,
            "flex_flow": null,
            "grid_area": null,
            "grid_auto_columns": null,
            "grid_auto_flow": null,
            "grid_auto_rows": null,
            "grid_column": null,
            "grid_gap": null,
            "grid_row": null,
            "grid_template_areas": null,
            "grid_template_columns": null,
            "grid_template_rows": null,
            "height": null,
            "justify_content": null,
            "justify_items": null,
            "left": null,
            "margin": null,
            "max_height": null,
            "max_width": null,
            "min_height": null,
            "min_width": null,
            "object_fit": null,
            "object_position": null,
            "order": null,
            "overflow": null,
            "overflow_x": null,
            "overflow_y": null,
            "padding": null,
            "right": null,
            "top": null,
            "visibility": null,
            "width": null
          }
        },
        "f8117ed799cf4c7c9284c4c217c71b29": {
          "model_module": "@jupyter-widgets/controls",
          "model_module_version": "1.5.0",
          "model_name": "ProgressStyleModel",
          "state": {
            "_model_module": "@jupyter-widgets/controls",
            "_model_module_version": "1.5.0",
            "_model_name": "ProgressStyleModel",
            "_view_count": null,
            "_view_module": "@jupyter-widgets/base",
            "_view_module_version": "1.2.0",
            "_view_name": "StyleView",
            "bar_color": null,
            "description_width": ""
          }
        }
      }
    }
  },
  "nbformat": 4,
  "nbformat_minor": 5
}