{
  "cells": [
    {
      "cell_type": "markdown",
      "metadata": {
        "id": "2TUmM79GiPHW"
      },
      "source": [
        "# L4: Dependency parsing"
      ]
    },
    {
      "cell_type": "markdown",
      "metadata": {
        "id": "-kHACVoZiPHe"
      },
      "source": [
        "In this lab, you will implement a simplified version of the dependency parser presented by [Glavaš and Vulić (2021)](http://dx.doi.org/10.18653/v1/2021.eacl-main.270). This parser consists of a transformer encoder followed by a bi-affine layer that computes arc scores for all pairs of words. These scores are then used as logits in a classifier that predicts the position of the head of each word. In contrast to the parser described in the paper, yours will only support unlabelled parsing, that is, you will not implement what the authors call a *relation classifier*. As the encoder, you will use the [uncased DistilBERT base model](https://huggingface.co/docs/transformers/model_doc/distilbert) from the [Transformers](https://huggingface.co/docs/transformers/main/en/index) library, even though every other BERT-based encoder should work equally well."
      ]
    },
    {
      "cell_type": "markdown",
      "metadata": {
        "id": "BWXG6uj3iPHg"
      },
      "source": [
        "## Dataset"
      ]
    },
    {
      "cell_type": "markdown",
      "metadata": {
        "id": "HYGb_1eoiPHg"
      },
      "source": [
        "The data for this lab comes from the English Web Treebank from the [Universal Dependencies Project](http://universaldependencies.org). To read the data, we use the [CoNLL-U Parser](https://pypi.org/project/conllu/) library. The code in the next cell defines a PyTorch [Dataset](https://pytorch.org/docs/stable/data.html#torch.utils.data.Dataset) wrapper for the data."
      ]
    },
    {
      "cell_type": "code",
      "source": [
        "from google.colab import drive"
      ],
      "metadata": {
        "id": "K62n-RymigLd"
      },
      "execution_count": null,
      "outputs": []
    },
    {
      "cell_type": "code",
      "source": [
        "drive.mount('/content/drive')"
      ],
      "metadata": {
        "colab": {
          "base_uri": "https://localhost:8080/"
        },
        "id": "9IZRAPY3ihBg",
        "outputId": "e627cd01-f2c7-4344-f259-7d405f0a6f3d"
      },
      "execution_count": null,
      "outputs": [
        {
          "output_type": "stream",
          "name": "stdout",
          "text": [
            "Drive already mounted at /content/drive; to attempt to forcibly remount, call drive.mount(\"/content/drive\", force_remount=True).\n"
          ]
        }
      ]
    },
    {
      "cell_type": "code",
      "source": [
        "import torch"
      ],
      "metadata": {
        "id": "mEeRDelVilCz"
      },
      "execution_count": null,
      "outputs": []
    },
    {
      "cell_type": "code",
      "source": [
        "device = torch.device('cuda' if torch.cuda.is_available() else 'cpu')\n",
        "device"
      ],
      "metadata": {
        "colab": {
          "base_uri": "https://localhost:8080/"
        },
        "id": "LD_SBon8imym",
        "outputId": "fbf3474c-743a-4348-d76d-ed034cd8250d"
      },
      "execution_count": null,
      "outputs": [
        {
          "output_type": "execute_result",
          "data": {
            "text/plain": [
              "device(type='cuda')"
            ]
          },
          "metadata": {},
          "execution_count": 70
        }
      ]
    },
    {
      "cell_type": "code",
      "execution_count": null,
      "metadata": {
        "id": "wKQrlvd2iPHh",
        "colab": {
          "base_uri": "https://localhost:8080/"
        },
        "outputId": "fb11048b-df70-43c4-b8dd-b0cd5f614c44"
      },
      "outputs": [
        {
          "output_type": "stream",
          "name": "stdout",
          "text": [
            "Requirement already satisfied: conllu in /usr/local/lib/python3.10/dist-packages (4.5.3)\n"
          ]
        }
      ],
      "source": [
        "!pip install conllu\n",
        "import conllu\n",
        "\n",
        "from torch.utils.data import Dataset\n",
        "\n",
        "class ParserDataset(Dataset):\n",
        "\n",
        "    def __init__(self, filename):\n",
        "        super().__init__()\n",
        "        self.items = []\n",
        "        with open(filename, 'rt', encoding='utf-8') as fp:\n",
        "            for tokens in conllu.parse_incr(fp):\n",
        "                self.items.append([(t['form'], t['head']) for t in tokens if isinstance(t['id'], int)])\n",
        "\n",
        "    def __len__(self):\n",
        "        return len(self.items)\n",
        "\n",
        "    def __getitem__(self, idx):\n",
        "        return self.items[idx]"
      ]
    },
    {
      "cell_type": "markdown",
      "metadata": {
        "id": "FgXEPiC9iPHk"
      },
      "source": [
        "We can now load the training data:"
      ]
    },
    {
      "cell_type": "code",
      "execution_count": null,
      "metadata": {
        "id": "XvKU5s9IiPHl"
      },
      "outputs": [],
      "source": [
        "TRAIN_DATA = ParserDataset('/content/drive/MyDrive/TDDE09/lab4/en_ewt-ud-train.conllu')"
      ]
    },
    {
      "cell_type": "markdown",
      "metadata": {
        "id": "909nRWFCiPHm"
      },
      "source": [
        "Our data consists of **parsed sentences**. A parsed sentence is represented as a list of pairs. The first component of each pair (a string) represents a word; the second component (an integer) specifies the position of the word’s head, i.e., its parent in the dependency tree. Note that word positions are numbered starting at&nbsp;1; the head position&nbsp;0 represents the root of the tree.\n",
        "\n",
        "Run the next cell to see an example sentence:"
      ]
    },
    {
      "cell_type": "code",
      "execution_count": null,
      "metadata": {
        "id": "ac7xPwr0iPHn",
        "colab": {
          "base_uri": "https://localhost:8080/"
        },
        "outputId": "3272d383-f422-481e-e555-a3ab6f170d30"
      },
      "outputs": [
        {
          "output_type": "execute_result",
          "data": {
            "text/plain": [
              "(('I', 'like', 'yuor', 'blog', '.'), (2, 0, 4, 2, 2))"
            ]
          },
          "metadata": {},
          "execution_count": 73
        }
      ],
      "source": [
        "EXAMPLE_WORDS, EXAMPLE_HEADS = zip(*TRAIN_DATA[531])\n",
        "\n",
        "EXAMPLE_WORDS, EXAMPLE_HEADS"
      ]
    },
    {
      "cell_type": "markdown",
      "metadata": {
        "id": "rm-E3I7diPHn"
      },
      "source": [
        "The example sentence consists of five whitespace-separated words, including the final punctuation mark. The head of the pronoun *I* is the word at position&nbsp;2 – the verb *like*. The head of the word *like* is the root of the tree (position&nbsp;0). The dependents of *like* are *I* (position&nbsp;1), the noun *blog* (position&nbsp;4), and the final punctuation mark. Note that the pronoun *your* (position&nbsp;3) is misspelled as *yuor*."
      ]
    },
    {
      "cell_type": "markdown",
      "metadata": {
        "id": "TxwHinItiPHo"
      },
      "source": [
        "## Problem 1: Tokenisation (2 points)"
      ]
    },
    {
      "cell_type": "markdown",
      "metadata": {
        "id": "jgfBQ6j2iPHo"
      },
      "source": [
        "To feed parsed sentences to DistilBERT, we need to tokenise them and encode the resulting tokens as integers in the model vocabulary. We start by loading the DistilBERT tokeniser using the [Auto classes](https://huggingface.co/docs/transformers/v4.37.2/en/model_doc/auto):"
      ]
    },
    {
      "cell_type": "code",
      "execution_count": null,
      "metadata": {
        "id": "B_CrV56DiPHp"
      },
      "outputs": [],
      "source": [
        "from transformers import AutoTokenizer\n",
        "\n",
        "TOKENIZER = AutoTokenizer.from_pretrained('distilbert-base-uncased')"
      ]
    },
    {
      "cell_type": "markdown",
      "metadata": {
        "id": "rLHoGmCDiPHq"
      },
      "source": [
        "We can call the tokeniser on the example sentence as shown in the next cell. Note that we use the *is_split_into_words* keyword argument to indicate that the input is already pre-tokenised (split on whitespace)."
      ]
    },
    {
      "cell_type": "code",
      "execution_count": null,
      "metadata": {
        "id": "tD9OhwGQiPHq",
        "colab": {
          "base_uri": "https://localhost:8080/"
        },
        "outputId": "a643abea-13d1-4263-dfe0-23ce65b3521c"
      },
      "outputs": [
        {
          "output_type": "execute_result",
          "data": {
            "text/plain": [
              "{'input_ids': [101, 1045, 2066, 9805, 2953, 9927, 1012, 102], 'attention_mask': [1, 1, 1, 1, 1, 1, 1, 1]}"
            ]
          },
          "metadata": {},
          "execution_count": 75
        }
      ],
      "source": [
        "EXAMPLE_TOKENS = TOKENIZER(EXAMPLE_WORDS, is_split_into_words=True)\n",
        "EXAMPLE_TOKENS"
      ]
    },
    {
      "cell_type": "markdown",
      "metadata": {
        "id": "1h_3337FiPHr"
      },
      "source": [
        "The output of the tokeniser is an object of class [`BatchEncoding`](https://huggingface.co/docs/transformers/main_classes/tokenizer#transformers.BatchEncoding). The code in the following cell shows the list of tokens:"
      ]
    },
    {
      "cell_type": "code",
      "execution_count": null,
      "metadata": {
        "id": "1mCG9wypiPHr",
        "colab": {
          "base_uri": "https://localhost:8080/"
        },
        "outputId": "b54bc75b-c76c-47c0-97ab-1c16cf7a200e"
      },
      "outputs": [
        {
          "output_type": "execute_result",
          "data": {
            "text/plain": [
              "['[CLS]', 'i', 'like', 'yu', '##or', 'blog', '.', '[SEP]']"
            ]
          },
          "metadata": {},
          "execution_count": 76
        }
      ],
      "source": [
        "[TOKENIZER.decode(i) for i in EXAMPLE_TOKENS.input_ids]"
      ]
    },
    {
      "cell_type": "markdown",
      "metadata": {
        "id": "jF0bGOV1iPHs"
      },
      "source": [
        "As you can see, the tokeniser adds the special tokens `[CLS]` and `[SEP]` and splits unknown words (here: the misspelled word *yuor*) into sub-word tokens. We will need to keep track of which tokens correspond to which word. To achieve that, we can use the method [`word_to_tokens()`](https://huggingface.co/docs/transformers/main_classes/tokenizer#transformers.BatchEncoding.word_to_tokens), which gets us the encoded token span (an object of class [`TokenSpan`](https://huggingface.co/docs/transformers/internal/tokenization_utils#transformers.TokenSpan)) corresponding to a word in a sequence of the input batch:"
      ]
    },
    {
      "cell_type": "code",
      "execution_count": null,
      "metadata": {
        "id": "hqGKMoU6iPHs",
        "colab": {
          "base_uri": "https://localhost:8080/"
        },
        "outputId": "35726c1a-20af-44fd-e15f-43a3fabe15a1"
      },
      "outputs": [
        {
          "output_type": "stream",
          "name": "stdout",
          "text": [
            "TokenSpan(start=1, end=2) -> I\n",
            "TokenSpan(start=2, end=3) -> like\n",
            "TokenSpan(start=3, end=5) -> yuor\n",
            "TokenSpan(start=5, end=6) -> blog\n",
            "TokenSpan(start=6, end=7) -> .\n"
          ]
        }
      ],
      "source": [
        "for i, word in enumerate(EXAMPLE_WORDS):\n",
        "    print(EXAMPLE_TOKENS.word_to_tokens(i), '->', word)"
      ]
    },
    {
      "cell_type": "markdown",
      "metadata": {
        "id": "uXqcF8htiPHt"
      },
      "source": [
        "Your first task is to code a function `encode()` that takes a tokeniser and a list of sentences and returns the tokeniser&rsquo;s encoded input as well as the corresponding token spans. The following cell contains skeleton code for this function."
      ]
    },
    {
      "cell_type": "code",
      "execution_count": null,
      "metadata": {
        "id": "vO5oSxDxiPHu"
      },
      "outputs": [],
      "source": [
        "def encode(tokenizer, sentences):\n",
        "    token_spans = []\n",
        "    new_sentences = []\n",
        "    for sentence in sentences:\n",
        "      zipped_sentence, _ = zip(*sentence)\n",
        "      new_sentences.append(zipped_sentence)\n",
        "    tokenized_sentences = tokenizer(new_sentences, is_split_into_words=True, return_tensors='pt', padding=True)\n",
        "    for i in range(len(new_sentences)):\n",
        "        sentence_tokenspan = []\n",
        "        for j, word in enumerate(new_sentences[i]):\n",
        "            sentence_tokenspan.append(tokenized_sentences.word_to_tokens(i, j))\n",
        "        token_spans.append(sentence_tokenspan)\n",
        "    return tokenized_sentences, token_spans"
      ]
    },
    {
      "cell_type": "markdown",
      "metadata": {
        "id": "0HwAzf09iPHv"
      },
      "source": [
        "Implement this function to match the following specification:\n",
        "\n",
        "**encode** (*tokenizer*, *sentences*):\n",
        "\n",
        "> Uses the specified *tokenizer* to encode a batch of parsed sentences (*sentences*). Returns a pair consisting of a [`BatchEncoding`](https://huggingface.co/docs/transformers/main_classes/tokenizer#transformers.BatchEncoding) and a matching batch of token spans (as explained above). The [`BatchEncoding`](https://huggingface.co/docs/transformers/main_classes/tokenizer#transformers.BatchEncoding) is the standard batch encoding, but with tensors instead of lists of Python integers. Sentences have been truncated to the maximum acceptable input length."
      ]
    },
    {
      "cell_type": "markdown",
      "metadata": {
        "id": "zCl4XN0diPHw"
      },
      "source": [
        "### 🤞 Test your code\n",
        "\n",
        "To test you code, call `encode()` on a small number of sentences and check that output matches your expectations."
      ]
    },
    {
      "cell_type": "code",
      "source": [
        "tokens, tokenspans = encode(TOKENIZER, [TRAIN_DATA[531], TRAIN_DATA[532]])\n",
        "print(tokens)\n",
        "print(tokenspans)"
      ],
      "metadata": {
        "id": "qKkXtCH0qbCn",
        "colab": {
          "base_uri": "https://localhost:8080/"
        },
        "outputId": "caf09637-eb38-412a-9102-eb775fa4cb40"
      },
      "execution_count": null,
      "outputs": [
        {
          "output_type": "stream",
          "name": "stdout",
          "text": [
            "{'input_ids': tensor([[ 101, 1045, 2066, 9805, 2953, 9927, 1012,  102,    0,    0,    0,    0,\n",
            "            0],\n",
            "        [ 101, 3531, 4638, 2041, 2026, 2040, 2292, 1996, 3899, 2041, 9927, 1012,\n",
            "          102]]), 'attention_mask': tensor([[1, 1, 1, 1, 1, 1, 1, 1, 0, 0, 0, 0, 0],\n",
            "        [1, 1, 1, 1, 1, 1, 1, 1, 1, 1, 1, 1, 1]])}\n",
            "[[TokenSpan(start=1, end=2), TokenSpan(start=2, end=3), TokenSpan(start=3, end=5), TokenSpan(start=5, end=6), TokenSpan(start=6, end=7)], [TokenSpan(start=1, end=2), TokenSpan(start=2, end=3), TokenSpan(start=3, end=4), TokenSpan(start=4, end=5), TokenSpan(start=5, end=6), TokenSpan(start=6, end=7), TokenSpan(start=7, end=8), TokenSpan(start=8, end=9), TokenSpan(start=9, end=10), TokenSpan(start=10, end=11), TokenSpan(start=11, end=12)]]\n"
          ]
        }
      ]
    },
    {
      "cell_type": "markdown",
      "metadata": {
        "id": "H6zlxo_NiPHw"
      },
      "source": [
        "## Problem 2: Merging tokens (4 points)"
      ]
    },
    {
      "cell_type": "markdown",
      "metadata": {
        "id": "lN7g1lypiPHx"
      },
      "source": [
        "DistilBERT gives us a representation for each *token* in a sentence. To compute scores between pairs of *words*, we will need to combine the token representations that correspond to each word. A standard strategy for this is to take their element-wise mean. The next cell contains skeleton code for a function `merge_tokens()` that implements this strategy."
      ]
    },
    {
      "cell_type": "code",
      "execution_count": null,
      "metadata": {
        "id": "w30dV-u3iPHx"
      },
      "outputs": [],
      "source": [
        "def merge_tokens(tokens, token_spans):\n",
        "\n",
        "    batch_size, num_tokens, hidden_dim = tokens.shape\n",
        "    max_num_words = max(len(spans) for spans in token_spans)\n",
        "\n",
        "    result = torch.zeros(batch_size, max_num_words, hidden_dim).to(tokens.device)\n",
        "    for i in range(batch_size):\n",
        "      for j,span in enumerate(token_spans[i]):\n",
        "        result[i,j] = tokens[i, span.start:span.end].mean(dim=0)\n",
        "    return result\n",
        "\n",
        "\n",
        "\n"
      ]
    },
    {
      "cell_type": "markdown",
      "metadata": {
        "id": "2lIcwyRSiPHy"
      },
      "source": [
        "Implement this function to match the following specification:\n",
        "\n",
        "**merge_tokens** (*tokens*, *token_spans*)\n",
        "\n",
        "> Takes a batch of token vectors (*tokens*) and a list of matching token spans (*token_spans*) and returns a batch of word-level representations, computed using the element-wise mean. The token vectors are a tensor of shape (*batch_size*, *num_tokens*, *hidden_dim*), where *hidden_dim* is the dimensionality of the DistilBERT representations. The token spans are a nested list containing integer pairs, as computed in Problem&nbsp;1. The result is a tensor of shape (*batch_size*, *max_num_words*, *hidden_dim*), where *max_num_words* denotes the maximum number of words in any sentence in the batch. Entries corresponding to padding are represented by the zero vector of size *hidden_dim*."
      ]
    },
    {
      "cell_type": "markdown",
      "metadata": {
        "id": "v_MtZzvLiPHy"
      },
      "source": [
        "### 🤞 Test your code\n",
        "\n",
        "To test you code, create a sample input to `merge_tokens()` and check that the output matches your expectations."
      ]
    },
    {
      "cell_type": "code",
      "source": [
        "from transformers import AutoModel\n",
        "\n",
        "m = AutoModel.from_pretrained('distilbert-base-uncased')\n",
        "\n",
        "test = m(**tokens).last_hidden_state\n",
        "\n",
        "output = merge_tokens(test, tokenspans)\n",
        "print(output)"
      ],
      "metadata": {
        "id": "4XJmgbLp82zT",
        "colab": {
          "base_uri": "https://localhost:8080/"
        },
        "outputId": "e5874ee0-1b61-45e5-9473-661defc88513"
      },
      "execution_count": null,
      "outputs": [
        {
          "output_type": "stream",
          "name": "stdout",
          "text": [
            "tensor([[[ 0.2549,  0.0717,  0.0102,  ..., -0.1623,  0.4906,  0.3904],\n",
            "         [ 0.4452,  0.2506,  0.5796,  ..., -0.1421,  0.3125, -0.0098],\n",
            "         [-0.3183,  0.0133,  0.4869,  ..., -0.0500,  0.2308,  0.2228],\n",
            "         ...,\n",
            "         [ 0.0000,  0.0000,  0.0000,  ...,  0.0000,  0.0000,  0.0000],\n",
            "         [ 0.0000,  0.0000,  0.0000,  ...,  0.0000,  0.0000,  0.0000],\n",
            "         [ 0.0000,  0.0000,  0.0000,  ...,  0.0000,  0.0000,  0.0000]],\n",
            "\n",
            "        [[ 0.1671,  0.0907,  0.0222,  ...,  0.1022,  0.2065,  0.6775],\n",
            "         [ 0.4942,  0.1584,  0.4913,  ..., -0.0078,  0.1535, -0.0846],\n",
            "         [-0.0193,  0.0248,  0.1839,  ..., -0.0406,  0.1255,  0.3385],\n",
            "         ...,\n",
            "         [ 0.0492,  0.0931,  0.0876,  ..., -0.1577,  0.2371,  0.4129],\n",
            "         [ 0.4724,  0.2057,  0.1471,  ...,  0.1096,  0.0147,  0.0115],\n",
            "         [ 0.4504, -0.1158, -0.4571,  ...,  0.4080, -0.1775, -0.1592]]],\n",
            "       grad_fn=<CopySlices>)\n"
          ]
        }
      ]
    },
    {
      "cell_type": "markdown",
      "metadata": {
        "id": "JTxYSS0TiPHz"
      },
      "source": [
        "## Problem 3: Biaffine layer (2 points)"
      ]
    },
    {
      "cell_type": "markdown",
      "metadata": {
        "id": "OEGvQHg7iPHz"
      },
      "source": [
        "Your next task is to implement the bi-affine layer. Given matrices $X \\in \\mathbb{R}^{m \\times d}$ and $X' \\in \\mathbb{R}^{n \\times d}$, this layer computes a matrix $Y \\in \\mathbb{R}^{m \\times n}$ as"
      ]
    },
    {
      "cell_type": "markdown",
      "metadata": {
        "id": "g9wfJspAiPHz"
      },
      "source": [
        "$$\n",
        "Y = X W X'{}^\\top + b\n",
        "$$"
      ]
    },
    {
      "cell_type": "markdown",
      "metadata": {
        "id": "oGBiORKLiPH0"
      },
      "source": [
        "where $W \\in \\mathbb{R}^{d \\times d}$ and $b \\in \\mathbb{R}$ are learnable weight and bias parameters. In the context of the dependency parser, the matrices $X$ and $X'$ hold the word representations of all dependents and all heads in the input sentence, and the entries of the matrix $Y$ are interpreted as scores of possible dependency arcs. More specifically, the entry $Y_{ij}$ represents the score of an arc from a head word at position&nbsp;$j$ to a dependent at position&nbsp;$i$."
      ]
    },
    {
      "cell_type": "markdown",
      "metadata": {
        "id": "YkYqAo8EiPH2"
      },
      "source": [
        "\n",
        "The following cell contains skeleton code for the implementation of the bi-affine layer. Implement this layer according to the specification above."
      ]
    },
    {
      "cell_type": "code",
      "execution_count": null,
      "metadata": {
        "id": "9GQ54X4LiPH3"
      },
      "outputs": [],
      "source": [
        "import torch.nn as nn\n",
        "\n",
        "class Biaffine(nn.Module):\n",
        "\n",
        "    def __init__(self, encoder_dim):\n",
        "        super().__init__()\n",
        "        self.W = nn.Parameter(torch.zeros(encoder_dim, encoder_dim))\n",
        "        self.bias = nn.Parameter(torch.zeros(1))\n",
        "\n",
        "    def forward(self, x1, x2):\n",
        "        x1W = torch.matmul(x1, self.W)\n",
        "        Y = torch.matmul(x1W, x2.transpose(-1, -2)) + self.bias\n",
        "\n",
        "        return Y"
      ]
    },
    {
      "cell_type": "markdown",
      "metadata": {
        "id": "QK3QDP6-iPH4"
      },
      "source": [
        "**⚠️ Note that your implementation should be able to handle *batches* of input sentences.**"
      ]
    },
    {
      "cell_type": "markdown",
      "metadata": {
        "id": "1FdyxCD7iPH5"
      },
      "source": [
        "### 🤞 Test your code\n",
        "\n",
        "To test you code, create a sample input to the bi-affine layer as well as suitable weights and biases and check that the output of the `forward` method matches your expectations"
      ]
    },
    {
      "cell_type": "code",
      "source": [
        "batch_size = 2\n",
        "m = 3\n",
        "n = 4\n",
        "d = 5\n",
        "\n",
        "x1 = torch.rand(batch_size, m, d)\n",
        "x2 = torch.rand(batch_size, n, d)\n",
        "\n",
        "biaffine_model = Biaffine(d)\n",
        "\n",
        "output = biaffine_model(x1, x2)\n",
        "\n",
        "print(output.shape)  # Expected shape: (batch_size, m, n)\n"
      ],
      "metadata": {
        "id": "aES3ifOqO_oy",
        "colab": {
          "base_uri": "https://localhost:8080/"
        },
        "outputId": "3f89c997-76ed-4929-a33b-6784faeb6a6c"
      },
      "execution_count": null,
      "outputs": [
        {
          "output_type": "stream",
          "name": "stdout",
          "text": [
            "torch.Size([2, 3, 4])\n"
          ]
        }
      ]
    },
    {
      "cell_type": "markdown",
      "metadata": {
        "id": "oekI-C2TiPH6"
      },
      "source": [
        "## Problem 4: Parser (6 points)"
      ]
    },
    {
      "cell_type": "markdown",
      "metadata": {
        "id": "kGLLp22DiPH7"
      },
      "source": [
        "We are now ready to put the two main components of the parser together: the encoder (DistilBert) and the bi-affine layer that computes the arc scores. We also add a dropout layer between the two components.\n",
        "\n",
        "The following code cell contains skeleton code for the parsing model with the `init()` method already complete. Your task is to implement the `forward()` method. If you are unsure how things should be wired up, have another look at the slides."
      ]
    },
    {
      "cell_type": "code",
      "execution_count": null,
      "metadata": {
        "id": "xrgt3wiFiPH8"
      },
      "outputs": [],
      "source": [
        "import torch.nn as nn\n",
        "import torch\n",
        "\n",
        "from transformers import DistilBertModel, DistilBertPreTrainedModel\n",
        "\n",
        "class DistilBertForParsing(DistilBertPreTrainedModel):\n",
        "\n",
        "    def __init__(self, config, dropout=0.1):\n",
        "        super().__init__(config)\n",
        "        self.config = config\n",
        "        self.distilbert = DistilBertModel(config)\n",
        "        self.dropout = nn.Dropout(dropout)\n",
        "        self.biaffine = Biaffine(config.hidden_size)\n",
        "\n",
        "    def forward(self, encoded_input, token_spans):\n",
        "        distilbert_output = self.distilbert(input_ids=encoded_input.input_ids, attention_mask=encoded_input.attention_mask)\n",
        "        sequence_output = self.dropout(distilbert_output.last_hidden_state)\n",
        "        word_embeddings = merge_tokens(sequence_output, token_spans)\n",
        "        heads = torch.cat((sequence_output[:,0].unsqueeze(1), word_embeddings), dim=1)\n",
        "        arc_scores = self.biaffine(word_embeddings, heads)\n",
        "\n",
        "        return arc_scores"
      ]
    },
    {
      "cell_type": "markdown",
      "metadata": {
        "id": "pFJ5DZWTiPH9"
      },
      "source": [
        "Implement the `forward()` method to match the following specification:\n",
        "\n",
        "**forward** (*encoded_input*, *token_spans*)\n",
        "\n",
        "> Takes a tokeniser-encoded batch of sentences (*encoded_input*, of type `BatchEncoding`) and a corresponding nested list of token spans (*token_spans*) and returns a tensor with scores for each pair of words. More specifically, the output tensor $Y$ has shape (*batch_size*, *num_words*, *num_words+1*), where the entry $Y_{bij}$ represents the score of an arc from a head word at position&nbsp;$j$ to a dependent at position&nbsp;$i$ in the $b$th sentence of the batch. Note that the number of possible heads is one greater than the number of possible dependents because the possible heads include the root of the dependency tree, which we represent using the special token `[CLS]` (at position&nbsp;0)."
      ]
    },
    {
      "cell_type": "markdown",
      "metadata": {
        "id": "PVSFe1EaiPH-"
      },
      "source": [
        "### 🤞 Test your code\n",
        "\n",
        "To test you code, instantiate the parsing model and feed it a small batch of sentences."
      ]
    },
    {
      "cell_type": "code",
      "source": [
        "from transformers import DistilBertConfig\n",
        "config = DistilBertConfig()\n",
        "model = DistilBertForParsing(config)\n",
        "\n",
        "tokens, tokenspans = encode(TOKENIZER, [TRAIN_DATA[531]])\n",
        "\n",
        "scores = model.forward(tokens, tokenspans)\n",
        "\n",
        "print(scores.shape)\n",
        "\n"
      ],
      "metadata": {
        "id": "fEKqSpRiXJ34",
        "colab": {
          "base_uri": "https://localhost:8080/"
        },
        "outputId": "7010682f-f608-42c1-854d-813519203afb"
      },
      "execution_count": null,
      "outputs": [
        {
          "output_type": "stream",
          "name": "stdout",
          "text": [
            "torch.Size([1, 5, 6])\n"
          ]
        }
      ]
    },
    {
      "cell_type": "markdown",
      "metadata": {
        "id": "3i0GuHMriPH_"
      },
      "source": [
        "## Data loader"
      ]
    },
    {
      "cell_type": "markdown",
      "metadata": {
        "id": "Hd7SI9RwiPIA"
      },
      "source": [
        "We are now almost ready to train the parser. The missing piece is a data collator that prepares a batch of parsed sentences:\n",
        "\n",
        "* tokenises the sentences and extracts token spans using `encode()` (Problem&nbsp;1)\n",
        "* constructs the ground-truth head tensor needed to compute the loss (Problem&nbsp;2)\n",
        "\n",
        "The code in the next cell implements these two steps. For pseudo-words introduced through padding, we assign a head position of −100. This value is ignored by PyTorch’s cross-entropy loss function."
      ]
    },
    {
      "cell_type": "code",
      "execution_count": null,
      "metadata": {
        "id": "4u96IzKiiPIB"
      },
      "outputs": [],
      "source": [
        "import torch\n",
        "\n",
        "class ParserBatcher(object):\n",
        "\n",
        "    def __init__(self, tokenizer, device=None):\n",
        "        self.tokenizer = tokenizer\n",
        "        self.device = device\n",
        "\n",
        "    def __call__(self, parser_inputs):\n",
        "        encoded_input, start_indices = encode(self.tokenizer, parser_inputs)\n",
        "\n",
        "        # Get the maximal number of words, for padding\n",
        "        max_num_words = max(len(s) for s in parser_inputs)\n",
        "\n",
        "        # Construct tensor containing the ground-truth heads\n",
        "        all_heads = []\n",
        "        for parser_input in parser_inputs:\n",
        "            words, heads = zip(*parser_input)\n",
        "            heads = list(heads)\n",
        "            heads.extend([-100] * (max_num_words - len(heads)))  # -100 will be ignored\n",
        "            all_heads.append(heads)\n",
        "        all_heads = torch.LongTensor(all_heads)\n",
        "\n",
        "        # Send all data to the specified device\n",
        "        if self.device:\n",
        "            encoded_input = encoded_input.to(self.device)\n",
        "            all_heads = all_heads.to(self.device)\n",
        "\n",
        "        return encoded_input, start_indices, all_heads"
      ]
    },
    {
      "cell_type": "markdown",
      "metadata": {
        "id": "Ri-RoowNiPIB"
      },
      "source": [
        "## Training loop"
      ]
    },
    {
      "cell_type": "markdown",
      "metadata": {
        "id": "hZ7HpyF_iPIC"
      },
      "source": [
        "Finally, here is the training loop of the parser. Most of it is quite standard. The training loss of the parser is the cross-entropy between the head scores and the ground truth head positions. In other words, the parser is trained as a classifier that predicts the position of each word&rsquo;s head."
      ]
    },
    {
      "cell_type": "code",
      "execution_count": null,
      "metadata": {
        "id": "1rtUeSl9iPIC"
      },
      "outputs": [],
      "source": [
        "import torch.nn.functional as F\n",
        "\n",
        "from torch.optim import Adam\n",
        "from torch.utils.data import DataLoader\n",
        "from tqdm import tqdm\n",
        "\n",
        "DEVICE = torch.device('cuda' if torch.cuda.is_available() else 'cpu')\n",
        "\n",
        "#DEVICE = torch.device('mps')\n",
        "\n",
        "def train(dataset, n_epochs=1, lr=1e-5, batch_size=8):\n",
        "    # Initialise the tokeniser\n",
        "    tokenizer = AutoTokenizer.from_pretrained('distilbert-base-uncased')\n",
        "\n",
        "    # Initialise the encoder\n",
        "    model = DistilBertForParsing.from_pretrained('distilbert-base-uncased').to(DEVICE)\n",
        "\n",
        "    # Initialise the data loader\n",
        "    data_loader = DataLoader(dataset, batch_size=batch_size, collate_fn=ParserBatcher(tokenizer, device=DEVICE))\n",
        "\n",
        "    # Initialise the optimiser\n",
        "    optimizer = Adam(model.parameters(), lr=lr)\n",
        "\n",
        "    # Train for the specified number of epochs\n",
        "    for epoch in range(n_epochs):\n",
        "        model.train()\n",
        "\n",
        "        # We keep track of the running loss\n",
        "        running_loss = 0\n",
        "        n_batches = 0\n",
        "        with tqdm(total=len(dataset)) as pbar:\n",
        "            pbar.set_description(f'Epoch {epoch+1}')\n",
        "\n",
        "            # Process a batch of samples\n",
        "            for encoded_input, token_spans, gold_heads in data_loader:\n",
        "                optimizer.zero_grad()\n",
        "                encoded_input = encoded_input.to(DEVICE)\n",
        "\n",
        "                # Compute the arc scores\n",
        "                arc_scores = model.forward(encoded_input, token_spans)\n",
        "                # shape: [batch_size, num_words, num_words+1]\n",
        "\n",
        "                # Flatten arc_scores and gold_heads for cross_entropy\n",
        "                loss = F.cross_entropy(arc_scores.flatten(0, -2), gold_heads.view(-1))\n",
        "                # shape of the flattened arc_scores: [batch_size * num_words, num_words+1]\n",
        "                # shape of the flattened gold_heads: [batch_size * num_words]\n",
        "\n",
        "                # Backward pass\n",
        "                loss.backward()\n",
        "                optimizer.step()\n",
        "\n",
        "                # Update the loss\n",
        "                running_loss += loss.item()\n",
        "                n_batches += 1\n",
        "                pbar.set_postfix(loss=running_loss/n_batches)\n",
        "                pbar.update(len(token_spans))\n",
        "\n",
        "    return model"
      ]
    },
    {
      "cell_type": "markdown",
      "metadata": {
        "id": "n9B6NG9OiPIC"
      },
      "source": [
        "We are now ready to train the parser. With a GPU, you should expect training times of approximately 3&nbsp;minutes per epoch."
      ]
    },
    {
      "cell_type": "code",
      "execution_count": null,
      "metadata": {
        "id": "2iLQqBr4iPID",
        "colab": {
          "base_uri": "https://localhost:8080/"
        },
        "outputId": "d881ab2e-70ec-41fa-da75-1a1b7efbc2dd"
      },
      "outputs": [
        {
          "output_type": "stream",
          "name": "stderr",
          "text": [
            "Some weights of DistilBertForParsing were not initialized from the model checkpoint at distilbert-base-uncased and are newly initialized: ['biaffine.bias', 'biaffine.W']\n",
            "You should probably TRAIN this model on a down-stream task to be able to use it for predictions and inference.\n",
            "Epoch 1: 100%|██████████| 12544/12544 [02:18<00:00, 90.67it/s, loss=0.727]\n"
          ]
        }
      ],
      "source": [
        "PARSING_MODEL = train(TRAIN_DATA, n_epochs=1)"
      ]
    },
    {
      "cell_type": "markdown",
      "metadata": {
        "id": "jo8qLofHiPID"
      },
      "source": [
        "## Problem 5: Evaluation (2 points)"
      ]
    },
    {
      "cell_type": "markdown",
      "metadata": {
        "id": "A_T-t4gtiPIE"
      },
      "source": [
        "Dependency parsers are commonly evaluated using **unlabelled attachment score (UAS)**, which is the percentage of (non-root) words that have been assigned their correct heads. The following cell contains skeleton code for a function `uas()` that computes this score on a given dataset."
      ]
    },
    {
      "cell_type": "code",
      "execution_count": 97,
      "metadata": {
        "id": "-jzb8qjsiPIE"
      },
      "outputs": [],
      "source": [
        "def uas(tokenizer, model, filename, batch_size=8):\n",
        "    data_loader = DataLoader(filename, batch_size=batch_size, collate_fn=ParserBatcher(tokenizer, device=DEVICE))\n",
        "    model.eval()\n",
        "\n",
        "    correct_heads = 0\n",
        "    total_words = 0\n",
        "\n",
        "    with torch.no_grad():\n",
        "        for encoded_input, token_spans, gold_heads in data_loader:\n",
        "\n",
        "            arc_scores = model.forward(encoded_input, token_spans)\n",
        "\n",
        "            predicted_heads = torch.argmax(arc_scores, dim=-1)\n",
        "            mask = (gold_heads != -100)\n",
        "            predicted_heads = predicted_heads[mask]\n",
        "            gold_heads = gold_heads[mask]\n",
        "            correct_heads += torch.sum(predicted_heads == gold_heads)\n",
        "            total_words += torch.sum(mask)\n",
        "\n",
        "    uas_score = correct_heads.item() / total_words.item() * 100.0\n",
        "    return uas_score"
      ]
    },
    {
      "cell_type": "markdown",
      "metadata": {
        "id": "bl9ca_O6iPIF"
      },
      "source": [
        "Implement the `uas()` function to match the following specification:\n",
        "\n",
        "**uas** (*tokenizer*, *model*, *filename*)\n",
        "\n",
        "> Takes a tokenizer (*tokenizer*), a trained parsing model (*model*), and the filename of a dataset in the CoNLLU format (*filename*) and returns the unlabelled attachment score of the model on the tokenised dataset."
      ]
    },
    {
      "cell_type": "markdown",
      "metadata": {
        "id": "usG1iGCaiPIG"
      },
      "source": [
        "**⚠️ Note that pseudo-words corresponding to padding must be excluded from the calculation of the UAS.**"
      ]
    },
    {
      "cell_type": "markdown",
      "metadata": {
        "id": "3R_l3MdkiPIG"
      },
      "source": [
        "The code in the following cell evaluates the trained parser on the development section of the data:"
      ]
    },
    {
      "cell_type": "code",
      "execution_count": 98,
      "metadata": {
        "id": "P9PoaoipiPIG",
        "colab": {
          "base_uri": "https://localhost:8080/"
        },
        "outputId": "97da7d95-0af2-4bf2-8e66-921fc0648eb8"
      },
      "outputs": [
        {
          "output_type": "execute_result",
          "data": {
            "text/plain": [
              "88.23412461728101"
            ]
          },
          "metadata": {},
          "execution_count": 98
        }
      ],
      "source": [
        "uas(TOKENIZER, PARSING_MODEL, ParserDataset('/content/drive/MyDrive/TDDE09/lab4/en_ewt-ud-dev.conllu'))"
      ]
    },
    {
      "cell_type": "markdown",
      "metadata": {
        "id": "SrEF9iJWiPIH"
      },
      "source": [
        "**Your notebook must contain output demonstrating at least 86% UAS on the development data.**"
      ]
    },
    {
      "cell_type": "markdown",
      "metadata": {
        "id": "UM3FE47uiPIH"
      },
      "source": [
        "## Problem 6: Counting trees (6 points)"
      ]
    },
    {
      "cell_type": "markdown",
      "metadata": {
        "id": "o6KYgjmUiPIH"
      },
      "source": [
        "In the last problem of this lab, we ask you to take a closer look at the graph-theoretic properties of the outputs of your trained model.\n",
        "\n",
        "The following cell contains code that will use the tokeniser and your trained model to parse the development data and write the gold-standard dependency trees as well as the dependency trees predicted by the parser to a JSON file:"
      ]
    },
    {
      "cell_type": "code",
      "execution_count": 99,
      "metadata": {
        "id": "WWjgT7E_iPIH"
      },
      "outputs": [],
      "source": [
        "import json\n",
        "\n",
        "dataset = ParserDataset('/content/drive/MyDrive/TDDE09/lab4/en_ewt-ud-dev.conllu')\n",
        "data_loader = DataLoader(dataset, collate_fn=ParserBatcher(TOKENIZER, device=DEVICE))\n",
        "\n",
        "with open('graphs.jsonl', 'wt') as fp:\n",
        "    for encoded_input, token_spans, gold_heads in data_loader:\n",
        "        with torch.no_grad():\n",
        "            head_scores = PARSING_MODEL.forward(encoded_input, token_spans)\n",
        "            pred_heads = torch.argmax(head_scores, dim=-1)\n",
        "        for gold, pred in zip(gold_heads, pred_heads):\n",
        "            mask = gold.ne(-100)\n",
        "            print(json.dumps((gold[mask].tolist(), pred[mask].tolist())), file=fp)"
      ]
    },
    {
      "cell_type": "code",
      "source": [
        "!python /content/drive/MyDrive/TDDE09/lab4/analyze.py graphs.jsonl"
      ],
      "metadata": {
        "colab": {
          "base_uri": "https://localhost:8080/"
        },
        "id": "qbXXuoPpMzdl",
        "outputId": "5c1e1e69-bce5-4b53-a9b8-e4097fd5198e"
      },
      "execution_count": null,
      "outputs": [
        {
          "output_type": "stream",
          "name": "stdout",
          "text": [
            "{'total': 2001, 'gold': {'acyclic': 2001, 'connected': 2001, 'tree': 2001, 'projective': 1959}, 'pred': {'acyclic': 2001, 'connected': 1833, 'tree': 1833, 'projective': 1596}}\n"
          ]
        }
      ]
    },
    {
      "cell_type": "markdown",
      "metadata": {
        "id": "4mGQQrU7iPII"
      },
      "source": [
        "The lab directory contains a script `analyze.py` that you can use to compute statistics on various graph-theoretic properties: total number of graphs, number of acyclic graphs, connected graphs, trees, and projective trees. Document your exploration in a short reflection piece (ca.&nbsp;150 words). Respond to the following prompts\n",
        "\n",
        "* What are the results of this exploration? Summarise the statistics you obtained.\n",
        "* Based on what you know about the parser, did you expect your results? Was there anything surprising in them?\n",
        "* What did you learn? How, exactly, did you learn it? Why does this learning matter?"
      ]
    },
    {
      "cell_type": "markdown",
      "source": [
        "These are the obtained statistics: {'total': 2001, 'gold': {'acyclic': 2001, 'connected': 2001, 'tree': 2001, 'projective': 1959},\n",
        "'pred': {'acyclic': 2001, 'connected': 1833, 'tree': 1833, 'projective': 1596}}\n",
        "\n",
        "These results show that the predictions were very good. The predictions correctly identified all acyclic graphs meaning that it was good at avoiding cycles. The number of connected graphs were 1833 of 2001 which is a high percent but not perfect. Finally the predictions were worse at identifying projected trees. I found it interesting that the parser were as good as it was. But that it was better at identifing connected and acyclic graphs than projective trees seems reasonable with the parsers objective (understand how words relate to eachother in a sentence) in mind. Since the parser does not focus directly on creating/identifing projective trees it should not do it perfectly. I learned this by combining knowledge from the lecture slides and the lab experience."
      ],
      "metadata": {
        "id": "CVTRF5TLT4yd"
      }
    },
    {
      "cell_type": "markdown",
      "metadata": {
        "id": "Zlx8ce1ZiPII"
      },
      "source": [
        "**🥳 Congratulations on finishing this lab! 🥳**"
      ]
    }
  ],
  "metadata": {
    "colab": {
      "provenance": [],
      "gpuType": "T4"
    },
    "kernelspec": {
      "display_name": "Python 3",
      "name": "python3"
    },
    "language_info": {
      "codemirror_mode": {
        "name": "ipython",
        "version": 3
      },
      "file_extension": ".py",
      "mimetype": "text/x-python",
      "name": "python",
      "nbconvert_exporter": "python",
      "pygments_lexer": "ipython3"
    },
    "accelerator": "GPU"
  },
  "nbformat": 4,
  "nbformat_minor": 0
}